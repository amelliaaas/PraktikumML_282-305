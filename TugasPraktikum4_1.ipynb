{
  "nbformat": 4,
  "nbformat_minor": 0,
  "metadata": {
    "colab": {
      "name": "TugasPraktikum4_1.ipynb",
      "provenance": [],
      "authorship_tag": "ABX9TyMX3Q4P9NE3d18NlxW0ympu",
      "include_colab_link": true
    },
    "kernelspec": {
      "name": "python3",
      "display_name": "Python 3"
    },
    "language_info": {
      "name": "python"
    }
  },
  "cells": [
    {
      "cell_type": "markdown",
      "metadata": {
        "id": "view-in-github",
        "colab_type": "text"
      },
      "source": [
        "<a href=\"https://colab.research.google.com/github/amelliaaas/PraktikumML_282-305/blob/main/TugasPraktikum4_1.ipynb\" target=\"_parent\"><img src=\"https://colab.research.google.com/assets/colab-badge.svg\" alt=\"Open In Colab\"/></a>"
      ]
    },
    {
      "cell_type": "markdown",
      "metadata": {
        "id": "JxHX4WpqiKDq"
      },
      "source": [
        " **1. Load Dataset**"
      ]
    },
    {
      "cell_type": "code",
      "metadata": {
        "colab": {
          "base_uri": "https://localhost:8080/"
        },
        "id": "Qu08QE4khu4b",
        "outputId": "18569c3c-3b29-4ac9-842e-8891af532a03"
      },
      "source": [
        "from google.colab import drive\n",
        "drive.mount('/content/drive')"
      ],
      "execution_count": 1,
      "outputs": [
        {
          "output_type": "stream",
          "name": "stdout",
          "text": [
            "Mounted at /content/drive\n"
          ]
        }
      ]
    },
    {
      "cell_type": "code",
      "metadata": {
        "colab": {
          "base_uri": "https://localhost:8080/"
        },
        "id": "pgj6g-0Kh2o7",
        "outputId": "35f033f0-95aa-424f-954b-89d665aa1f15"
      },
      "source": [
        "%cd /content/drive/MyDrive/Covid_data/Covid19-dataset/datasets"
      ],
      "execution_count": 13,
      "outputs": [
        {
          "output_type": "stream",
          "name": "stdout",
          "text": [
            "/content/drive/MyDrive/Covid_data/Covid19-dataset/datasets\n"
          ]
        }
      ]
    },
    {
      "cell_type": "code",
      "metadata": {
        "colab": {
          "base_uri": "https://localhost:8080/"
        },
        "id": "FtTz5pmairEC",
        "outputId": "f62d449b-8b45-490c-c497-86ec6400d3fb"
      },
      "source": [
        "!ls"
      ],
      "execution_count": 14,
      "outputs": [
        {
          "output_type": "stream",
          "name": "stdout",
          "text": [
            "test  train  val\n"
          ]
        }
      ]
    },
    {
      "cell_type": "code",
      "metadata": {
        "colab": {
          "base_uri": "https://localhost:8080/"
        },
        "id": "Wo0g7poMzgEX",
        "outputId": "4a393869-b100-46da-db87-71bf46a79d21"
      },
      "source": [
        "!kaggle datasets download -d pranavraikokte/covid19-image-dataset"
      ],
      "execution_count": null,
      "outputs": [
        {
          "output_type": "stream",
          "name": "stdout",
          "text": [
            "Downloading covid19-image-dataset.zip to /content/drive/My Drive/Covid_data\n",
            " 99% 156M/158M [00:01<00:00, 104MB/s] \n",
            "100% 158M/158M [00:01<00:00, 106MB/s]\n"
          ]
        }
      ]
    },
    {
      "cell_type": "code",
      "metadata": {
        "colab": {
          "base_uri": "https://localhost:8080/"
        },
        "id": "p_dA981HznDo",
        "outputId": "403f8066-65df-4783-9f11-ebf3fbae5b6b"
      },
      "source": [
        "!ls"
      ],
      "execution_count": null,
      "outputs": [
        {
          "output_type": "stream",
          "name": "stdout",
          "text": [
            "covid19-image-dataset.zip  kaggle.json\n"
          ]
        }
      ]
    },
    {
      "cell_type": "code",
      "metadata": {
        "id": "M1bggH6-53tm"
      },
      "source": [
        "!unzip \\*.zip &> /dev/null && rm *.zip"
      ],
      "execution_count": null,
      "outputs": []
    },
    {
      "cell_type": "code",
      "metadata": {
        "colab": {
          "base_uri": "https://localhost:8080/"
        },
        "id": "xosZWsoZ6TvM",
        "outputId": "c7daf1fb-d359-4e7a-ef9c-f678ee641064"
      },
      "source": [
        "!ls"
      ],
      "execution_count": null,
      "outputs": [
        {
          "output_type": "stream",
          "name": "stdout",
          "text": [
            "Covid19-dataset  kaggle.json\n"
          ]
        }
      ]
    },
    {
      "cell_type": "code",
      "metadata": {
        "id": "gwBnev066WN2"
      },
      "source": [
        "!mkdir dataset"
      ],
      "execution_count": null,
      "outputs": []
    },
    {
      "cell_type": "code",
      "metadata": {
        "id": "9D--XHl37HCS"
      },
      "source": [
        "import os\n",
        "base_dir = 'datasets'\n",
        "\n",
        "train_dir = os.path.join(base_dir, 'test')\n",
        "test_dir = os.path.join(base_dir, 'train')\n",
        "val_dir = os.path.join(base_dir, 'val')\n",
        "\n",
        "train_covid_dir = os.path.join(train_dir, 'Covid')\n",
        "train_normal_dir = os.path.join(train_dir, 'Normal')\n",
        "train_pneumonia_dir = os.path.join(train_dir, 'Viral Pneumonia')\n",
        "\n",
        "test_covid_dir = os.path.join(test_dir, 'Covid')\n",
        "test_normal_dir = os.path.join(test_dir, 'Normal')\n",
        "test_pneumonia_dir = os.path.join(test_dir, 'Viral Pneumonia')\n",
        "\n",
        "val_covid_dir = os.path.join(val_dir, 'Covid')\n",
        "val_normal_dir = os.path.join(val_dir, 'Normal')\n",
        "val_pneumonia_dir = os.path.join(val_dir, 'Viral Pneumonia')\n"
      ],
      "execution_count": 15,
      "outputs": []
    },
    {
      "cell_type": "code",
      "metadata": {
        "colab": {
          "base_uri": "https://localhost:8080/"
        },
        "id": "uktpPTa3CI5h",
        "outputId": "e824877d-ba58-4207-94ef-cf5e6b3a0744"
      },
      "source": [
        "ls"
      ],
      "execution_count": 16,
      "outputs": [
        {
          "output_type": "stream",
          "name": "stdout",
          "text": [
            "\u001b[0m\u001b[01;34mtest\u001b[0m/  \u001b[01;34mtrain\u001b[0m/  \u001b[01;34mval\u001b[0m/\n"
          ]
        }
      ]
    },
    {
      "cell_type": "code",
      "metadata": {
        "colab": {
          "base_uri": "https://localhost:8080/",
          "height": 35
        },
        "id": "h-XysiRVCL2B",
        "outputId": "40f11dba-f8dc-4d58-ca4e-5459d5406dd2"
      },
      "source": [
        "test_covid_dir"
      ],
      "execution_count": 17,
      "outputs": [
        {
          "output_type": "execute_result",
          "data": {
            "application/vnd.google.colaboratory.intrinsic+json": {
              "type": "string"
            },
            "text/plain": [
              "'datasets/train/Covid'"
            ]
          },
          "metadata": {},
          "execution_count": 17
        }
      ]
    },
    {
      "cell_type": "code",
      "metadata": {
        "colab": {
          "base_uri": "https://localhost:8080/"
        },
        "id": "pRI5ZLzBCebh",
        "outputId": "398e4165-5fd4-43dd-dd5a-ad957c83c6ec"
      },
      "source": [
        "ls"
      ],
      "execution_count": 18,
      "outputs": [
        {
          "output_type": "stream",
          "name": "stdout",
          "text": [
            "\u001b[0m\u001b[01;34mtest\u001b[0m/  \u001b[01;34mtrain\u001b[0m/  \u001b[01;34mval\u001b[0m/\n"
          ]
        }
      ]
    },
    {
      "cell_type": "markdown",
      "metadata": {
        "id": "Zdl1uSB_M7DE"
      },
      "source": [
        "**2. Spliting Data**"
      ]
    },
    {
      "cell_type": "code",
      "metadata": {
        "colab": {
          "base_uri": "https://localhost:8080/"
        },
        "id": "wcmV2ReU_3hI",
        "outputId": "e13ba13b-cbd6-49eb-f4cf-6502152a2e9a"
      },
      "source": [
        "pip install split-folders"
      ],
      "execution_count": null,
      "outputs": [
        {
          "output_type": "stream",
          "name": "stdout",
          "text": [
            "Requirement already satisfied: split-folders in /usr/local/lib/python3.7/dist-packages (0.4.3)\n"
          ]
        }
      ]
    },
    {
      "cell_type": "code",
      "metadata": {
        "colab": {
          "base_uri": "https://localhost:8080/"
        },
        "id": "7iYA4FBDMQeL",
        "outputId": "53785235-7782-407c-d362-a6818da1b908"
      },
      "source": [
        "import splitfolders\n",
        "splitfolders.ratio(train_dir, output=\"Covid19-dataset/datasets\", seed=1337, ratio=(.7, .15, .15))"
      ],
      "execution_count": null,
      "outputs": [
        {
          "output_type": "stream",
          "name": "stderr",
          "text": [
            "Copying files: 311 files [00:07, 41.98 files/s]\n"
          ]
        }
      ]
    },
    {
      "cell_type": "markdown",
      "metadata": {
        "id": "_R-_yr1TNsVH"
      },
      "source": [
        "**4. Prerocessing**"
      ]
    },
    {
      "cell_type": "code",
      "metadata": {
        "id": "-52ERfkJ4N8J"
      },
      "source": [
        "base_dir = \"/content/drive/MyDrive/Covid_data/Covid19-dataset/datasets\"\n"
      ],
      "execution_count": 25,
      "outputs": []
    },
    {
      "cell_type": "code",
      "metadata": {
        "id": "zBOcLmiaMXuR"
      },
      "source": [
        "# Definisikan path untuk data train test dan validation\n",
        "# sesuaikan dengan path anda\n",
        "import os\n",
        "\n",
        "train_path = os.path.join(base_dir, 'train')\n",
        "test_path  = os.path.join(base_dir, 'test')\n",
        "val_path   = os.path.join(base_dir, 'val')"
      ],
      "execution_count": 26,
      "outputs": []
    },
    {
      "cell_type": "code",
      "metadata": {
        "colab": {
          "base_uri": "https://localhost:8080/"
        },
        "id": "3usv0sTFM18K",
        "outputId": "74634d34-869d-4dc9-a53e-010bff150ffc"
      },
      "source": [
        "# TULIS KODE ANDA DISINI\n",
        "\n",
        "from keras.preprocessing.image import ImageDataGenerator\n",
        "from sklearn.utils import shuffle\n",
        "\n",
        "batch_size = 32\n",
        "augmen_gen = ImageDataGenerator(rescale=1. / 255,\n",
        "                                rotation_range=40,\n",
        "                                width_shift_range=0.2,\n",
        "                                height_shift_range=0.2,\n",
        "                                zoom_range=0.2,\n",
        "                                horizontal_flip=True,\n",
        "                                fill_mode='nearest')\n",
        "\n",
        "train_gen = augmen_gen.flow_from_directory(\n",
        "    train_path,\n",
        "    class_mode = 'categorical',\n",
        "    shuffle=True,\n",
        "    target_size = (224,224),\n",
        "    batch_size=batch_size,\n",
        "    color_mode ='rgb'\n",
        ")\n",
        "\n",
        "val_gen = augmen_gen.flow_from_directory(\n",
        "    val_path,\n",
        "    class_mode = 'categorical',\n",
        "    shuffle=True,\n",
        "    target_size = (224,224),\n",
        "    batch_size= batch_size,\n",
        "    color_mode ='rgb'\n",
        ")\n",
        "\n",
        "test_gen = augmen_gen.flow_from_directory(\n",
        "    test_path,\n",
        "    class_mode = 'categorical',\n",
        "    shuffle=False,\n",
        "    target_size = (224,224),\n",
        "    batch_size=batch_size,\n",
        "    color_mode ='rgb',\n",
        ")"
      ],
      "execution_count": 27,
      "outputs": [
        {
          "output_type": "stream",
          "name": "stdout",
          "text": [
            "Found 215 images belonging to 3 classes.\n",
            "Found 45 images belonging to 3 classes.\n",
            "Found 51 images belonging to 3 classes.\n"
          ]
        }
      ]
    },
    {
      "cell_type": "markdown",
      "metadata": {
        "id": "tsPLCIKh7JDK"
      },
      "source": [
        "**5. Modelling**"
      ]
    },
    {
      "cell_type": "code",
      "metadata": {
        "id": "rMNNuuEiNFmd"
      },
      "source": [
        "# IMPORT SEMUA PAKET YANG ANDA PERLUKAN UNTUK MENDEFINISIKAN MODEL DISINI\n",
        "\n",
        "from tensorflow.keras.models import Sequential\n",
        "from tensorflow.keras.layers import InputLayer, Dense, Conv2D, MaxPool2D, Flatten, BatchNormalization, Dropout\n",
        "from tensorflow.keras.callbacks import ModelCheckpoint, ReduceLROnPlateau, EarlyStopping\n",
        "from tensorflow.keras.optimizers import Adam\n",
        "import time"
      ],
      "execution_count": 31,
      "outputs": []
    },
    {
      "cell_type": "code",
      "metadata": {
        "id": "VoHbcxleONSs"
      },
      "source": [
        "# DEFINISIKAN MODEL ANDA DISINI\n",
        "\n",
        "#Feature Selection\n",
        "model = Sequential()\n",
        "\n",
        "model.add(InputLayer(input_shape=[224,224,3]))\n",
        "model.add(Conv2D(filters=16, kernel_size=3, strides=1, padding='same', activation='elu'))\n",
        "model.add(BatchNormalization())\n",
        "model.add(MaxPool2D(pool_size=2, padding='same'))\n",
        "model.add(Conv2D(filters=32, kernel_size=3, strides=1, padding='same', activation='elu'))\n",
        "model.add(BatchNormalization())\n",
        "model.add(MaxPool2D(pool_size=2, padding='same'))\n",
        "model.add(Conv2D(filters=64, kernel_size=3, strides=1, padding='same', activation='elu'))\n",
        "model.add(BatchNormalization())\n",
        "model.add(MaxPool2D(pool_size=2, padding='same'))\n",
        "model.add(Conv2D(filters=128, kernel_size=3, strides=1, padding='same', activation='elu'))\n",
        "model.add(BatchNormalization())\n",
        "model.add(MaxPool2D(pool_size=2, padding='same'))\n",
        "model.add(Dropout(0.25))\n",
        "model.add(BatchNormalization())\n",
        "model.add(Flatten())\n",
        "\n",
        "#Fully Connected Layer\n",
        "model.add(Dense(128, activation='elu'))\n",
        "model.add(Dropout(0.5))\n",
        "model.add(Dense(3, activation='softmax'))\n"
      ],
      "execution_count": 33,
      "outputs": []
    },
    {
      "cell_type": "code",
      "metadata": {
        "colab": {
          "base_uri": "https://localhost:8080/"
        },
        "id": "QnDx3tb-ORTU",
        "outputId": "c179d243-f0bc-409a-883e-ad3032bbd36b"
      },
      "source": [
        "print(model.summary())"
      ],
      "execution_count": 34,
      "outputs": [
        {
          "output_type": "stream",
          "name": "stdout",
          "text": [
            "Model: \"sequential_1\"\n",
            "_________________________________________________________________\n",
            " Layer (type)                Output Shape              Param #   \n",
            "=================================================================\n",
            " conv2d (Conv2D)             (None, 224, 224, 16)      448       \n",
            "                                                                 \n",
            " batch_normalization (BatchN  (None, 224, 224, 16)     64        \n",
            " ormalization)                                                   \n",
            "                                                                 \n",
            " max_pooling2d (MaxPooling2D  (None, 112, 112, 16)     0         \n",
            " )                                                               \n",
            "                                                                 \n",
            " conv2d_1 (Conv2D)           (None, 112, 112, 32)      4640      \n",
            "                                                                 \n",
            " batch_normalization_1 (Batc  (None, 112, 112, 32)     128       \n",
            " hNormalization)                                                 \n",
            "                                                                 \n",
            " max_pooling2d_1 (MaxPooling  (None, 56, 56, 32)       0         \n",
            " 2D)                                                             \n",
            "                                                                 \n",
            " conv2d_2 (Conv2D)           (None, 56, 56, 64)        18496     \n",
            "                                                                 \n",
            " batch_normalization_2 (Batc  (None, 56, 56, 64)       256       \n",
            " hNormalization)                                                 \n",
            "                                                                 \n",
            " max_pooling2d_2 (MaxPooling  (None, 28, 28, 64)       0         \n",
            " 2D)                                                             \n",
            "                                                                 \n",
            " conv2d_3 (Conv2D)           (None, 28, 28, 128)       73856     \n",
            "                                                                 \n",
            " batch_normalization_3 (Batc  (None, 28, 28, 128)      512       \n",
            " hNormalization)                                                 \n",
            "                                                                 \n",
            " max_pooling2d_3 (MaxPooling  (None, 14, 14, 128)      0         \n",
            " 2D)                                                             \n",
            "                                                                 \n",
            " dropout (Dropout)           (None, 14, 14, 128)       0         \n",
            "                                                                 \n",
            " batch_normalization_4 (Batc  (None, 14, 14, 128)      512       \n",
            " hNormalization)                                                 \n",
            "                                                                 \n",
            " flatten (Flatten)           (None, 25088)             0         \n",
            "                                                                 \n",
            " dense (Dense)               (None, 128)               3211392   \n",
            "                                                                 \n",
            " dropout_1 (Dropout)         (None, 128)               0         \n",
            "                                                                 \n",
            " dense_1 (Dense)             (None, 3)                 387       \n",
            "                                                                 \n",
            "=================================================================\n",
            "Total params: 3,310,691\n",
            "Trainable params: 3,309,955\n",
            "Non-trainable params: 736\n",
            "_________________________________________________________________\n",
            "None\n"
          ]
        }
      ]
    },
    {
      "cell_type": "code",
      "metadata": {
        "id": "r5StrzSG-Ib7"
      },
      "source": [
        "# TULIS CODE CALLBACKS ANDA DISINI\n",
        "\n",
        "best_model_path = 'best_model.h5'\n",
        "checkpoint_callback = ModelCheckpoint(best_model_path,\n",
        "                                      monitor='val_accuracy',\n",
        "                                      save_best_only=True,\n",
        "                                      verbose=1)\n",
        "reduce_callback = ReduceLROnPlateau(monitor='val_accuracy', patience=3, factor=0.5, min_lr=0.0005, verbose=1)\n",
        "callbacks_list = [checkpoint_callback, reduce_callback]"
      ],
      "execution_count": 44,
      "outputs": []
    },
    {
      "cell_type": "code",
      "metadata": {
        "colab": {
          "base_uri": "https://localhost:8080/"
        },
        "id": "ER9j4WOfOYkk",
        "outputId": "e71c8b8b-68d3-4a6c-ed07-edf3b3c17058"
      },
      "source": [
        "# TULIS CODE UNTUK TRAINING DISINI\n",
        "from tensorflow.keras.optimizers import SGD\n",
        "\n",
        "model.compile(optimizer=SGD(lr=0.001, decay=0.001/20), # decay = learning_rate / batch_size \n",
        "              loss='categorical_crossentropy', \n",
        "              metrics=['accuracy'])"
      ],
      "execution_count": 81,
      "outputs": [
        {
          "output_type": "stream",
          "name": "stderr",
          "text": [
            "/usr/local/lib/python3.7/dist-packages/keras/optimizer_v2/gradient_descent.py:102: UserWarning: The `lr` argument is deprecated, use `learning_rate` instead.\n",
            "  super(SGD, self).__init__(name, **kwargs)\n"
          ]
        }
      ]
    },
    {
      "cell_type": "code",
      "metadata": {
        "colab": {
          "base_uri": "https://localhost:8080/"
        },
        "id": "OY_btf5tOaWB",
        "outputId": "86ec87d4-dfa1-4461-84d2-a29284b24925"
      },
      "source": [
        "\n",
        "\n",
        "\n",
        "# TULIS CODE UNTUK MENCETAK LAMA TRAINING TIME DISINI\n",
        "\n",
        "start = time.time()\n",
        "H = model.fit_generator(train_gen, epochs=100,validation_data=val_gen, validation_steps = 4, callbacks=[callbacks_list])\n",
        "\n",
        "End = time.time()\n",
        "print (\"training time: \", End-start,\"s\")  # the time would be round to 3 decimal in seconds"
      ],
      "execution_count": 82,
      "outputs": [
        {
          "output_type": "stream",
          "name": "stderr",
          "text": [
            "/usr/local/lib/python3.7/dist-packages/ipykernel_launcher.py:7: UserWarning: `Model.fit_generator` is deprecated and will be removed in a future version. Please use `Model.fit`, which supports generators.\n",
            "  import sys\n"
          ]
        },
        {
          "output_type": "stream",
          "name": "stdout",
          "text": [
            "Epoch 1/100\n",
            "7/7 [==============================] - ETA: 0s - loss: 0.4563 - accuracy: 0.7674WARNING:tensorflow:Your input ran out of data; interrupting training. Make sure that your dataset or generator can generate at least `steps_per_epoch * epochs` batches (in this case, 4 batches). You may need to use the repeat() function when building your dataset.\n",
            "\n",
            "Epoch 00001: val_accuracy improved from -inf to 0.84444, saving model to best_model.h5\n",
            "7/7 [==============================] - 34s 5s/step - loss: 0.4563 - accuracy: 0.7674 - val_loss: 0.4090 - val_accuracy: 0.8444 - lr: 0.0010\n",
            "Epoch 2/100\n",
            "7/7 [==============================] - ETA: 0s - loss: 0.3695 - accuracy: 0.8465WARNING:tensorflow:Can save best model only with val_accuracy available, skipping.\n",
            "WARNING:tensorflow:Learning rate reduction is conditioned on metric `val_accuracy` which is not available. Available metrics are: loss,accuracy,lr\n",
            "7/7 [==============================] - 27s 4s/step - loss: 0.3695 - accuracy: 0.8465 - lr: 0.0010\n",
            "Epoch 3/100\n",
            "7/7 [==============================] - ETA: 0s - loss: 0.3848 - accuracy: 0.8279WARNING:tensorflow:Can save best model only with val_accuracy available, skipping.\n",
            "WARNING:tensorflow:Learning rate reduction is conditioned on metric `val_accuracy` which is not available. Available metrics are: loss,accuracy,lr\n",
            "7/7 [==============================] - 26s 4s/step - loss: 0.3848 - accuracy: 0.8279 - lr: 0.0010\n",
            "Epoch 4/100\n",
            "7/7 [==============================] - ETA: 0s - loss: 0.5050 - accuracy: 0.8047WARNING:tensorflow:Can save best model only with val_accuracy available, skipping.\n",
            "WARNING:tensorflow:Learning rate reduction is conditioned on metric `val_accuracy` which is not available. Available metrics are: loss,accuracy,lr\n",
            "7/7 [==============================] - 26s 3s/step - loss: 0.5050 - accuracy: 0.8047 - lr: 0.0010\n",
            "Epoch 5/100\n",
            "7/7 [==============================] - ETA: 0s - loss: 0.4033 - accuracy: 0.8093WARNING:tensorflow:Can save best model only with val_accuracy available, skipping.\n",
            "WARNING:tensorflow:Learning rate reduction is conditioned on metric `val_accuracy` which is not available. Available metrics are: loss,accuracy,lr\n",
            "7/7 [==============================] - 26s 3s/step - loss: 0.4033 - accuracy: 0.8093 - lr: 0.0010\n",
            "Epoch 6/100\n",
            "7/7 [==============================] - ETA: 0s - loss: 0.4189 - accuracy: 0.8047WARNING:tensorflow:Can save best model only with val_accuracy available, skipping.\n",
            "WARNING:tensorflow:Learning rate reduction is conditioned on metric `val_accuracy` which is not available. Available metrics are: loss,accuracy,lr\n",
            "7/7 [==============================] - 26s 3s/step - loss: 0.4189 - accuracy: 0.8047 - lr: 0.0010\n",
            "Epoch 7/100\n",
            "7/7 [==============================] - ETA: 0s - loss: 0.3981 - accuracy: 0.8186WARNING:tensorflow:Can save best model only with val_accuracy available, skipping.\n",
            "WARNING:tensorflow:Learning rate reduction is conditioned on metric `val_accuracy` which is not available. Available metrics are: loss,accuracy,lr\n",
            "7/7 [==============================] - 26s 4s/step - loss: 0.3981 - accuracy: 0.8186 - lr: 0.0010\n",
            "Epoch 8/100\n",
            "7/7 [==============================] - ETA: 0s - loss: 0.3342 - accuracy: 0.8698WARNING:tensorflow:Can save best model only with val_accuracy available, skipping.\n",
            "WARNING:tensorflow:Learning rate reduction is conditioned on metric `val_accuracy` which is not available. Available metrics are: loss,accuracy,lr\n",
            "7/7 [==============================] - 26s 4s/step - loss: 0.3342 - accuracy: 0.8698 - lr: 0.0010\n",
            "Epoch 9/100\n",
            "7/7 [==============================] - ETA: 0s - loss: 0.4041 - accuracy: 0.8558WARNING:tensorflow:Can save best model only with val_accuracy available, skipping.\n",
            "WARNING:tensorflow:Learning rate reduction is conditioned on metric `val_accuracy` which is not available. Available metrics are: loss,accuracy,lr\n",
            "7/7 [==============================] - 27s 4s/step - loss: 0.4041 - accuracy: 0.8558 - lr: 0.0010\n",
            "Epoch 10/100\n",
            "7/7 [==============================] - ETA: 0s - loss: 0.3439 - accuracy: 0.8465WARNING:tensorflow:Can save best model only with val_accuracy available, skipping.\n",
            "WARNING:tensorflow:Learning rate reduction is conditioned on metric `val_accuracy` which is not available. Available metrics are: loss,accuracy,lr\n",
            "7/7 [==============================] - 26s 4s/step - loss: 0.3439 - accuracy: 0.8465 - lr: 0.0010\n",
            "Epoch 11/100\n",
            "7/7 [==============================] - ETA: 0s - loss: 0.2960 - accuracy: 0.8605WARNING:tensorflow:Can save best model only with val_accuracy available, skipping.\n",
            "WARNING:tensorflow:Learning rate reduction is conditioned on metric `val_accuracy` which is not available. Available metrics are: loss,accuracy,lr\n",
            "7/7 [==============================] - 27s 4s/step - loss: 0.2960 - accuracy: 0.8605 - lr: 0.0010\n",
            "Epoch 12/100\n",
            "7/7 [==============================] - ETA: 0s - loss: 0.4700 - accuracy: 0.8233WARNING:tensorflow:Can save best model only with val_accuracy available, skipping.\n",
            "WARNING:tensorflow:Learning rate reduction is conditioned on metric `val_accuracy` which is not available. Available metrics are: loss,accuracy,lr\n",
            "7/7 [==============================] - 27s 4s/step - loss: 0.4700 - accuracy: 0.8233 - lr: 0.0010\n",
            "Epoch 13/100\n",
            "7/7 [==============================] - ETA: 0s - loss: 0.4063 - accuracy: 0.8279WARNING:tensorflow:Can save best model only with val_accuracy available, skipping.\n",
            "WARNING:tensorflow:Learning rate reduction is conditioned on metric `val_accuracy` which is not available. Available metrics are: loss,accuracy,lr\n",
            "7/7 [==============================] - 27s 4s/step - loss: 0.4063 - accuracy: 0.8279 - lr: 0.0010\n",
            "Epoch 14/100\n",
            "7/7 [==============================] - ETA: 0s - loss: 0.4433 - accuracy: 0.8326WARNING:tensorflow:Can save best model only with val_accuracy available, skipping.\n",
            "WARNING:tensorflow:Learning rate reduction is conditioned on metric `val_accuracy` which is not available. Available metrics are: loss,accuracy,lr\n",
            "7/7 [==============================] - 27s 4s/step - loss: 0.4433 - accuracy: 0.8326 - lr: 0.0010\n",
            "Epoch 15/100\n",
            "7/7 [==============================] - ETA: 0s - loss: 0.4220 - accuracy: 0.8326WARNING:tensorflow:Can save best model only with val_accuracy available, skipping.\n",
            "WARNING:tensorflow:Learning rate reduction is conditioned on metric `val_accuracy` which is not available. Available metrics are: loss,accuracy,lr\n",
            "7/7 [==============================] - 26s 4s/step - loss: 0.4220 - accuracy: 0.8326 - lr: 0.0010\n",
            "Epoch 16/100\n",
            "7/7 [==============================] - ETA: 0s - loss: 0.4054 - accuracy: 0.8140WARNING:tensorflow:Can save best model only with val_accuracy available, skipping.\n",
            "WARNING:tensorflow:Learning rate reduction is conditioned on metric `val_accuracy` which is not available. Available metrics are: loss,accuracy,lr\n",
            "7/7 [==============================] - 27s 4s/step - loss: 0.4054 - accuracy: 0.8140 - lr: 0.0010\n",
            "Epoch 17/100\n",
            "7/7 [==============================] - ETA: 0s - loss: 0.3723 - accuracy: 0.8465WARNING:tensorflow:Can save best model only with val_accuracy available, skipping.\n",
            "WARNING:tensorflow:Learning rate reduction is conditioned on metric `val_accuracy` which is not available. Available metrics are: loss,accuracy,lr\n",
            "7/7 [==============================] - 27s 4s/step - loss: 0.3723 - accuracy: 0.8465 - lr: 0.0010\n",
            "Epoch 18/100\n",
            "7/7 [==============================] - ETA: 0s - loss: 0.3589 - accuracy: 0.8698WARNING:tensorflow:Can save best model only with val_accuracy available, skipping.\n",
            "WARNING:tensorflow:Learning rate reduction is conditioned on metric `val_accuracy` which is not available. Available metrics are: loss,accuracy,lr\n",
            "7/7 [==============================] - 27s 4s/step - loss: 0.3589 - accuracy: 0.8698 - lr: 0.0010\n",
            "Epoch 19/100\n",
            "7/7 [==============================] - ETA: 0s - loss: 0.4065 - accuracy: 0.8186WARNING:tensorflow:Can save best model only with val_accuracy available, skipping.\n",
            "WARNING:tensorflow:Learning rate reduction is conditioned on metric `val_accuracy` which is not available. Available metrics are: loss,accuracy,lr\n",
            "7/7 [==============================] - 27s 3s/step - loss: 0.4065 - accuracy: 0.8186 - lr: 0.0010\n",
            "Epoch 20/100\n",
            "7/7 [==============================] - ETA: 0s - loss: 0.3829 - accuracy: 0.8419WARNING:tensorflow:Can save best model only with val_accuracy available, skipping.\n",
            "WARNING:tensorflow:Learning rate reduction is conditioned on metric `val_accuracy` which is not available. Available metrics are: loss,accuracy,lr\n",
            "7/7 [==============================] - 26s 3s/step - loss: 0.3829 - accuracy: 0.8419 - lr: 0.0010\n",
            "Epoch 21/100\n",
            "7/7 [==============================] - ETA: 0s - loss: 0.3387 - accuracy: 0.8791WARNING:tensorflow:Can save best model only with val_accuracy available, skipping.\n",
            "WARNING:tensorflow:Learning rate reduction is conditioned on metric `val_accuracy` which is not available. Available metrics are: loss,accuracy,lr\n",
            "7/7 [==============================] - 26s 3s/step - loss: 0.3387 - accuracy: 0.8791 - lr: 0.0010\n",
            "Epoch 22/100\n",
            "7/7 [==============================] - ETA: 0s - loss: 0.4174 - accuracy: 0.8233WARNING:tensorflow:Can save best model only with val_accuracy available, skipping.\n",
            "WARNING:tensorflow:Learning rate reduction is conditioned on metric `val_accuracy` which is not available. Available metrics are: loss,accuracy,lr\n",
            "7/7 [==============================] - 27s 4s/step - loss: 0.4174 - accuracy: 0.8233 - lr: 0.0010\n",
            "Epoch 23/100\n",
            "7/7 [==============================] - ETA: 0s - loss: 0.3472 - accuracy: 0.8465WARNING:tensorflow:Can save best model only with val_accuracy available, skipping.\n",
            "WARNING:tensorflow:Learning rate reduction is conditioned on metric `val_accuracy` which is not available. Available metrics are: loss,accuracy,lr\n",
            "7/7 [==============================] - 27s 4s/step - loss: 0.3472 - accuracy: 0.8465 - lr: 0.0010\n",
            "Epoch 24/100\n",
            "7/7 [==============================] - ETA: 0s - loss: 0.4178 - accuracy: 0.8512WARNING:tensorflow:Can save best model only with val_accuracy available, skipping.\n",
            "WARNING:tensorflow:Learning rate reduction is conditioned on metric `val_accuracy` which is not available. Available metrics are: loss,accuracy,lr\n",
            "7/7 [==============================] - 26s 3s/step - loss: 0.4178 - accuracy: 0.8512 - lr: 0.0010\n",
            "Epoch 25/100\n",
            "7/7 [==============================] - ETA: 0s - loss: 0.3914 - accuracy: 0.8419WARNING:tensorflow:Can save best model only with val_accuracy available, skipping.\n",
            "WARNING:tensorflow:Learning rate reduction is conditioned on metric `val_accuracy` which is not available. Available metrics are: loss,accuracy,lr\n",
            "7/7 [==============================] - 26s 3s/step - loss: 0.3914 - accuracy: 0.8419 - lr: 0.0010\n",
            "Epoch 26/100\n",
            "7/7 [==============================] - ETA: 0s - loss: 0.3570 - accuracy: 0.8419WARNING:tensorflow:Can save best model only with val_accuracy available, skipping.\n",
            "WARNING:tensorflow:Learning rate reduction is conditioned on metric `val_accuracy` which is not available. Available metrics are: loss,accuracy,lr\n",
            "7/7 [==============================] - 26s 4s/step - loss: 0.3570 - accuracy: 0.8419 - lr: 0.0010\n",
            "Epoch 27/100\n",
            "7/7 [==============================] - ETA: 0s - loss: 0.3810 - accuracy: 0.8419WARNING:tensorflow:Can save best model only with val_accuracy available, skipping.\n",
            "WARNING:tensorflow:Learning rate reduction is conditioned on metric `val_accuracy` which is not available. Available metrics are: loss,accuracy,lr\n",
            "7/7 [==============================] - 26s 3s/step - loss: 0.3810 - accuracy: 0.8419 - lr: 0.0010\n",
            "Epoch 28/100\n",
            "7/7 [==============================] - ETA: 0s - loss: 0.3985 - accuracy: 0.8279WARNING:tensorflow:Can save best model only with val_accuracy available, skipping.\n",
            "WARNING:tensorflow:Learning rate reduction is conditioned on metric `val_accuracy` which is not available. Available metrics are: loss,accuracy,lr\n",
            "7/7 [==============================] - 26s 3s/step - loss: 0.3985 - accuracy: 0.8279 - lr: 0.0010\n",
            "Epoch 29/100\n",
            "7/7 [==============================] - ETA: 0s - loss: 0.4199 - accuracy: 0.8419WARNING:tensorflow:Can save best model only with val_accuracy available, skipping.\n",
            "WARNING:tensorflow:Learning rate reduction is conditioned on metric `val_accuracy` which is not available. Available metrics are: loss,accuracy,lr\n",
            "7/7 [==============================] - 26s 4s/step - loss: 0.4199 - accuracy: 0.8419 - lr: 0.0010\n",
            "Epoch 30/100\n",
            "7/7 [==============================] - ETA: 0s - loss: 0.4379 - accuracy: 0.8558WARNING:tensorflow:Can save best model only with val_accuracy available, skipping.\n",
            "WARNING:tensorflow:Learning rate reduction is conditioned on metric `val_accuracy` which is not available. Available metrics are: loss,accuracy,lr\n",
            "7/7 [==============================] - 26s 3s/step - loss: 0.4379 - accuracy: 0.8558 - lr: 0.0010\n",
            "Epoch 31/100\n",
            "7/7 [==============================] - ETA: 0s - loss: 0.3987 - accuracy: 0.8372WARNING:tensorflow:Can save best model only with val_accuracy available, skipping.\n",
            "WARNING:tensorflow:Learning rate reduction is conditioned on metric `val_accuracy` which is not available. Available metrics are: loss,accuracy,lr\n",
            "7/7 [==============================] - 26s 3s/step - loss: 0.3987 - accuracy: 0.8372 - lr: 0.0010\n",
            "Epoch 32/100\n",
            "7/7 [==============================] - ETA: 0s - loss: 0.3912 - accuracy: 0.8279WARNING:tensorflow:Can save best model only with val_accuracy available, skipping.\n",
            "WARNING:tensorflow:Learning rate reduction is conditioned on metric `val_accuracy` which is not available. Available metrics are: loss,accuracy,lr\n",
            "7/7 [==============================] - 26s 4s/step - loss: 0.3912 - accuracy: 0.8279 - lr: 0.0010\n",
            "Epoch 33/100\n",
            "7/7 [==============================] - ETA: 0s - loss: 0.4802 - accuracy: 0.7953WARNING:tensorflow:Can save best model only with val_accuracy available, skipping.\n",
            "WARNING:tensorflow:Learning rate reduction is conditioned on metric `val_accuracy` which is not available. Available metrics are: loss,accuracy,lr\n",
            "7/7 [==============================] - 27s 4s/step - loss: 0.4802 - accuracy: 0.7953 - lr: 0.0010\n",
            "Epoch 34/100\n",
            "7/7 [==============================] - ETA: 0s - loss: 0.3697 - accuracy: 0.8698WARNING:tensorflow:Can save best model only with val_accuracy available, skipping.\n",
            "WARNING:tensorflow:Learning rate reduction is conditioned on metric `val_accuracy` which is not available. Available metrics are: loss,accuracy,lr\n",
            "7/7 [==============================] - 27s 4s/step - loss: 0.3697 - accuracy: 0.8698 - lr: 0.0010\n",
            "Epoch 35/100\n",
            "7/7 [==============================] - ETA: 0s - loss: 0.3986 - accuracy: 0.8512WARNING:tensorflow:Can save best model only with val_accuracy available, skipping.\n",
            "WARNING:tensorflow:Learning rate reduction is conditioned on metric `val_accuracy` which is not available. Available metrics are: loss,accuracy,lr\n",
            "7/7 [==============================] - 26s 4s/step - loss: 0.3986 - accuracy: 0.8512 - lr: 0.0010\n",
            "Epoch 36/100\n",
            "7/7 [==============================] - ETA: 0s - loss: 0.3686 - accuracy: 0.8326WARNING:tensorflow:Can save best model only with val_accuracy available, skipping.\n",
            "WARNING:tensorflow:Learning rate reduction is conditioned on metric `val_accuracy` which is not available. Available metrics are: loss,accuracy,lr\n",
            "7/7 [==============================] - 27s 4s/step - loss: 0.3686 - accuracy: 0.8326 - lr: 0.0010\n",
            "Epoch 37/100\n",
            "7/7 [==============================] - ETA: 0s - loss: 0.4095 - accuracy: 0.8512WARNING:tensorflow:Can save best model only with val_accuracy available, skipping.\n",
            "WARNING:tensorflow:Learning rate reduction is conditioned on metric `val_accuracy` which is not available. Available metrics are: loss,accuracy,lr\n",
            "7/7 [==============================] - 26s 4s/step - loss: 0.4095 - accuracy: 0.8512 - lr: 0.0010\n",
            "Epoch 38/100\n",
            "7/7 [==============================] - ETA: 0s - loss: 0.3976 - accuracy: 0.8419WARNING:tensorflow:Can save best model only with val_accuracy available, skipping.\n",
            "WARNING:tensorflow:Learning rate reduction is conditioned on metric `val_accuracy` which is not available. Available metrics are: loss,accuracy,lr\n",
            "7/7 [==============================] - 26s 3s/step - loss: 0.3976 - accuracy: 0.8419 - lr: 0.0010\n",
            "Epoch 39/100\n",
            "7/7 [==============================] - ETA: 0s - loss: 0.4290 - accuracy: 0.8465WARNING:tensorflow:Can save best model only with val_accuracy available, skipping.\n",
            "WARNING:tensorflow:Learning rate reduction is conditioned on metric `val_accuracy` which is not available. Available metrics are: loss,accuracy,lr\n",
            "7/7 [==============================] - 27s 4s/step - loss: 0.4290 - accuracy: 0.8465 - lr: 0.0010\n",
            "Epoch 40/100\n",
            "7/7 [==============================] - ETA: 0s - loss: 0.4122 - accuracy: 0.8186WARNING:tensorflow:Can save best model only with val_accuracy available, skipping.\n",
            "WARNING:tensorflow:Learning rate reduction is conditioned on metric `val_accuracy` which is not available. Available metrics are: loss,accuracy,lr\n",
            "7/7 [==============================] - 27s 4s/step - loss: 0.4122 - accuracy: 0.8186 - lr: 0.0010\n",
            "Epoch 41/100\n",
            "7/7 [==============================] - ETA: 0s - loss: 0.4195 - accuracy: 0.8140WARNING:tensorflow:Can save best model only with val_accuracy available, skipping.\n",
            "WARNING:tensorflow:Learning rate reduction is conditioned on metric `val_accuracy` which is not available. Available metrics are: loss,accuracy,lr\n",
            "7/7 [==============================] - 27s 4s/step - loss: 0.4195 - accuracy: 0.8140 - lr: 0.0010\n",
            "Epoch 42/100\n",
            "7/7 [==============================] - ETA: 0s - loss: 0.3798 - accuracy: 0.8791WARNING:tensorflow:Can save best model only with val_accuracy available, skipping.\n",
            "WARNING:tensorflow:Learning rate reduction is conditioned on metric `val_accuracy` which is not available. Available metrics are: loss,accuracy,lr\n",
            "7/7 [==============================] - 27s 4s/step - loss: 0.3798 - accuracy: 0.8791 - lr: 0.0010\n",
            "Epoch 43/100\n",
            "7/7 [==============================] - ETA: 0s - loss: 0.3621 - accuracy: 0.8512WARNING:tensorflow:Can save best model only with val_accuracy available, skipping.\n",
            "WARNING:tensorflow:Learning rate reduction is conditioned on metric `val_accuracy` which is not available. Available metrics are: loss,accuracy,lr\n",
            "7/7 [==============================] - 27s 4s/step - loss: 0.3621 - accuracy: 0.8512 - lr: 0.0010\n",
            "Epoch 44/100\n",
            "7/7 [==============================] - ETA: 0s - loss: 0.4042 - accuracy: 0.8326WARNING:tensorflow:Can save best model only with val_accuracy available, skipping.\n",
            "WARNING:tensorflow:Learning rate reduction is conditioned on metric `val_accuracy` which is not available. Available metrics are: loss,accuracy,lr\n",
            "7/7 [==============================] - 27s 4s/step - loss: 0.4042 - accuracy: 0.8326 - lr: 0.0010\n",
            "Epoch 45/100\n",
            "7/7 [==============================] - ETA: 0s - loss: 0.3684 - accuracy: 0.8465WARNING:tensorflow:Can save best model only with val_accuracy available, skipping.\n",
            "WARNING:tensorflow:Learning rate reduction is conditioned on metric `val_accuracy` which is not available. Available metrics are: loss,accuracy,lr\n",
            "7/7 [==============================] - 27s 4s/step - loss: 0.3684 - accuracy: 0.8465 - lr: 0.0010\n",
            "Epoch 46/100\n",
            "7/7 [==============================] - ETA: 0s - loss: 0.4369 - accuracy: 0.8465WARNING:tensorflow:Can save best model only with val_accuracy available, skipping.\n",
            "WARNING:tensorflow:Learning rate reduction is conditioned on metric `val_accuracy` which is not available. Available metrics are: loss,accuracy,lr\n",
            "7/7 [==============================] - 27s 4s/step - loss: 0.4369 - accuracy: 0.8465 - lr: 0.0010\n",
            "Epoch 47/100\n",
            "7/7 [==============================] - ETA: 0s - loss: 0.3256 - accuracy: 0.8372WARNING:tensorflow:Can save best model only with val_accuracy available, skipping.\n",
            "WARNING:tensorflow:Learning rate reduction is conditioned on metric `val_accuracy` which is not available. Available metrics are: loss,accuracy,lr\n",
            "7/7 [==============================] - 27s 4s/step - loss: 0.3256 - accuracy: 0.8372 - lr: 0.0010\n",
            "Epoch 48/100\n",
            "7/7 [==============================] - ETA: 0s - loss: 0.3890 - accuracy: 0.8558WARNING:tensorflow:Can save best model only with val_accuracy available, skipping.\n",
            "WARNING:tensorflow:Learning rate reduction is conditioned on metric `val_accuracy` which is not available. Available metrics are: loss,accuracy,lr\n",
            "7/7 [==============================] - 27s 4s/step - loss: 0.3890 - accuracy: 0.8558 - lr: 0.0010\n",
            "Epoch 49/100\n",
            "7/7 [==============================] - ETA: 0s - loss: 0.3286 - accuracy: 0.8372WARNING:tensorflow:Can save best model only with val_accuracy available, skipping.\n",
            "WARNING:tensorflow:Learning rate reduction is conditioned on metric `val_accuracy` which is not available. Available metrics are: loss,accuracy,lr\n",
            "7/7 [==============================] - 27s 4s/step - loss: 0.3286 - accuracy: 0.8372 - lr: 0.0010\n",
            "Epoch 50/100\n",
            "7/7 [==============================] - ETA: 0s - loss: 0.3752 - accuracy: 0.8512WARNING:tensorflow:Can save best model only with val_accuracy available, skipping.\n",
            "WARNING:tensorflow:Learning rate reduction is conditioned on metric `val_accuracy` which is not available. Available metrics are: loss,accuracy,lr\n",
            "7/7 [==============================] - 27s 4s/step - loss: 0.3752 - accuracy: 0.8512 - lr: 0.0010\n",
            "Epoch 51/100\n",
            "7/7 [==============================] - ETA: 0s - loss: 0.3266 - accuracy: 0.8512WARNING:tensorflow:Can save best model only with val_accuracy available, skipping.\n",
            "WARNING:tensorflow:Learning rate reduction is conditioned on metric `val_accuracy` which is not available. Available metrics are: loss,accuracy,lr\n",
            "7/7 [==============================] - 27s 4s/step - loss: 0.3266 - accuracy: 0.8512 - lr: 0.0010\n",
            "Epoch 52/100\n",
            "7/7 [==============================] - ETA: 0s - loss: 0.3807 - accuracy: 0.8372WARNING:tensorflow:Can save best model only with val_accuracy available, skipping.\n",
            "WARNING:tensorflow:Learning rate reduction is conditioned on metric `val_accuracy` which is not available. Available metrics are: loss,accuracy,lr\n",
            "7/7 [==============================] - 27s 4s/step - loss: 0.3807 - accuracy: 0.8372 - lr: 0.0010\n",
            "Epoch 53/100\n",
            "7/7 [==============================] - ETA: 0s - loss: 0.3858 - accuracy: 0.8744WARNING:tensorflow:Can save best model only with val_accuracy available, skipping.\n",
            "WARNING:tensorflow:Learning rate reduction is conditioned on metric `val_accuracy` which is not available. Available metrics are: loss,accuracy,lr\n",
            "7/7 [==============================] - 27s 4s/step - loss: 0.3858 - accuracy: 0.8744 - lr: 0.0010\n",
            "Epoch 54/100\n",
            "7/7 [==============================] - ETA: 0s - loss: 0.3432 - accuracy: 0.8651WARNING:tensorflow:Can save best model only with val_accuracy available, skipping.\n",
            "WARNING:tensorflow:Learning rate reduction is conditioned on metric `val_accuracy` which is not available. Available metrics are: loss,accuracy,lr\n",
            "7/7 [==============================] - 27s 4s/step - loss: 0.3432 - accuracy: 0.8651 - lr: 0.0010\n",
            "Epoch 55/100\n",
            "7/7 [==============================] - ETA: 0s - loss: 0.4105 - accuracy: 0.8186WARNING:tensorflow:Can save best model only with val_accuracy available, skipping.\n",
            "WARNING:tensorflow:Learning rate reduction is conditioned on metric `val_accuracy` which is not available. Available metrics are: loss,accuracy,lr\n",
            "7/7 [==============================] - 28s 4s/step - loss: 0.4105 - accuracy: 0.8186 - lr: 0.0010\n",
            "Epoch 56/100\n",
            "7/7 [==============================] - ETA: 0s - loss: 0.3587 - accuracy: 0.8605WARNING:tensorflow:Can save best model only with val_accuracy available, skipping.\n",
            "WARNING:tensorflow:Learning rate reduction is conditioned on metric `val_accuracy` which is not available. Available metrics are: loss,accuracy,lr\n",
            "7/7 [==============================] - 27s 4s/step - loss: 0.3587 - accuracy: 0.8605 - lr: 0.0010\n",
            "Epoch 57/100\n",
            "7/7 [==============================] - ETA: 0s - loss: 0.4542 - accuracy: 0.8372WARNING:tensorflow:Can save best model only with val_accuracy available, skipping.\n",
            "WARNING:tensorflow:Learning rate reduction is conditioned on metric `val_accuracy` which is not available. Available metrics are: loss,accuracy,lr\n",
            "7/7 [==============================] - 27s 4s/step - loss: 0.4542 - accuracy: 0.8372 - lr: 0.0010\n",
            "Epoch 58/100\n",
            "7/7 [==============================] - ETA: 0s - loss: 0.4564 - accuracy: 0.8279WARNING:tensorflow:Can save best model only with val_accuracy available, skipping.\n",
            "WARNING:tensorflow:Learning rate reduction is conditioned on metric `val_accuracy` which is not available. Available metrics are: loss,accuracy,lr\n",
            "7/7 [==============================] - 27s 4s/step - loss: 0.4564 - accuracy: 0.8279 - lr: 0.0010\n",
            "Epoch 59/100\n",
            "7/7 [==============================] - ETA: 0s - loss: 0.2708 - accuracy: 0.8651WARNING:tensorflow:Can save best model only with val_accuracy available, skipping.\n",
            "WARNING:tensorflow:Learning rate reduction is conditioned on metric `val_accuracy` which is not available. Available metrics are: loss,accuracy,lr\n",
            "7/7 [==============================] - 28s 4s/step - loss: 0.2708 - accuracy: 0.8651 - lr: 0.0010\n",
            "Epoch 60/100\n",
            "7/7 [==============================] - ETA: 0s - loss: 0.3376 - accuracy: 0.8279WARNING:tensorflow:Can save best model only with val_accuracy available, skipping.\n",
            "WARNING:tensorflow:Learning rate reduction is conditioned on metric `val_accuracy` which is not available. Available metrics are: loss,accuracy,lr\n",
            "7/7 [==============================] - 27s 4s/step - loss: 0.3376 - accuracy: 0.8279 - lr: 0.0010\n",
            "Epoch 61/100\n",
            "7/7 [==============================] - ETA: 0s - loss: 0.3760 - accuracy: 0.8419WARNING:tensorflow:Can save best model only with val_accuracy available, skipping.\n",
            "WARNING:tensorflow:Learning rate reduction is conditioned on metric `val_accuracy` which is not available. Available metrics are: loss,accuracy,lr\n",
            "7/7 [==============================] - 27s 4s/step - loss: 0.3760 - accuracy: 0.8419 - lr: 0.0010\n",
            "Epoch 62/100\n",
            "7/7 [==============================] - ETA: 0s - loss: 0.2931 - accuracy: 0.8419WARNING:tensorflow:Can save best model only with val_accuracy available, skipping.\n",
            "WARNING:tensorflow:Learning rate reduction is conditioned on metric `val_accuracy` which is not available. Available metrics are: loss,accuracy,lr\n",
            "7/7 [==============================] - 28s 4s/step - loss: 0.2931 - accuracy: 0.8419 - lr: 0.0010\n",
            "Epoch 63/100\n",
            "7/7 [==============================] - ETA: 0s - loss: 0.3779 - accuracy: 0.8651WARNING:tensorflow:Can save best model only with val_accuracy available, skipping.\n",
            "WARNING:tensorflow:Learning rate reduction is conditioned on metric `val_accuracy` which is not available. Available metrics are: loss,accuracy,lr\n",
            "7/7 [==============================] - 28s 4s/step - loss: 0.3779 - accuracy: 0.8651 - lr: 0.0010\n",
            "Epoch 64/100\n",
            "7/7 [==============================] - ETA: 0s - loss: 0.3509 - accuracy: 0.8698WARNING:tensorflow:Can save best model only with val_accuracy available, skipping.\n",
            "WARNING:tensorflow:Learning rate reduction is conditioned on metric `val_accuracy` which is not available. Available metrics are: loss,accuracy,lr\n",
            "7/7 [==============================] - 27s 4s/step - loss: 0.3509 - accuracy: 0.8698 - lr: 0.0010\n",
            "Epoch 65/100\n",
            "7/7 [==============================] - ETA: 0s - loss: 0.2990 - accuracy: 0.8605WARNING:tensorflow:Can save best model only with val_accuracy available, skipping.\n",
            "WARNING:tensorflow:Learning rate reduction is conditioned on metric `val_accuracy` which is not available. Available metrics are: loss,accuracy,lr\n",
            "7/7 [==============================] - 28s 4s/step - loss: 0.2990 - accuracy: 0.8605 - lr: 0.0010\n",
            "Epoch 66/100\n",
            "7/7 [==============================] - ETA: 0s - loss: 0.3295 - accuracy: 0.8744WARNING:tensorflow:Can save best model only with val_accuracy available, skipping.\n",
            "WARNING:tensorflow:Learning rate reduction is conditioned on metric `val_accuracy` which is not available. Available metrics are: loss,accuracy,lr\n",
            "7/7 [==============================] - 27s 4s/step - loss: 0.3295 - accuracy: 0.8744 - lr: 0.0010\n",
            "Epoch 67/100\n",
            "7/7 [==============================] - ETA: 0s - loss: 0.3959 - accuracy: 0.8465WARNING:tensorflow:Can save best model only with val_accuracy available, skipping.\n",
            "WARNING:tensorflow:Learning rate reduction is conditioned on metric `val_accuracy` which is not available. Available metrics are: loss,accuracy,lr\n",
            "7/7 [==============================] - 27s 4s/step - loss: 0.3959 - accuracy: 0.8465 - lr: 0.0010\n",
            "Epoch 68/100\n",
            "7/7 [==============================] - ETA: 0s - loss: 0.3169 - accuracy: 0.8651WARNING:tensorflow:Can save best model only with val_accuracy available, skipping.\n",
            "WARNING:tensorflow:Learning rate reduction is conditioned on metric `val_accuracy` which is not available. Available metrics are: loss,accuracy,lr\n",
            "7/7 [==============================] - 28s 4s/step - loss: 0.3169 - accuracy: 0.8651 - lr: 0.0010\n",
            "Epoch 69/100\n",
            "7/7 [==============================] - ETA: 0s - loss: 0.3169 - accuracy: 0.8558WARNING:tensorflow:Can save best model only with val_accuracy available, skipping.\n",
            "WARNING:tensorflow:Learning rate reduction is conditioned on metric `val_accuracy` which is not available. Available metrics are: loss,accuracy,lr\n",
            "7/7 [==============================] - 27s 4s/step - loss: 0.3169 - accuracy: 0.8558 - lr: 0.0010\n",
            "Epoch 70/100\n",
            "7/7 [==============================] - ETA: 0s - loss: 0.4385 - accuracy: 0.8326WARNING:tensorflow:Can save best model only with val_accuracy available, skipping.\n",
            "WARNING:tensorflow:Learning rate reduction is conditioned on metric `val_accuracy` which is not available. Available metrics are: loss,accuracy,lr\n",
            "7/7 [==============================] - 27s 4s/step - loss: 0.4385 - accuracy: 0.8326 - lr: 0.0010\n",
            "Epoch 71/100\n",
            "7/7 [==============================] - ETA: 0s - loss: 0.3444 - accuracy: 0.8651WARNING:tensorflow:Can save best model only with val_accuracy available, skipping.\n",
            "WARNING:tensorflow:Learning rate reduction is conditioned on metric `val_accuracy` which is not available. Available metrics are: loss,accuracy,lr\n",
            "7/7 [==============================] - 28s 4s/step - loss: 0.3444 - accuracy: 0.8651 - lr: 0.0010\n",
            "Epoch 72/100\n",
            "7/7 [==============================] - ETA: 0s - loss: 0.3385 - accuracy: 0.8558WARNING:tensorflow:Can save best model only with val_accuracy available, skipping.\n",
            "WARNING:tensorflow:Learning rate reduction is conditioned on metric `val_accuracy` which is not available. Available metrics are: loss,accuracy,lr\n",
            "7/7 [==============================] - 27s 4s/step - loss: 0.3385 - accuracy: 0.8558 - lr: 0.0010\n",
            "Epoch 73/100\n",
            "7/7 [==============================] - ETA: 0s - loss: 0.3637 - accuracy: 0.8744WARNING:tensorflow:Can save best model only with val_accuracy available, skipping.\n",
            "WARNING:tensorflow:Learning rate reduction is conditioned on metric `val_accuracy` which is not available. Available metrics are: loss,accuracy,lr\n",
            "7/7 [==============================] - 28s 4s/step - loss: 0.3637 - accuracy: 0.8744 - lr: 0.0010\n",
            "Epoch 74/100\n",
            "7/7 [==============================] - ETA: 0s - loss: 0.3781 - accuracy: 0.8465WARNING:tensorflow:Can save best model only with val_accuracy available, skipping.\n",
            "WARNING:tensorflow:Learning rate reduction is conditioned on metric `val_accuracy` which is not available. Available metrics are: loss,accuracy,lr\n",
            "7/7 [==============================] - 27s 4s/step - loss: 0.3781 - accuracy: 0.8465 - lr: 0.0010\n",
            "Epoch 75/100\n",
            "7/7 [==============================] - ETA: 0s - loss: 0.3103 - accuracy: 0.8651WARNING:tensorflow:Can save best model only with val_accuracy available, skipping.\n",
            "WARNING:tensorflow:Learning rate reduction is conditioned on metric `val_accuracy` which is not available. Available metrics are: loss,accuracy,lr\n",
            "7/7 [==============================] - 27s 4s/step - loss: 0.3103 - accuracy: 0.8651 - lr: 0.0010\n",
            "Epoch 76/100\n",
            "7/7 [==============================] - ETA: 0s - loss: 0.4115 - accuracy: 0.8558WARNING:tensorflow:Can save best model only with val_accuracy available, skipping.\n",
            "WARNING:tensorflow:Learning rate reduction is conditioned on metric `val_accuracy` which is not available. Available metrics are: loss,accuracy,lr\n",
            "7/7 [==============================] - 28s 4s/step - loss: 0.4115 - accuracy: 0.8558 - lr: 0.0010\n",
            "Epoch 77/100\n",
            "7/7 [==============================] - ETA: 0s - loss: 0.3931 - accuracy: 0.8372WARNING:tensorflow:Can save best model only with val_accuracy available, skipping.\n",
            "WARNING:tensorflow:Learning rate reduction is conditioned on metric `val_accuracy` which is not available. Available metrics are: loss,accuracy,lr\n",
            "7/7 [==============================] - 27s 4s/step - loss: 0.3931 - accuracy: 0.8372 - lr: 0.0010\n",
            "Epoch 78/100\n",
            "7/7 [==============================] - ETA: 0s - loss: 0.3694 - accuracy: 0.8372WARNING:tensorflow:Can save best model only with val_accuracy available, skipping.\n",
            "WARNING:tensorflow:Learning rate reduction is conditioned on metric `val_accuracy` which is not available. Available metrics are: loss,accuracy,lr\n",
            "7/7 [==============================] - 28s 4s/step - loss: 0.3694 - accuracy: 0.8372 - lr: 0.0010\n",
            "Epoch 79/100\n",
            "7/7 [==============================] - ETA: 0s - loss: 0.3251 - accuracy: 0.8651WARNING:tensorflow:Can save best model only with val_accuracy available, skipping.\n",
            "WARNING:tensorflow:Learning rate reduction is conditioned on metric `val_accuracy` which is not available. Available metrics are: loss,accuracy,lr\n",
            "7/7 [==============================] - 27s 4s/step - loss: 0.3251 - accuracy: 0.8651 - lr: 0.0010\n",
            "Epoch 80/100\n",
            "7/7 [==============================] - ETA: 0s - loss: 0.3571 - accuracy: 0.8605WARNING:tensorflow:Can save best model only with val_accuracy available, skipping.\n",
            "WARNING:tensorflow:Learning rate reduction is conditioned on metric `val_accuracy` which is not available. Available metrics are: loss,accuracy,lr\n",
            "7/7 [==============================] - 27s 4s/step - loss: 0.3571 - accuracy: 0.8605 - lr: 0.0010\n",
            "Epoch 81/100\n",
            "7/7 [==============================] - ETA: 0s - loss: 0.4307 - accuracy: 0.8372WARNING:tensorflow:Can save best model only with val_accuracy available, skipping.\n",
            "WARNING:tensorflow:Learning rate reduction is conditioned on metric `val_accuracy` which is not available. Available metrics are: loss,accuracy,lr\n",
            "7/7 [==============================] - 28s 4s/step - loss: 0.4307 - accuracy: 0.8372 - lr: 0.0010\n",
            "Epoch 82/100\n",
            "7/7 [==============================] - ETA: 0s - loss: 0.3424 - accuracy: 0.8837WARNING:tensorflow:Can save best model only with val_accuracy available, skipping.\n",
            "WARNING:tensorflow:Learning rate reduction is conditioned on metric `val_accuracy` which is not available. Available metrics are: loss,accuracy,lr\n",
            "7/7 [==============================] - 27s 4s/step - loss: 0.3424 - accuracy: 0.8837 - lr: 0.0010\n",
            "Epoch 83/100\n",
            "7/7 [==============================] - ETA: 0s - loss: 0.3368 - accuracy: 0.8558WARNING:tensorflow:Can save best model only with val_accuracy available, skipping.\n",
            "WARNING:tensorflow:Learning rate reduction is conditioned on metric `val_accuracy` which is not available. Available metrics are: loss,accuracy,lr\n",
            "7/7 [==============================] - 28s 4s/step - loss: 0.3368 - accuracy: 0.8558 - lr: 0.0010\n",
            "Epoch 84/100\n",
            "7/7 [==============================] - ETA: 0s - loss: 0.3801 - accuracy: 0.8512WARNING:tensorflow:Can save best model only with val_accuracy available, skipping.\n",
            "WARNING:tensorflow:Learning rate reduction is conditioned on metric `val_accuracy` which is not available. Available metrics are: loss,accuracy,lr\n",
            "7/7 [==============================] - 28s 4s/step - loss: 0.3801 - accuracy: 0.8512 - lr: 0.0010\n",
            "Epoch 85/100\n",
            "7/7 [==============================] - ETA: 0s - loss: 0.3130 - accuracy: 0.8744WARNING:tensorflow:Can save best model only with val_accuracy available, skipping.\n",
            "WARNING:tensorflow:Learning rate reduction is conditioned on metric `val_accuracy` which is not available. Available metrics are: loss,accuracy,lr\n",
            "7/7 [==============================] - 28s 4s/step - loss: 0.3130 - accuracy: 0.8744 - lr: 0.0010\n",
            "Epoch 86/100\n",
            "7/7 [==============================] - ETA: 0s - loss: 0.3024 - accuracy: 0.8837WARNING:tensorflow:Can save best model only with val_accuracy available, skipping.\n",
            "WARNING:tensorflow:Learning rate reduction is conditioned on metric `val_accuracy` which is not available. Available metrics are: loss,accuracy,lr\n",
            "7/7 [==============================] - 28s 4s/step - loss: 0.3024 - accuracy: 0.8837 - lr: 0.0010\n",
            "Epoch 87/100\n",
            "7/7 [==============================] - ETA: 0s - loss: 0.3276 - accuracy: 0.8744WARNING:tensorflow:Can save best model only with val_accuracy available, skipping.\n",
            "WARNING:tensorflow:Learning rate reduction is conditioned on metric `val_accuracy` which is not available. Available metrics are: loss,accuracy,lr\n",
            "7/7 [==============================] - 27s 4s/step - loss: 0.3276 - accuracy: 0.8744 - lr: 0.0010\n",
            "Epoch 88/100\n",
            "7/7 [==============================] - ETA: 0s - loss: 0.2709 - accuracy: 0.8977WARNING:tensorflow:Can save best model only with val_accuracy available, skipping.\n",
            "WARNING:tensorflow:Learning rate reduction is conditioned on metric `val_accuracy` which is not available. Available metrics are: loss,accuracy,lr\n",
            "7/7 [==============================] - 27s 4s/step - loss: 0.2709 - accuracy: 0.8977 - lr: 0.0010\n",
            "Epoch 89/100\n",
            "7/7 [==============================] - ETA: 0s - loss: 0.2902 - accuracy: 0.8837WARNING:tensorflow:Can save best model only with val_accuracy available, skipping.\n",
            "WARNING:tensorflow:Learning rate reduction is conditioned on metric `val_accuracy` which is not available. Available metrics are: loss,accuracy,lr\n",
            "7/7 [==============================] - 27s 4s/step - loss: 0.2902 - accuracy: 0.8837 - lr: 0.0010\n",
            "Epoch 90/100\n",
            "7/7 [==============================] - ETA: 0s - loss: 0.3510 - accuracy: 0.8605WARNING:tensorflow:Can save best model only with val_accuracy available, skipping.\n",
            "WARNING:tensorflow:Learning rate reduction is conditioned on metric `val_accuracy` which is not available. Available metrics are: loss,accuracy,lr\n",
            "7/7 [==============================] - 27s 4s/step - loss: 0.3510 - accuracy: 0.8605 - lr: 0.0010\n",
            "Epoch 91/100\n",
            "7/7 [==============================] - ETA: 0s - loss: 0.2599 - accuracy: 0.8977WARNING:tensorflow:Can save best model only with val_accuracy available, skipping.\n",
            "WARNING:tensorflow:Learning rate reduction is conditioned on metric `val_accuracy` which is not available. Available metrics are: loss,accuracy,lr\n",
            "7/7 [==============================] - 27s 4s/step - loss: 0.2599 - accuracy: 0.8977 - lr: 0.0010\n",
            "Epoch 92/100\n",
            "7/7 [==============================] - ETA: 0s - loss: 0.3724 - accuracy: 0.8791WARNING:tensorflow:Can save best model only with val_accuracy available, skipping.\n",
            "WARNING:tensorflow:Learning rate reduction is conditioned on metric `val_accuracy` which is not available. Available metrics are: loss,accuracy,lr\n",
            "7/7 [==============================] - 27s 4s/step - loss: 0.3724 - accuracy: 0.8791 - lr: 0.0010\n",
            "Epoch 93/100\n",
            "7/7 [==============================] - ETA: 0s - loss: 0.3428 - accuracy: 0.8837WARNING:tensorflow:Can save best model only with val_accuracy available, skipping.\n",
            "WARNING:tensorflow:Learning rate reduction is conditioned on metric `val_accuracy` which is not available. Available metrics are: loss,accuracy,lr\n",
            "7/7 [==============================] - 27s 4s/step - loss: 0.3428 - accuracy: 0.8837 - lr: 0.0010\n",
            "Epoch 94/100\n",
            "7/7 [==============================] - ETA: 0s - loss: 0.3651 - accuracy: 0.8698WARNING:tensorflow:Can save best model only with val_accuracy available, skipping.\n",
            "WARNING:tensorflow:Learning rate reduction is conditioned on metric `val_accuracy` which is not available. Available metrics are: loss,accuracy,lr\n",
            "7/7 [==============================] - 28s 4s/step - loss: 0.3651 - accuracy: 0.8698 - lr: 0.0010\n",
            "Epoch 95/100\n",
            "7/7 [==============================] - ETA: 0s - loss: 0.4042 - accuracy: 0.8326WARNING:tensorflow:Can save best model only with val_accuracy available, skipping.\n",
            "WARNING:tensorflow:Learning rate reduction is conditioned on metric `val_accuracy` which is not available. Available metrics are: loss,accuracy,lr\n",
            "7/7 [==============================] - 27s 4s/step - loss: 0.4042 - accuracy: 0.8326 - lr: 0.0010\n",
            "Epoch 96/100\n",
            "7/7 [==============================] - ETA: 0s - loss: 0.2729 - accuracy: 0.8977WARNING:tensorflow:Can save best model only with val_accuracy available, skipping.\n",
            "WARNING:tensorflow:Learning rate reduction is conditioned on metric `val_accuracy` which is not available. Available metrics are: loss,accuracy,lr\n",
            "7/7 [==============================] - 28s 4s/step - loss: 0.2729 - accuracy: 0.8977 - lr: 0.0010\n",
            "Epoch 97/100\n",
            "7/7 [==============================] - ETA: 0s - loss: 0.3235 - accuracy: 0.8605WARNING:tensorflow:Can save best model only with val_accuracy available, skipping.\n",
            "WARNING:tensorflow:Learning rate reduction is conditioned on metric `val_accuracy` which is not available. Available metrics are: loss,accuracy,lr\n",
            "7/7 [==============================] - 27s 4s/step - loss: 0.3235 - accuracy: 0.8605 - lr: 0.0010\n",
            "Epoch 98/100\n",
            "7/7 [==============================] - ETA: 0s - loss: 0.3531 - accuracy: 0.8419WARNING:tensorflow:Can save best model only with val_accuracy available, skipping.\n",
            "WARNING:tensorflow:Learning rate reduction is conditioned on metric `val_accuracy` which is not available. Available metrics are: loss,accuracy,lr\n",
            "7/7 [==============================] - 27s 4s/step - loss: 0.3531 - accuracy: 0.8419 - lr: 0.0010\n",
            "Epoch 99/100\n",
            "7/7 [==============================] - ETA: 0s - loss: 0.3489 - accuracy: 0.8512WARNING:tensorflow:Can save best model only with val_accuracy available, skipping.\n",
            "WARNING:tensorflow:Learning rate reduction is conditioned on metric `val_accuracy` which is not available. Available metrics are: loss,accuracy,lr\n",
            "7/7 [==============================] - 28s 4s/step - loss: 0.3489 - accuracy: 0.8512 - lr: 0.0010\n",
            "Epoch 100/100\n",
            "7/7 [==============================] - ETA: 0s - loss: 0.2784 - accuracy: 0.8884WARNING:tensorflow:Can save best model only with val_accuracy available, skipping.\n",
            "WARNING:tensorflow:Learning rate reduction is conditioned on metric `val_accuracy` which is not available. Available metrics are: loss,accuracy,lr\n",
            "7/7 [==============================] - 28s 4s/step - loss: 0.2784 - accuracy: 0.8884 - lr: 0.0010\n",
            "training time:  3309.426240682602 s\n"
          ]
        }
      ]
    },
    {
      "cell_type": "code",
      "metadata": {
        "id": "3vSzAuTsNzRf"
      },
      "source": [
        "model.save('model.h5')"
      ],
      "execution_count": 59,
      "outputs": []
    },
    {
      "cell_type": "code",
      "metadata": {
        "id": "52IYepPs0zRm"
      },
      "source": [
        "# IMPORT SEMUA PAKET YANG ANDA PERLUKAN UNTUK MENGEVALUASI MODEL DISINI\n",
        "\n",
        "%matplotlib inline\n",
        "\n",
        "import matplotlib.pyplot as plt\n",
        "import numpy as np\n",
        "from keras.models import load_model\n",
        "from sklearn.metrics import classification_report, confusion_matrix\n",
        "from google.colab import files"
      ],
      "execution_count": 83,
      "outputs": []
    },
    {
      "cell_type": "markdown",
      "metadata": {
        "id": "JqinBuv2xsdF"
      },
      "source": [
        "**6. Evaluation**"
      ]
    },
    {
      "cell_type": "code",
      "metadata": {
        "colab": {
          "base_uri": "https://localhost:8080/"
        },
        "id": "NXAJQ4yD0ZQm",
        "outputId": "63d0a497-9458-4999-febf-c79a386a07ed"
      },
      "source": [
        "# TULIS CODE UNTUK EVALUASI MODEL DISINI\n",
        "\n",
        "# model.load_weights(best_model_path)\n",
        "\n",
        "ypred = model.predict(test_gen)\n",
        "prediction = np.argmax(ypred, axis=1)\n",
        "print(classification_report(test_gen.classes, prediction))"
      ],
      "execution_count": 84,
      "outputs": [
        {
          "output_type": "stream",
          "name": "stdout",
          "text": [
            "              precision    recall  f1-score   support\n",
            "\n",
            "           0       1.00      1.00      1.00        21\n",
            "           1       0.82      0.93      0.87        15\n",
            "           2       0.92      0.80      0.86        15\n",
            "\n",
            "    accuracy                           0.92        51\n",
            "   macro avg       0.92      0.91      0.91        51\n",
            "weighted avg       0.93      0.92      0.92        51\n",
            "\n"
          ]
        }
      ]
    },
    {
      "cell_type": "code",
      "metadata": {
        "colab": {
          "base_uri": "https://localhost:8080/",
          "height": 380
        },
        "id": "nOK7rBq90aNH",
        "outputId": "de590cb4-7010-4e85-a2b3-48203b7dff94"
      },
      "source": [
        "import itertools\n",
        "def plot_confusion_matrix(cm, classes,\n",
        "                          normalize=False,\n",
        "                          title='Confusion matrix',\n",
        "                          cmap=plt.cm.Blues):\n",
        "    if normalize:\n",
        "        cm = cm.astype('float') / cm.sum(axis=1)[:, np.newaxis]\n",
        "        print(\"Normalized confusion matrix\")\n",
        "    else:\n",
        "        print('Confusion matrix, without normalization')\n",
        "\n",
        "    print(cm)\n",
        "\n",
        "    plt.imshow(cm, interpolation='nearest', cmap=cmap)\n",
        "    plt.title(title)\n",
        "    plt.colorbar()\n",
        "    tick_marks = np.arange(len(classes))\n",
        "    plt.xticks(tick_marks, classes, rotation=45)\n",
        "    plt.yticks(tick_marks, classes)\n",
        "\n",
        "    fmt = '.2f' if normalize else 'd'\n",
        "    thresh = cm.max() / 2.\n",
        "    for i, j in itertools.product(range(cm.shape[0]), range(cm.shape[1])):\n",
        "        plt.text(j, i, format(cm[i, j], fmt),\n",
        "                 horizontalalignment=\"center\",\n",
        "                 color=\"white\" if cm[i, j] > thresh else \"black\")\n",
        "\n",
        "    plt.tight_layout()\n",
        "    plt.ylabel('Actual')\n",
        "    plt.xlabel('Predicted')\n",
        "\n",
        "cnf_matrix=confusion_matrix(test_gen.classes,prediction)\n",
        "plot_confusion_matrix(cnf_matrix, classes=test_gen.class_indices)"
      ],
      "execution_count": 49,
      "outputs": [
        {
          "output_type": "stream",
          "name": "stdout",
          "text": [
            "Confusion matrix, without normalization\n",
            "[[21  0  0]\n",
            " [ 1 10  4]\n",
            " [ 2  1 12]]\n"
          ]
        },
        {
          "output_type": "display_data",
          "data": {
            "image/png": "[encoded data removed]",
            "text/plain": [
              "<Figure size 432x288 with 2 Axes>"
            ]
          },
          "metadata": {
            "needs_background": "light"
          }
        }
      ]
    },
    {
      "cell_type": "code",
      "metadata": {
        "id": "u02Ti17p1IOi"
      },
      "source": [
        ""
      ],
      "execution_count": 68,
      "outputs": []
    },
    {
      "cell_type": "code",
      "metadata": {
        "id": "H9VhjUrY1Uz7",
        "colab": {
          "base_uri": "https://localhost:8080/",
          "height": 581
        },
        "outputId": "2c68f218-6b2d-4617-cd69-b70d5f05fc5d"
      },
      "source": [
        "plt.style.use(\"ggplot\")\n",
        "\n",
        "plt.plot(H.history[\"loss\"], label=\"train_loss\")\n",
        "plt.plot(H.history[\"val_loss\"], label=\"val_loss\")\n",
        "plt.title(\"Loss Plot\")\n",
        "plt.xlabel(\"Epoch #\")\n",
        "plt.ylabel(\"Loss\")\n",
        "plt.show()\n",
        "\n",
        "plt.plot(H.history[\"accuracy\"], label=\"train_acc\")\n",
        "plt.plot(H.history[\"val_accuracy\"], label=\"val_acc\")\n",
        "plt.title(\"Accuracy Plot\")\n",
        "plt.xlabel(\"Epoch #\")\n",
        "plt.ylabel(\"Accuracy\")\n",
        "plt.legend()\n",
        "plt.show()"
      ],
      "execution_count": 87,
      "outputs": [
        {
          "output_type": "display_data",
          "data": {
            "image/png": "[encoded data removed]",
            "text/plain": [
              "<Figure size 432x288 with 1 Axes>"
            ]
          },
          "metadata": {}
        },
        {
          "output_type": "display_data",
          "data": {
            "image/png": "[encoded data removed]",
            "text/plain": [
              "<Figure size 432x288 with 1 Axes>"
            ]
          },
          "metadata": {}
        }
      ]
    },
    {
      "cell_type": "code",
      "metadata": {
        "id": "yZesZK3CbRIL"
      },
      "source": [
        ""
      ],
      "execution_count": 87,
      "outputs": []
    },
    {
      "cell_type": "code",
      "metadata": {
        "id": "XFnmz3QUeaF6"
      },
      "source": [
        ""
      ],
      "execution_count": null,
      "outputs": []
    }
  ]
}