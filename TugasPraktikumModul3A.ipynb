{
  "nbformat": 4,
  "nbformat_minor": 0,
  "metadata": {
    "colab": {
      "name": "TugasPraktikum3.ipynb",
      "provenance": [],
      "authorship_tag": "ABX9TyO3bc5MCuvI7xHDAwgQ60HQ",
      "include_colab_link": true
    },
    "kernelspec": {
      "name": "python3",
      "display_name": "Python 3"
    },
    "language_info": {
      "name": "python"
    }
  },
  "cells": [
    {
      "cell_type": "markdown",
      "metadata": {
        "id": "view-in-github",
        "colab_type": "text"
      },
      "source": [
        "<a href=\"https://colab.research.google.com/github/amelliaaas/PraktikumML_282-305/blob/main/TugasPraktikumModul3A.ipynb\" target=\"_parent\"><img src=\"https://colab.research.google.com/assets/colab-badge.svg\" alt=\"Open In Colab\"/></a>"
      ]
    },
    {
      "cell_type": "code",
      "metadata": {
        "colab": {
          "base_uri": "https://localhost:8080/"
        },
        "id": "OnxG4N4Bp3Xz",
        "outputId": "b550db11-a7c1-487b-91da-10b673d4336b"
      },
      "source": [
        "from google.colab import drive\n",
        "drive.mount('/content/drive')"
      ],
      "execution_count": 1,
      "outputs": [
        {
          "output_type": "stream",
          "name": "stdout",
          "text": [
            "Drive already mounted at /content/drive; to attempt to forcibly remount, call drive.mount(\"/content/drive\", force_remount=True).\n"
          ]
        }
      ]
    },
    {
      "cell_type": "code",
      "metadata": {
        "id": "JT1zPZX-qA8I"
      },
      "source": [
        "# Define kaggle json path\n",
        "# Sesuaikan dengan path anda\n",
        "import os\n",
        "os.environ['KAGGLE_CONFIG_DIR'] = \"/content/drive/My Drive/TugasPraktikum\""
      ],
      "execution_count": 2,
      "outputs": []
    },
    {
      "cell_type": "code",
      "metadata": {
        "colab": {
          "base_uri": "https://localhost:8080/"
        },
        "id": "y3Z-sv73qVe0",
        "outputId": "d2764919-219d-4a7a-dfdb-d8bf8b7d73e3"
      },
      "source": [
        "# Ubah lokasi direktori kerja\n",
        "# Sesuaikan dengan path anda\n",
        "%cd /content/drive/My Drive/TugasPraktikum"
      ],
      "execution_count": 3,
      "outputs": [
        {
          "output_type": "stream",
          "name": "stdout",
          "text": [
            "/content/drive/My Drive/TugasPraktikum\n"
          ]
        }
      ]
    },
    {
      "cell_type": "code",
      "metadata": {
        "colab": {
          "base_uri": "https://localhost:8080/"
        },
        "id": "X8R_glk2qYPH",
        "outputId": "3f80d975-2b3d-4b21-bca3-f9c755f747ca"
      },
      "source": [
        "# Cek apakah api sudah terbaca oleh sistem\n",
        "!ls  "
      ],
      "execution_count": 4,
      "outputs": [
        {
          "output_type": "stream",
          "name": "stdout",
          "text": [
            "Covid19-dataset  dataset  kaggle.json\n"
          ]
        }
      ]
    },
    {
      "cell_type": "code",
      "metadata": {
        "colab": {
          "base_uri": "https://localhost:8080/"
        },
        "id": "bofYI-uUqbkm",
        "outputId": "1c6a3876-7716-467d-c0bd-c75c9811269a"
      },
      "source": [
        "!kaggle datasets download -d pranavraikokte/covid19-image-dataset"
      ],
      "execution_count": 5,
      "outputs": [
        {
          "output_type": "stream",
          "name": "stdout",
          "text": [
            "Downloading covid19-image-dataset.zip to /content/drive/My Drive/TugasPraktikum\n",
            " 99% 157M/158M [00:01<00:00, 123MB/s]\n",
            "100% 158M/158M [00:01<00:00, 125MB/s]\n"
          ]
        }
      ]
    },
    {
      "cell_type": "code",
      "metadata": {
        "colab": {
          "base_uri": "https://localhost:8080/"
        },
        "id": "0F1Mp5SAqpp6",
        "outputId": "06fdd0d3-b8c8-4c42-dccd-7e2eb6de44b9"
      },
      "source": [
        "# Cek isi direktori kerja dan memastikan dataset telah berhasil didownload.\n",
        "!ls"
      ],
      "execution_count": 5,
      "outputs": [
        {
          "output_type": "stream",
          "name": "stdout",
          "text": [
            "Covid19-dataset  dataset  kaggle.json\n"
          ]
        }
      ]
    },
    {
      "cell_type": "code",
      "metadata": {
        "id": "R5clTRUQUsR0"
      },
      "source": [
        "# Ekstrak file dataset dan hapus file zip dataset agar tidak memakan banyak tempat.\n",
        "!unzip \\*.zip &> /dev/null && rm *.zip"
      ],
      "execution_count": 7,
      "outputs": []
    },
    {
      "cell_type": "code",
      "metadata": {
        "colab": {
          "base_uri": "https://localhost:8080/"
        },
        "id": "dqvUYoOWUvn3",
        "outputId": "b8c03aa2-034e-4cd4-cdb7-24c9894f6f9a"
      },
      "source": [
        "# Cek isi direktori kerja untuk memastikan dataset telah berhasil diekstrak.\n",
        "!ls"
      ],
      "execution_count": 8,
      "outputs": [
        {
          "output_type": "stream",
          "name": "stdout",
          "text": [
            "Covid19-dataset  kaggle.json\n"
          ]
        }
      ]
    },
    {
      "cell_type": "code",
      "metadata": {
        "id": "VJO_g1XMU9cp"
      },
      "source": [
        "#Buat folder baru bernama dataset\n",
        "!mkdir dataset"
      ],
      "execution_count": 9,
      "outputs": []
    },
    {
      "cell_type": "code",
      "metadata": {
        "id": "r4UqnCL3e-Qk"
      },
      "source": [
        "!mkdir Covid19-dataset"
      ],
      "execution_count": 23,
      "outputs": []
    },
    {
      "cell_type": "code",
      "metadata": {
        "id": "h7DnRqxIpePv"
      },
      "source": [
        "base_dir = 'Covid19-dataset'\n",
        "\n",
        "train_dir = os.path.join(base_dir, 'train')\n",
        "test_dir = os.path.join(base_dir, 'test')\n",
        "\n",
        "train_covid_dir = os.path.join(train_dir, 'Covid')\n",
        "train_normal_dir = os.path.join(train_dir, 'Normal')\n",
        "train_pneumonia_dir = os.path.join(train_dir, 'Viral Pneumonia')\n",
        "\n",
        "test_covid_dir = os.path.join(test_dir, 'Covid')\n",
        "test_normal_dir = os.path.join(test_dir, 'Normal')\n",
        "test_pneumonia_dir = os.path.join(test_dir, 'Viral Pneumonia')\n"
      ],
      "execution_count": 6,
      "outputs": []
    },
    {
      "cell_type": "code",
      "metadata": {
        "id": "tWRv51Zdp9Tc"
      },
      "source": [
        "#moving all dataset to training\n",
        "import shutil\n",
        "\n",
        "dataset1= os.listdir(test_covid_dir)\n",
        "for file in dataset1:\n",
        "  new_path = shutil.move(f\"{test_covid_dir}/{file}\",train_covid_dir)\n",
        "\n",
        "dataset2= os.listdir(test_normal_dir)\n",
        "for file in dataset2:\n",
        "  new_path = shutil.move(f\"{test_normal_dir}/{file}\",train_normal_dir)\n",
        "\n",
        "dataset3= os.listdir(test_pneumonia_dir)\n",
        "for file in dataset3:\n",
        "  new_path = shutil.move(f\"{test_pneumonia_dir}/{file}\",train_pneumonia_dir)\n",
        "\n"
      ],
      "execution_count": 17,
      "outputs": []
    },
    {
      "cell_type": "code",
      "metadata": {
        "id": "wwNzTHkmfH0S"
      },
      "source": [
        "!mkdir Covid19-dataset/datasets"
      ],
      "execution_count": 18,
      "outputs": []
    },
    {
      "cell_type": "code",
      "metadata": {
        "colab": {
          "base_uri": "https://localhost:8080/"
        },
        "id": "UBkbwdqcaCg0",
        "outputId": "13c6b51b-42cd-4a09-a4fd-148d6678334d"
      },
      "source": [
        "import splitfolders\n",
        "splitfolders.ratio(train_dir, output=\"Covid19-dataset/datasets\", seed=1337, ratio=(.8, .19, .01))"
      ],
      "execution_count": 19,
      "outputs": [
        {
          "output_type": "stream",
          "name": "stderr",
          "text": [
            "Copying files: 312 files [00:06, 46.78 files/s]\n"
          ]
        }
      ]
    },
    {
      "cell_type": "code",
      "metadata": {
        "id": "7e8p-20Mwuvo"
      },
      "source": [
        "# Definisikan path untuk data train test dan validation\n",
        "# sesuaikan dengan path anda\n",
        "import os\n",
        "base_dir = 'Covid19-dataset/datasets'\n",
        "train_path = os.path.join(base_dir, 'train')\n",
        "test_path  = os.path.join(base_dir, 'test')\n",
        "val_path   = os.path.join(base_dir, 'val')"
      ],
      "execution_count": 21,
      "outputs": []
    },
    {
      "cell_type": "code",
      "metadata": {
        "id": "wl9rmMItaGVI",
        "colab": {
          "base_uri": "https://localhost:8080/"
        },
        "outputId": "74b6a3a0-f78d-47ba-b9ea-d592dc073701"
      },
      "source": [
        "# TULIS KODE ANDA DISINI\n",
        "\n",
        "from keras.preprocessing.image import ImageDataGenerator\n",
        "from sklearn.utils import shuffle\n",
        "\n",
        "batch_size = 32\n",
        "augmen_gen = ImageDataGenerator(rescale=1. / 255,\n",
        "                                rotation_range=40,\n",
        "                                width_shift_range=0.2,\n",
        "                                height_shift_range=0.2,\n",
        "                                zoom_range=0.2,\n",
        "                                horizontal_flip=True,\n",
        "                                fill_mode='nearest')\n",
        "\n",
        "train_gen = augmen_gen.flow_from_directory(\n",
        "    train_path,\n",
        "    class_mode = 'categorical',\n",
        "    shuffle=True,\n",
        "    target_size = (224,224),\n",
        "    batch_size=batch_size,\n",
        "    color_mode ='rgb'\n",
        ")\n",
        "\n",
        "val_gen = augmen_gen.flow_from_directory(\n",
        "    val_path,\n",
        "    class_mode = 'categorical',\n",
        "    shuffle=True,\n",
        "    target_size = (224,224),\n",
        "    batch_size= batch_size,\n",
        "    color_mode ='rgb'\n",
        ")\n",
        "\n",
        "test_gen = augmen_gen.flow_from_directory(\n",
        "    test_path,\n",
        "    class_mode = 'categorical',\n",
        "    shuffle=False,\n",
        "    target_size = (224,224),\n",
        "    batch_size=batch_size,\n",
        "    color_mode ='rgb',\n",
        ")"
      ],
      "execution_count": 22,
      "outputs": [
        {
          "output_type": "stream",
          "name": "stdout",
          "text": [
            "Found 249 images belonging to 3 classes.\n",
            "Found 59 images belonging to 3 classes.\n",
            "Found 4 images belonging to 3 classes.\n"
          ]
        }
      ]
    },
    {
      "cell_type": "code",
      "metadata": {
        "id": "mhmkYfi9wM3R"
      },
      "source": [
        "# IMPORT SEMUA PAKET YANG ANDA PERLUKAN UNTUK MENDEFINISIKAN MODEL DISINI\n",
        "\n",
        "from tensorflow.keras.models import Sequential\n",
        "from tensorflow.keras.layers import InputLayer, Dense, Conv2D, MaxPool2D, Flatten, BatchNormalization, Dropout\n",
        "from tensorflow.keras.callbacks import ModelCheckpoint, ReduceLROnPlateau, EarlyStopping\n",
        "from tensorflow.keras.optimizers import Adam\n",
        "import time"
      ],
      "execution_count": 23,
      "outputs": []
    },
    {
      "cell_type": "code",
      "metadata": {
        "id": "XP_9j1sowSVd"
      },
      "source": [
        "# DEFINISIKAN MODEL ANDA DISINI\n",
        "\n",
        "#Feature Selection\n",
        "model = Sequential()\n",
        "\n",
        "model.add(InputLayer(input_shape=[224,224,3]))\n",
        "model.add(Conv2D(filters=32, kernel_size=3, strides=1, padding='same', activation='relu'))\n",
        "model.add(MaxPool2D(pool_size=2, padding='same'))\n",
        "model.add(Conv2D(filters=64, kernel_size=3, strides=1, padding='same', activation='relu'))\n",
        "model.add(MaxPool2D(pool_size=2, padding='same'))\n",
        "model.add(Conv2D(filters=128, kernel_size=3, strides=1, padding='same', activation='relu'))\n",
        "model.add(MaxPool2D(pool_size=2, padding='same'))\n",
        "model.add(Dropout(0.25))\n",
        "model.add(BatchNormalization())\n",
        "model.add(Flatten())\n",
        "\n",
        "#Fully Connected Layer\n",
        "model.add(Dense(512, activation='relu'))\n",
        "model.add(Dropout(0.3))\n",
        "model.add(Dense(3, activation='softmax'))\n"
      ],
      "execution_count": 24,
      "outputs": []
    },
    {
      "cell_type": "code",
      "metadata": {
        "colab": {
          "base_uri": "https://localhost:8080/"
        },
        "id": "jXHeGkZmwTjF",
        "outputId": "eb8c0452-433b-4019-948b-4b6dfff3e0db"
      },
      "source": [
        "# TULIS CODE UNTUK MENAMPILKAN SUMMARY DARI ARSITEKTUR MODEL ANDA DISINI\n",
        "\n",
        "print(model.summary())"
      ],
      "execution_count": 25,
      "outputs": [
        {
          "output_type": "stream",
          "name": "stdout",
          "text": [
            "Model: \"sequential\"\n",
            "_________________________________________________________________\n",
            "Layer (type)                 Output Shape              Param #   \n",
            "=================================================================\n",
            "conv2d (Conv2D)              (None, 224, 224, 32)      896       \n",
            "_________________________________________________________________\n",
            "max_pooling2d (MaxPooling2D) (None, 112, 112, 32)      0         \n",
            "_________________________________________________________________\n",
            "conv2d_1 (Conv2D)            (None, 112, 112, 64)      18496     \n",
            "_________________________________________________________________\n",
            "max_pooling2d_1 (MaxPooling2 (None, 56, 56, 64)        0         \n",
            "_________________________________________________________________\n",
            "conv2d_2 (Conv2D)            (None, 56, 56, 128)       73856     \n",
            "_________________________________________________________________\n",
            "max_pooling2d_2 (MaxPooling2 (None, 28, 28, 128)       0         \n",
            "_________________________________________________________________\n",
            "dropout (Dropout)            (None, 28, 28, 128)       0         \n",
            "_________________________________________________________________\n",
            "batch_normalization (BatchNo (None, 28, 28, 128)       512       \n",
            "_________________________________________________________________\n",
            "flatten (Flatten)            (None, 100352)            0         \n",
            "_________________________________________________________________\n",
            "dense (Dense)                (None, 512)               51380736  \n",
            "_________________________________________________________________\n",
            "dropout_1 (Dropout)          (None, 512)               0         \n",
            "_________________________________________________________________\n",
            "dense_1 (Dense)              (None, 3)                 1539      \n",
            "=================================================================\n",
            "Total params: 51,476,035\n",
            "Trainable params: 51,475,779\n",
            "Non-trainable params: 256\n",
            "_________________________________________________________________\n",
            "None\n"
          ]
        }
      ]
    },
    {
      "cell_type": "code",
      "metadata": {
        "id": "7yPzzehTwWd1"
      },
      "source": [
        "# TULIS CODE CALLBACKS ANDA DISINI\n",
        "\n",
        "best_model_path = 'best_model.h5'\n",
        "checkpoint_callback = ModelCheckpoint(best_model_path,\n",
        "                                      monitor='val_accuracy',\n",
        "                                      save_best_only=True,\n",
        "                                      verbose=1)\n",
        "reduce_callback = ReduceLROnPlateau(monitor='val_accuracy', patience=3, factor=0.5, min_lr=0.000003, verbose=1)\n",
        "callbacks_list = [checkpoint_callback, reduce_callback]"
      ],
      "execution_count": 26,
      "outputs": []
    },
    {
      "cell_type": "code",
      "metadata": {
        "id": "nU7Yh0P2wbEW"
      },
      "source": [
        "# TULIS CODE UNTUK DEFINISI LEARNING RATE DISINI \n",
        "\n",
        "learning_rate = 0.00001"
      ],
      "execution_count": 27,
      "outputs": []
    },
    {
      "cell_type": "code",
      "metadata": {
        "colab": {
          "base_uri": "https://localhost:8080/"
        },
        "id": "1J9fBU0YwdkB",
        "outputId": "c43344a8-9d2b-4b31-d088-975cd5bd1326"
      },
      "source": [
        "# TULIS CODE UNTUK TRAINING DISINI\n",
        "\n",
        "model.compile(loss='categorical_crossentropy',\n",
        "              optimizer=Adam(lr=learning_rate),\n",
        "              metrics='accuracy')"
      ],
      "execution_count": 28,
      "outputs": [
        {
          "output_type": "stream",
          "name": "stderr",
          "text": [
            "/usr/local/lib/python3.7/dist-packages/keras/optimizer_v2/optimizer_v2.py:356: UserWarning: The `lr` argument is deprecated, use `learning_rate` instead.\n",
            "  \"The `lr` argument is deprecated, use `learning_rate` instead.\")\n"
          ]
        }
      ]
    },
    {
      "cell_type": "code",
      "metadata": {
        "colab": {
          "base_uri": "https://localhost:8080/"
        },
        "id": "B1ACqUgtwfna",
        "outputId": "db35a1ae-2ed1-483e-f0ff-ab1e04e113d2"
      },
      "source": [
        "# TULIS CODE UNTUK MENCETAK LAMA TRAINING TIME DISINI\n",
        "\n",
        "start = time.time()\n",
        "H = model.fit_generator(train_gen, epochs=100,validation_data=val_gen, verbose=1, callbacks=[callbacks_list])\n",
        "\n",
        "End = time.time()\n",
        "print (\"training time: \", End-start,\"s\")  # the time would be round to 3 decimal in seconds"
      ],
      "execution_count": 29,
      "outputs": [
        {
          "output_type": "stream",
          "name": "stderr",
          "text": [
            "/usr/local/lib/python3.7/dist-packages/keras/engine/training.py:1972: UserWarning: `Model.fit_generator` is deprecated and will be removed in a future version. Please use `Model.fit`, which supports generators.\n",
            "  warnings.warn('`Model.fit_generator` is deprecated and '\n"
          ]
        },
        {
          "output_type": "stream",
          "name": "stdout",
          "text": [
            "Epoch 1/100\n",
            "8/8 [==============================] - 51s 6s/step - loss: 1.1193 - accuracy: 0.4578 - val_loss: 1.0863 - val_accuracy: 0.3729\n",
            "\n",
            "Epoch 00001: val_accuracy improved from -inf to 0.37288, saving model to best_model.h5\n",
            "Epoch 2/100\n",
            "8/8 [==============================] - 45s 5s/step - loss: 0.6954 - accuracy: 0.7229 - val_loss: 1.0586 - val_accuracy: 0.3220\n",
            "\n",
            "Epoch 00002: val_accuracy did not improve from 0.37288\n",
            "Epoch 3/100\n",
            "8/8 [==============================] - 43s 5s/step - loss: 0.7277 - accuracy: 0.6305 - val_loss: 1.0346 - val_accuracy: 0.4576\n",
            "\n",
            "Epoch 00003: val_accuracy improved from 0.37288 to 0.45763, saving model to best_model.h5\n",
            "Epoch 4/100\n",
            "8/8 [==============================] - 43s 5s/step - loss: 0.6929 - accuracy: 0.6908 - val_loss: 1.0291 - val_accuracy: 0.4237\n",
            "\n",
            "Epoch 00004: val_accuracy did not improve from 0.45763\n",
            "Epoch 5/100\n",
            "8/8 [==============================] - 43s 5s/step - loss: 0.5669 - accuracy: 0.7751 - val_loss: 1.0315 - val_accuracy: 0.3390\n",
            "\n",
            "Epoch 00005: val_accuracy did not improve from 0.45763\n",
            "Epoch 6/100\n",
            "8/8 [==============================] - 43s 5s/step - loss: 0.5589 - accuracy: 0.7671 - val_loss: 1.0420 - val_accuracy: 0.3898\n",
            "\n",
            "Epoch 00006: val_accuracy did not improve from 0.45763\n",
            "\n",
            "Epoch 00006: ReduceLROnPlateau reducing learning rate to 4.999999873689376e-06.\n",
            "Epoch 7/100\n",
            "8/8 [==============================] - 43s 5s/step - loss: 0.5106 - accuracy: 0.7952 - val_loss: 1.0202 - val_accuracy: 0.4237\n",
            "\n",
            "Epoch 00007: val_accuracy did not improve from 0.45763\n",
            "Epoch 8/100\n",
            "8/8 [==============================] - 43s 5s/step - loss: 0.5148 - accuracy: 0.7831 - val_loss: 1.0243 - val_accuracy: 0.3729\n",
            "\n",
            "Epoch 00008: val_accuracy did not improve from 0.45763\n",
            "Epoch 9/100\n",
            "8/8 [==============================] - 47s 6s/step - loss: 0.5150 - accuracy: 0.7510 - val_loss: 1.0177 - val_accuracy: 0.4068\n",
            "\n",
            "Epoch 00009: val_accuracy did not improve from 0.45763\n",
            "\n",
            "Epoch 00009: ReduceLROnPlateau reducing learning rate to 3e-06.\n",
            "Epoch 10/100\n",
            "8/8 [==============================] - 43s 5s/step - loss: 0.4733 - accuracy: 0.7912 - val_loss: 1.0194 - val_accuracy: 0.4237\n",
            "\n",
            "Epoch 00010: val_accuracy did not improve from 0.45763\n",
            "Epoch 11/100\n",
            "8/8 [==============================] - 43s 5s/step - loss: 0.5039 - accuracy: 0.7751 - val_loss: 0.9873 - val_accuracy: 0.5424\n",
            "\n",
            "Epoch 00011: val_accuracy improved from 0.45763 to 0.54237, saving model to best_model.h5\n",
            "Epoch 12/100\n",
            "8/8 [==============================] - 43s 5s/step - loss: 0.5172 - accuracy: 0.7470 - val_loss: 0.9888 - val_accuracy: 0.5763\n",
            "\n",
            "Epoch 00012: val_accuracy improved from 0.54237 to 0.57627, saving model to best_model.h5\n",
            "Epoch 13/100\n",
            "8/8 [==============================] - 45s 5s/step - loss: 0.5211 - accuracy: 0.7711 - val_loss: 0.9825 - val_accuracy: 0.5424\n",
            "\n",
            "Epoch 00013: val_accuracy did not improve from 0.57627\n",
            "Epoch 14/100\n",
            "8/8 [==============================] - 43s 5s/step - loss: 0.5088 - accuracy: 0.8072 - val_loss: 0.9699 - val_accuracy: 0.6271\n",
            "\n",
            "Epoch 00014: val_accuracy improved from 0.57627 to 0.62712, saving model to best_model.h5\n",
            "Epoch 15/100\n",
            "8/8 [==============================] - 43s 5s/step - loss: 0.5251 - accuracy: 0.7952 - val_loss: 0.9492 - val_accuracy: 0.7458\n",
            "\n",
            "Epoch 00015: val_accuracy improved from 0.62712 to 0.74576, saving model to best_model.h5\n",
            "Epoch 16/100\n",
            "8/8 [==============================] - 43s 5s/step - loss: 0.4114 - accuracy: 0.8514 - val_loss: 0.9388 - val_accuracy: 0.6949\n",
            "\n",
            "Epoch 00016: val_accuracy did not improve from 0.74576\n",
            "Epoch 17/100\n",
            "8/8 [==============================] - 43s 5s/step - loss: 0.4625 - accuracy: 0.7791 - val_loss: 0.9081 - val_accuracy: 0.7966\n",
            "\n",
            "Epoch 00017: val_accuracy improved from 0.74576 to 0.79661, saving model to best_model.h5\n",
            "Epoch 18/100\n",
            "8/8 [==============================] - 44s 5s/step - loss: 0.4288 - accuracy: 0.8313 - val_loss: 0.9279 - val_accuracy: 0.6610\n",
            "\n",
            "Epoch 00018: val_accuracy did not improve from 0.79661\n",
            "Epoch 19/100\n",
            "8/8 [==============================] - 43s 5s/step - loss: 0.4160 - accuracy: 0.8554 - val_loss: 0.9197 - val_accuracy: 0.7627\n",
            "\n",
            "Epoch 00019: val_accuracy did not improve from 0.79661\n",
            "Epoch 20/100\n",
            "8/8 [==============================] - 43s 5s/step - loss: 0.5181 - accuracy: 0.7631 - val_loss: 0.9021 - val_accuracy: 0.8136\n",
            "\n",
            "Epoch 00020: val_accuracy improved from 0.79661 to 0.81356, saving model to best_model.h5\n",
            "Epoch 21/100\n",
            "8/8 [==============================] - 43s 5s/step - loss: 0.4718 - accuracy: 0.8153 - val_loss: 0.8852 - val_accuracy: 0.8305\n",
            "\n",
            "Epoch 00021: val_accuracy improved from 0.81356 to 0.83051, saving model to best_model.h5\n",
            "Epoch 22/100\n",
            "8/8 [==============================] - 45s 6s/step - loss: 0.4614 - accuracy: 0.8072 - val_loss: 0.8985 - val_accuracy: 0.7627\n",
            "\n",
            "Epoch 00022: val_accuracy did not improve from 0.83051\n",
            "Epoch 23/100\n",
            "8/8 [==============================] - 43s 5s/step - loss: 0.4480 - accuracy: 0.7831 - val_loss: 0.8641 - val_accuracy: 0.7797\n",
            "\n",
            "Epoch 00023: val_accuracy did not improve from 0.83051\n",
            "Epoch 24/100\n",
            "8/8 [==============================] - 43s 5s/step - loss: 0.4721 - accuracy: 0.8072 - val_loss: 0.8531 - val_accuracy: 0.7966\n",
            "\n",
            "Epoch 00024: val_accuracy did not improve from 0.83051\n",
            "Epoch 25/100\n",
            "8/8 [==============================] - 43s 5s/step - loss: 0.4967 - accuracy: 0.7791 - val_loss: 0.8645 - val_accuracy: 0.7627\n",
            "\n",
            "Epoch 00025: val_accuracy did not improve from 0.83051\n",
            "Epoch 26/100\n",
            "8/8 [==============================] - 43s 5s/step - loss: 0.4262 - accuracy: 0.8233 - val_loss: 0.8377 - val_accuracy: 0.7797\n",
            "\n",
            "Epoch 00026: val_accuracy did not improve from 0.83051\n",
            "Epoch 27/100\n",
            "8/8 [==============================] - 44s 5s/step - loss: 0.4621 - accuracy: 0.8032 - val_loss: 0.8219 - val_accuracy: 0.8305\n",
            "\n",
            "Epoch 00027: val_accuracy did not improve from 0.83051\n",
            "Epoch 28/100\n",
            "8/8 [==============================] - 43s 5s/step - loss: 0.4441 - accuracy: 0.8112 - val_loss: 0.7985 - val_accuracy: 0.8475\n",
            "\n",
            "Epoch 00028: val_accuracy improved from 0.83051 to 0.84746, saving model to best_model.h5\n",
            "Epoch 29/100\n",
            "8/8 [==============================] - 43s 5s/step - loss: 0.4648 - accuracy: 0.8032 - val_loss: 0.8040 - val_accuracy: 0.7288\n",
            "\n",
            "Epoch 00029: val_accuracy did not improve from 0.84746\n",
            "Epoch 30/100\n",
            "8/8 [==============================] - 43s 5s/step - loss: 0.4434 - accuracy: 0.8072 - val_loss: 0.8047 - val_accuracy: 0.7966\n",
            "\n",
            "Epoch 00030: val_accuracy did not improve from 0.84746\n",
            "Epoch 31/100\n",
            "8/8 [==============================] - 43s 5s/step - loss: 0.4998 - accuracy: 0.7631 - val_loss: 0.7716 - val_accuracy: 0.8475\n",
            "\n",
            "Epoch 00031: val_accuracy did not improve from 0.84746\n",
            "Epoch 32/100\n",
            "8/8 [==============================] - 43s 5s/step - loss: 0.3906 - accuracy: 0.8635 - val_loss: 0.7578 - val_accuracy: 0.8475\n",
            "\n",
            "Epoch 00032: val_accuracy did not improve from 0.84746\n",
            "Epoch 33/100\n",
            "8/8 [==============================] - 43s 5s/step - loss: 0.4662 - accuracy: 0.7791 - val_loss: 0.7518 - val_accuracy: 0.8305\n",
            "\n",
            "Epoch 00033: val_accuracy did not improve from 0.84746\n",
            "Epoch 34/100\n",
            "8/8 [==============================] - 43s 5s/step - loss: 0.4279 - accuracy: 0.8353 - val_loss: 0.7690 - val_accuracy: 0.7627\n",
            "\n",
            "Epoch 00034: val_accuracy did not improve from 0.84746\n",
            "Epoch 35/100\n",
            "8/8 [==============================] - 49s 6s/step - loss: 0.3466 - accuracy: 0.8474 - val_loss: 0.7389 - val_accuracy: 0.7797\n",
            "\n",
            "Epoch 00035: val_accuracy did not improve from 0.84746\n",
            "Epoch 36/100\n",
            "8/8 [==============================] - 44s 5s/step - loss: 0.4731 - accuracy: 0.8233 - val_loss: 0.7329 - val_accuracy: 0.7627\n",
            "\n",
            "Epoch 00036: val_accuracy did not improve from 0.84746\n",
            "Epoch 37/100\n",
            "8/8 [==============================] - 44s 5s/step - loss: 0.4618 - accuracy: 0.8153 - val_loss: 0.7320 - val_accuracy: 0.7966\n",
            "\n",
            "Epoch 00037: val_accuracy did not improve from 0.84746\n",
            "Epoch 38/100\n",
            "8/8 [==============================] - 43s 5s/step - loss: 0.3723 - accuracy: 0.8635 - val_loss: 0.6972 - val_accuracy: 0.7797\n",
            "\n",
            "Epoch 00038: val_accuracy did not improve from 0.84746\n",
            "Epoch 39/100\n",
            "8/8 [==============================] - 43s 5s/step - loss: 0.3896 - accuracy: 0.8434 - val_loss: 0.6687 - val_accuracy: 0.8136\n",
            "\n",
            "Epoch 00039: val_accuracy did not improve from 0.84746\n",
            "Epoch 40/100\n",
            "8/8 [==============================] - 43s 5s/step - loss: 0.3916 - accuracy: 0.8273 - val_loss: 0.6654 - val_accuracy: 0.8475\n",
            "\n",
            "Epoch 00040: val_accuracy did not improve from 0.84746\n",
            "Epoch 41/100\n",
            "8/8 [==============================] - 43s 5s/step - loss: 0.3782 - accuracy: 0.8474 - val_loss: 0.6137 - val_accuracy: 0.8983\n",
            "\n",
            "Epoch 00041: val_accuracy improved from 0.84746 to 0.89831, saving model to best_model.h5\n",
            "Epoch 42/100\n",
            "8/8 [==============================] - 43s 5s/step - loss: 0.4379 - accuracy: 0.8072 - val_loss: 0.6585 - val_accuracy: 0.7966\n",
            "\n",
            "Epoch 00042: val_accuracy did not improve from 0.89831\n",
            "Epoch 43/100\n",
            "8/8 [==============================] - 43s 5s/step - loss: 0.4405 - accuracy: 0.8353 - val_loss: 0.6438 - val_accuracy: 0.7966\n",
            "\n",
            "Epoch 00043: val_accuracy did not improve from 0.89831\n",
            "Epoch 44/100\n",
            "8/8 [==============================] - 43s 5s/step - loss: 0.4209 - accuracy: 0.8273 - val_loss: 0.6249 - val_accuracy: 0.7966\n",
            "\n",
            "Epoch 00044: val_accuracy did not improve from 0.89831\n",
            "Epoch 45/100\n",
            "8/8 [==============================] - 49s 6s/step - loss: 0.3637 - accuracy: 0.8233 - val_loss: 0.6231 - val_accuracy: 0.7966\n",
            "\n",
            "Epoch 00045: val_accuracy did not improve from 0.89831\n",
            "Epoch 46/100\n",
            "8/8 [==============================] - 44s 5s/step - loss: 0.3889 - accuracy: 0.8353 - val_loss: 0.5868 - val_accuracy: 0.7966\n",
            "\n",
            "Epoch 00046: val_accuracy did not improve from 0.89831\n",
            "Epoch 47/100\n",
            "8/8 [==============================] - 44s 5s/step - loss: 0.3353 - accuracy: 0.8755 - val_loss: 0.5983 - val_accuracy: 0.8305\n",
            "\n",
            "Epoch 00047: val_accuracy did not improve from 0.89831\n",
            "Epoch 48/100\n",
            "8/8 [==============================] - 43s 5s/step - loss: 0.3661 - accuracy: 0.8675 - val_loss: 0.5490 - val_accuracy: 0.8814\n",
            "\n",
            "Epoch 00048: val_accuracy did not improve from 0.89831\n",
            "Epoch 49/100\n",
            "8/8 [==============================] - 44s 5s/step - loss: 0.3333 - accuracy: 0.8514 - val_loss: 0.5359 - val_accuracy: 0.8136\n",
            "\n",
            "Epoch 00049: val_accuracy did not improve from 0.89831\n",
            "Epoch 50/100\n",
            "8/8 [==============================] - 43s 5s/step - loss: 0.4345 - accuracy: 0.8072 - val_loss: 0.5279 - val_accuracy: 0.8644\n",
            "\n",
            "Epoch 00050: val_accuracy did not improve from 0.89831\n",
            "Epoch 51/100\n",
            "8/8 [==============================] - 44s 5s/step - loss: 0.3936 - accuracy: 0.8353 - val_loss: 0.5423 - val_accuracy: 0.8644\n",
            "\n",
            "Epoch 00051: val_accuracy did not improve from 0.89831\n",
            "Epoch 52/100\n",
            "8/8 [==============================] - 43s 5s/step - loss: 0.3344 - accuracy: 0.8635 - val_loss: 0.5012 - val_accuracy: 0.8814\n",
            "\n",
            "Epoch 00052: val_accuracy did not improve from 0.89831\n",
            "Epoch 53/100\n",
            "8/8 [==============================] - 43s 5s/step - loss: 0.3679 - accuracy: 0.8514 - val_loss: 0.5154 - val_accuracy: 0.8305\n",
            "\n",
            "Epoch 00053: val_accuracy did not improve from 0.89831\n",
            "Epoch 54/100\n",
            "8/8 [==============================] - 50s 6s/step - loss: 0.3561 - accuracy: 0.8635 - val_loss: 0.4429 - val_accuracy: 0.8983\n",
            "\n",
            "Epoch 00054: val_accuracy did not improve from 0.89831\n",
            "Epoch 55/100\n",
            "8/8 [==============================] - 43s 5s/step - loss: 0.3966 - accuracy: 0.8112 - val_loss: 0.4627 - val_accuracy: 0.8644\n",
            "\n",
            "Epoch 00055: val_accuracy did not improve from 0.89831\n",
            "Epoch 56/100\n",
            "8/8 [==============================] - 43s 5s/step - loss: 0.4257 - accuracy: 0.8233 - val_loss: 0.4692 - val_accuracy: 0.8644\n",
            "\n",
            "Epoch 00056: val_accuracy did not improve from 0.89831\n",
            "Epoch 57/100\n",
            "8/8 [==============================] - 43s 5s/step - loss: 0.4078 - accuracy: 0.8193 - val_loss: 0.4448 - val_accuracy: 0.9153\n",
            "\n",
            "Epoch 00057: val_accuracy improved from 0.89831 to 0.91525, saving model to best_model.h5\n",
            "Epoch 58/100\n",
            "8/8 [==============================] - 44s 5s/step - loss: 0.3621 - accuracy: 0.8635 - val_loss: 0.4695 - val_accuracy: 0.7966\n",
            "\n",
            "Epoch 00058: val_accuracy did not improve from 0.91525\n",
            "Epoch 59/100\n",
            "8/8 [==============================] - 43s 5s/step - loss: 0.4008 - accuracy: 0.8434 - val_loss: 0.4668 - val_accuracy: 0.8305\n",
            "\n",
            "Epoch 00059: val_accuracy did not improve from 0.91525\n",
            "Epoch 60/100\n",
            "8/8 [==============================] - 43s 5s/step - loss: 0.4123 - accuracy: 0.8394 - val_loss: 0.4630 - val_accuracy: 0.8136\n",
            "\n",
            "Epoch 00060: val_accuracy did not improve from 0.91525\n",
            "Epoch 61/100\n",
            "8/8 [==============================] - 45s 5s/step - loss: 0.3674 - accuracy: 0.8233 - val_loss: 0.4326 - val_accuracy: 0.8644\n",
            "\n",
            "Epoch 00061: val_accuracy did not improve from 0.91525\n",
            "Epoch 62/100\n",
            "8/8 [==============================] - 44s 5s/step - loss: 0.3873 - accuracy: 0.8273 - val_loss: 0.4505 - val_accuracy: 0.8136\n",
            "\n",
            "Epoch 00062: val_accuracy did not improve from 0.91525\n",
            "Epoch 63/100\n",
            "8/8 [==============================] - 44s 5s/step - loss: 0.4144 - accuracy: 0.8273 - val_loss: 0.4317 - val_accuracy: 0.8305\n",
            "\n",
            "Epoch 00063: val_accuracy did not improve from 0.91525\n",
            "Epoch 64/100\n",
            "8/8 [==============================] - 48s 6s/step - loss: 0.3621 - accuracy: 0.8554 - val_loss: 0.4199 - val_accuracy: 0.7966\n",
            "\n",
            "Epoch 00064: val_accuracy did not improve from 0.91525\n",
            "Epoch 65/100\n",
            "8/8 [==============================] - 44s 5s/step - loss: 0.3530 - accuracy: 0.8594 - val_loss: 0.3737 - val_accuracy: 0.8644\n",
            "\n",
            "Epoch 00065: val_accuracy did not improve from 0.91525\n",
            "Epoch 66/100\n",
            "8/8 [==============================] - 44s 5s/step - loss: 0.3587 - accuracy: 0.8233 - val_loss: 0.3064 - val_accuracy: 0.9153\n",
            "\n",
            "Epoch 00066: val_accuracy did not improve from 0.91525\n",
            "Epoch 67/100\n",
            "8/8 [==============================] - 43s 5s/step - loss: 0.3727 - accuracy: 0.8112 - val_loss: 0.4309 - val_accuracy: 0.8136\n",
            "\n",
            "Epoch 00067: val_accuracy did not improve from 0.91525\n",
            "Epoch 68/100\n",
            "8/8 [==============================] - 44s 5s/step - loss: 0.3855 - accuracy: 0.8112 - val_loss: 0.3477 - val_accuracy: 0.9322\n",
            "\n",
            "Epoch 00068: val_accuracy improved from 0.91525 to 0.93220, saving model to best_model.h5\n",
            "Epoch 69/100\n",
            "8/8 [==============================] - 44s 5s/step - loss: 0.3015 - accuracy: 0.8594 - val_loss: 0.3884 - val_accuracy: 0.8475\n",
            "\n",
            "Epoch 00069: val_accuracy did not improve from 0.93220\n",
            "Epoch 70/100\n",
            "8/8 [==============================] - 44s 5s/step - loss: 0.4598 - accuracy: 0.7952 - val_loss: 0.4016 - val_accuracy: 0.8305\n",
            "\n",
            "Epoch 00070: val_accuracy did not improve from 0.93220\n",
            "Epoch 71/100\n",
            "8/8 [==============================] - 44s 5s/step - loss: 0.3402 - accuracy: 0.8675 - val_loss: 0.2620 - val_accuracy: 0.8983\n",
            "\n",
            "Epoch 00071: val_accuracy did not improve from 0.93220\n",
            "Epoch 72/100\n",
            "8/8 [==============================] - 44s 5s/step - loss: 0.3871 - accuracy: 0.8514 - val_loss: 0.3227 - val_accuracy: 0.8644\n",
            "\n",
            "Epoch 00072: val_accuracy did not improve from 0.93220\n",
            "Epoch 73/100\n",
            "8/8 [==============================] - 48s 6s/step - loss: 0.4166 - accuracy: 0.8032 - val_loss: 0.4210 - val_accuracy: 0.8475\n",
            "\n",
            "Epoch 00073: val_accuracy did not improve from 0.93220\n",
            "Epoch 74/100\n",
            "8/8 [==============================] - 44s 5s/step - loss: 0.4085 - accuracy: 0.8233 - val_loss: 0.3293 - val_accuracy: 0.8814\n",
            "\n",
            "Epoch 00074: val_accuracy did not improve from 0.93220\n",
            "Epoch 75/100\n",
            "8/8 [==============================] - 43s 5s/step - loss: 0.3476 - accuracy: 0.8554 - val_loss: 0.3243 - val_accuracy: 0.8814\n",
            "\n",
            "Epoch 00075: val_accuracy did not improve from 0.93220\n",
            "Epoch 76/100\n",
            "8/8 [==============================] - 44s 5s/step - loss: 0.3735 - accuracy: 0.8353 - val_loss: 0.3474 - val_accuracy: 0.8644\n",
            "\n",
            "Epoch 00076: val_accuracy did not improve from 0.93220\n",
            "Epoch 77/100\n",
            "8/8 [==============================] - 44s 5s/step - loss: 0.3643 - accuracy: 0.8474 - val_loss: 0.3652 - val_accuracy: 0.7966\n",
            "\n",
            "Epoch 00077: val_accuracy did not improve from 0.93220\n",
            "Epoch 78/100\n",
            "8/8 [==============================] - 43s 5s/step - loss: 0.3722 - accuracy: 0.8474 - val_loss: 0.4093 - val_accuracy: 0.8983\n",
            "\n",
            "Epoch 00078: val_accuracy did not improve from 0.93220\n",
            "Epoch 79/100\n",
            "8/8 [==============================] - 44s 5s/step - loss: 0.3846 - accuracy: 0.8514 - val_loss: 0.3214 - val_accuracy: 0.8644\n",
            "\n",
            "Epoch 00079: val_accuracy did not improve from 0.93220\n",
            "Epoch 80/100\n",
            "8/8 [==============================] - 44s 5s/step - loss: 0.4240 - accuracy: 0.8193 - val_loss: 0.2997 - val_accuracy: 0.8814\n",
            "\n",
            "Epoch 00080: val_accuracy did not improve from 0.93220\n",
            "Epoch 81/100\n",
            "8/8 [==============================] - 43s 5s/step - loss: 0.3918 - accuracy: 0.8514 - val_loss: 0.3048 - val_accuracy: 0.8983\n",
            "\n",
            "Epoch 00081: val_accuracy did not improve from 0.93220\n",
            "Epoch 82/100\n",
            "8/8 [==============================] - 47s 6s/step - loss: 0.3517 - accuracy: 0.8474 - val_loss: 0.2753 - val_accuracy: 0.9322\n",
            "\n",
            "Epoch 00082: val_accuracy did not improve from 0.93220\n",
            "Epoch 83/100\n",
            "8/8 [==============================] - 44s 5s/step - loss: 0.3804 - accuracy: 0.8072 - val_loss: 0.4192 - val_accuracy: 0.8475\n",
            "\n",
            "Epoch 00083: val_accuracy did not improve from 0.93220\n",
            "Epoch 84/100\n",
            "8/8 [==============================] - 43s 5s/step - loss: 0.3402 - accuracy: 0.8394 - val_loss: 0.3052 - val_accuracy: 0.8305\n",
            "\n",
            "Epoch 00084: val_accuracy did not improve from 0.93220\n",
            "Epoch 85/100\n",
            "8/8 [==============================] - 43s 5s/step - loss: 0.3321 - accuracy: 0.8554 - val_loss: 0.3275 - val_accuracy: 0.8983\n",
            "\n",
            "Epoch 00085: val_accuracy did not improve from 0.93220\n",
            "Epoch 86/100\n",
            "8/8 [==============================] - 43s 5s/step - loss: 0.3469 - accuracy: 0.8554 - val_loss: 0.3719 - val_accuracy: 0.8475\n",
            "\n",
            "Epoch 00086: val_accuracy did not improve from 0.93220\n",
            "Epoch 87/100\n",
            "8/8 [==============================] - 43s 5s/step - loss: 0.3959 - accuracy: 0.8394 - val_loss: 0.2858 - val_accuracy: 0.8983\n",
            "\n",
            "Epoch 00087: val_accuracy did not improve from 0.93220\n",
            "Epoch 88/100\n",
            "8/8 [==============================] - 43s 5s/step - loss: 0.3478 - accuracy: 0.8514 - val_loss: 0.2798 - val_accuracy: 0.8983\n",
            "\n",
            "Epoch 00088: val_accuracy did not improve from 0.93220\n",
            "Epoch 89/100\n",
            "8/8 [==============================] - 43s 5s/step - loss: 0.3732 - accuracy: 0.8635 - val_loss: 0.3081 - val_accuracy: 0.8305\n",
            "\n",
            "Epoch 00089: val_accuracy did not improve from 0.93220\n",
            "Epoch 90/100\n",
            "8/8 [==============================] - 43s 5s/step - loss: 0.3682 - accuracy: 0.8675 - val_loss: 0.2915 - val_accuracy: 0.8983\n",
            "\n",
            "Epoch 00090: val_accuracy did not improve from 0.93220\n",
            "Epoch 91/100\n",
            "8/8 [==============================] - 43s 5s/step - loss: 0.3630 - accuracy: 0.8434 - val_loss: 0.3510 - val_accuracy: 0.8814\n",
            "\n",
            "Epoch 00091: val_accuracy did not improve from 0.93220\n",
            "Epoch 92/100\n",
            "8/8 [==============================] - 43s 5s/step - loss: 0.3323 - accuracy: 0.8675 - val_loss: 0.2863 - val_accuracy: 0.8983\n",
            "\n",
            "Epoch 00092: val_accuracy did not improve from 0.93220\n",
            "Epoch 93/100\n",
            "8/8 [==============================] - 43s 5s/step - loss: 0.3694 - accuracy: 0.8474 - val_loss: 0.2338 - val_accuracy: 0.9322\n",
            "\n",
            "Epoch 00093: val_accuracy did not improve from 0.93220\n",
            "Epoch 94/100\n",
            "8/8 [==============================] - 43s 5s/step - loss: 0.3262 - accuracy: 0.8635 - val_loss: 0.2652 - val_accuracy: 0.8814\n",
            "\n",
            "Epoch 00094: val_accuracy did not improve from 0.93220\n",
            "Epoch 95/100\n",
            "8/8 [==============================] - 43s 5s/step - loss: 0.3462 - accuracy: 0.8434 - val_loss: 0.2997 - val_accuracy: 0.8644\n",
            "\n",
            "Epoch 00095: val_accuracy did not improve from 0.93220\n",
            "Epoch 96/100\n",
            "8/8 [==============================] - 43s 5s/step - loss: 0.3379 - accuracy: 0.8554 - val_loss: 0.2929 - val_accuracy: 0.8814\n",
            "\n",
            "Epoch 00096: val_accuracy did not improve from 0.93220\n",
            "Epoch 97/100\n",
            "8/8 [==============================] - 43s 5s/step - loss: 0.3374 - accuracy: 0.8474 - val_loss: 0.2914 - val_accuracy: 0.9153\n",
            "\n",
            "Epoch 00097: val_accuracy did not improve from 0.93220\n",
            "Epoch 98/100\n",
            "8/8 [==============================] - 43s 5s/step - loss: 0.3918 - accuracy: 0.8394 - val_loss: 0.3040 - val_accuracy: 0.8814\n",
            "\n",
            "Epoch 00098: val_accuracy did not improve from 0.93220\n",
            "Epoch 99/100\n",
            "8/8 [==============================] - 43s 5s/step - loss: 0.2986 - accuracy: 0.8675 - val_loss: 0.2418 - val_accuracy: 0.9153\n",
            "\n",
            "Epoch 00099: val_accuracy did not improve from 0.93220\n",
            "Epoch 100/100\n",
            "8/8 [==============================] - 43s 5s/step - loss: 0.3247 - accuracy: 0.8715 - val_loss: 0.2593 - val_accuracy: 0.8983\n",
            "\n",
            "Epoch 00100: val_accuracy did not improve from 0.93220\n",
            "training time:  6651.438845157623 s\n"
          ]
        }
      ]
    },
    {
      "cell_type": "code",
      "metadata": {
        "id": "NH_5rk9Cwh7i"
      },
      "source": [
        "# IMPORT SEMUA PAKET YANG ANDA PERLUKAN UNTUK MENGEVALUASI MODEL DISINI\n",
        "\n",
        "%matplotlib inline\n",
        "\n",
        "import matplotlib.pyplot as plt\n",
        "import numpy as np\n",
        "from keras.models import load_model\n",
        "from sklearn.metrics import classification_report, confusion_matrix\n",
        "from google.colab import files"
      ],
      "execution_count": 1,
      "outputs": []
    },
    {
      "cell_type": "code",
      "metadata": {
        "colab": {
          "base_uri": "https://localhost:8080/",
          "height": 235
        },
        "id": "PUkpYuKCIiYp",
        "outputId": "948c3c34-47dd-42ff-8adc-64089623deef"
      },
      "source": [
        "# TULIS CODE UNTUK EVALUASI MODEL DISINI\n",
        "\n",
        "model.load_weights(best_model.h5_path)\n",
        "\n",
        "ypred = model.predict(test_gen)\n",
        "prediction = np.argmax(ypred, axis=1)\n",
        "print(classification_report(test_gen.classes, prediction))"
      ],
      "execution_count": 6,
      "outputs": [
        {
          "output_type": "error",
          "ename": "NameError",
          "evalue": "ignored",
          "traceback": [
            "\u001b[0;31m---------------------------------------------------------------------------\u001b[0m",
            "\u001b[0;31mNameError\u001b[0m                                 Traceback (most recent call last)",
            "\u001b[0;32m<ipython-input-6-fed08a7b119a>\u001b[0m in \u001b[0;36m<module>\u001b[0;34m()\u001b[0m\n\u001b[1;32m      1\u001b[0m \u001b[0;31m# TULIS CODE UNTUK EVALUASI MODEL DISINI\u001b[0m\u001b[0;34m\u001b[0m\u001b[0;34m\u001b[0m\u001b[0;34m\u001b[0m\u001b[0m\n\u001b[1;32m      2\u001b[0m \u001b[0;34m\u001b[0m\u001b[0m\n\u001b[0;32m----> 3\u001b[0;31m \u001b[0mmodel\u001b[0m\u001b[0;34m.\u001b[0m\u001b[0mload_weights\u001b[0m\u001b[0;34m(\u001b[0m\u001b[0mbest_model\u001b[0m\u001b[0;34m.\u001b[0m\u001b[0mh5_path\u001b[0m\u001b[0;34m)\u001b[0m\u001b[0;34m\u001b[0m\u001b[0;34m\u001b[0m\u001b[0m\n\u001b[0m\u001b[1;32m      4\u001b[0m \u001b[0;34m\u001b[0m\u001b[0m\n\u001b[1;32m      5\u001b[0m \u001b[0mypred\u001b[0m \u001b[0;34m=\u001b[0m \u001b[0mmodel\u001b[0m\u001b[0;34m.\u001b[0m\u001b[0mpredict\u001b[0m\u001b[0;34m(\u001b[0m\u001b[0mtest_gen\u001b[0m\u001b[0;34m)\u001b[0m\u001b[0;34m\u001b[0m\u001b[0;34m\u001b[0m\u001b[0m\n",
            "\u001b[0;31mNameError\u001b[0m: name 'model' is not defined"
          ]
        }
      ]
    },
    {
      "cell_type": "code",
      "metadata": {
        "id": "XfLlD9i4Ioor"
      },
      "source": [
        "import itertools\n",
        "def plot_confusion_matrix(cm, classes,\n",
        "                          normalize=False,\n",
        "                          title='Confusion matrix',\n",
        "                          cmap=plt.cm.Blues):\n",
        "    if normalize:\n",
        "        cm = cm.astype('float') / cm.sum(axis=1)[:, np.newaxis]\n",
        "        print(\"Normalized confusion matrix\")\n",
        "    else:\n",
        "        print('Confusion matrix, without normalization')\n",
        "\n",
        "    print(cm)\n",
        "\n",
        "    plt.imshow(cm, interpolation='nearest', cmap=cmap)\n",
        "    plt.title(title)\n",
        "    plt.colorbar()\n",
        "    tick_marks = np.arange(len(classes))\n",
        "    plt.xticks(tick_marks, classes, rotation=45)\n",
        "    plt.yticks(tick_marks, classes)\n",
        "\n",
        "    fmt = '.2f' if normalize else 'd'\n",
        "    thresh = cm.max() / 2.\n",
        "    for i, j in itertools.product(range(cm.shape[0]), range(cm.shape[1])):\n",
        "        plt.text(j, i, format(cm[i, j], fmt),\n",
        "                 horizontalalignment=\"center\",\n",
        "                 color=\"white\" if cm[i, j] > thresh else \"black\")\n",
        "\n",
        "    plt.tight_layout()\n",
        "    plt.ylabel('Actual')\n",
        "    plt.xlabel('Predicted')\n",
        "\n",
        "cnf_matrix=confusion_matrix(test_gen.classes,prediction)\n",
        "plot_confusion_matrix(cnf_matrix, classes=test_gen.class_indices)"
      ],
      "execution_count": null,
      "outputs": []
    },
    {
      "cell_type": "code",
      "metadata": {
        "id": "qOOFouRJJfgj"
      },
      "source": [
        "# TULIS CODE UNTUK PLOT EVALUASI MODEL DISINI\n",
        "\n",
        "plt.style.use(\"ggplot\")\n",
        "\n",
        "plt.plot(np.arange(0, 25), H.history[\"loss\"], label=\"train_loss\")\n",
        "plt.plot(np.arange(0, 25), H.history[\"val_loss\"], label=\"val_loss\")\n",
        "plt.title(\"Loss Plot\")\n",
        "plt.xlabel(\"Epoch #\")\n",
        "plt.ylabel(\"Loss\")\n",
        "plt.show()\n",
        "\n",
        "plt.plot(np.arange(0, 25), H.history[\"accuracy\"], label=\"train_acc\")\n",
        "plt.plot(np.arange(0, 25), H.history[\"val_accuracy\"], label=\"val_acc\")\n",
        "plt.title(\"Accuracy Plot\")\n",
        "plt.xlabel(\"Epoch #\")\n",
        "plt.ylabel(\"Accuracy\")\n",
        "plt.legend()\n",
        "plt.show()"
      ],
      "execution_count": null,
      "outputs": []
    },
    {
      "cell_type": "code",
      "metadata": {
        "id": "v3g6zKtuJjAA"
      },
      "source": [
        "import PIL\n",
        "\n",
        "def predictModel(image_path):\n",
        "    img = PIL.Image.open(image_path)\n",
        "    img_resized = img.resize((224, 224), PIL.Image.LANCZOS)\n",
        "\n",
        "    plt.imshow(img_resized)\n",
        "\n",
        "    img_array = np.expand_dims(np.array(img_resized), axis=0)\n",
        "\n",
        "    pred_coba = model.predict_classes(img_array)\n",
        "    a = model.predict(img_array)\n",
        "\n",
        "    labels = np.argmax(a, axis=1)\n",
        "\n",
        "    plt.title(f\"Pred : {a}\\nLabels : {labels}\")\n",
        "\n",
        "predictModel(\"/content/drive/My Drive/TugasPraktikum/Covid19-dataset/test/Covid/051.jpeg\")"
      ],
      "execution_count": null,
      "outputs": []
    }
  ]
}