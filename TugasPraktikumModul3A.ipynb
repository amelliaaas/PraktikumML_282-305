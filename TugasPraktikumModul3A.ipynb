{
  "nbformat": 4,
  "nbformat_minor": 0,
  "metadata": {
    "colab": {
      "name": "TugasPraktikumModul3A.ipynb",
      "provenance": [],
      "include_colab_link": true
    },
    "kernelspec": {
      "name": "python3",
      "display_name": "Python 3"
    },
    "language_info": {
      "name": "python"
    }
  },
  "cells": [
    {
      "cell_type": "markdown",
      "metadata": {
        "id": "view-in-github",
        "colab_type": "text"
      },
      "source": [
        "<a href=\"https://colab.research.google.com/github/amelliaaas/PraktikumML_282-305/blob/main/TugasPraktikumModul3A.ipynb\" target=\"_parent\"><img src=\"https://colab.research.google.com/assets/colab-badge.svg\" alt=\"Open In Colab\"/></a>"
      ]
    },
    {
      "cell_type": "code",
      "metadata": {
        "colab": {
          "base_uri": "https://localhost:8080/"
        },
        "id": "OnxG4N4Bp3Xz",
        "outputId": "7b527dda-5a1d-41d9-9d7d-a19c6629fd2e"
      },
      "source": [
        "from google.colab import drive\n",
        "drive.mount('/content/drive')"
      ],
      "execution_count": null,
      "outputs": [
        {
          "output_type": "stream",
          "name": "stdout",
          "text": [
            "Drive already mounted at /content/drive; to attempt to forcibly remount, call drive.mount(\"/content/drive\", force_remount=True).\n"
          ]
        }
      ]
    },
    {
      "cell_type": "code",
      "metadata": {
        "colab": {
          "base_uri": "https://localhost:8080/"
        },
        "id": "YBXgJ8CLvFJq",
        "outputId": "eb71d357-81c2-458f-eae2-c4c238649370"
      },
      "source": [
        "%cd /content/drive/MyDrive/Covid19-dataset"
      ],
      "execution_count": null,
      "outputs": [
        {
          "output_type": "stream",
          "name": "stdout",
          "text": [
            "/content/drive/MyDrive/Covid19-dataset\n"
          ]
        }
      ]
    },
    {
      "cell_type": "code",
      "metadata": {
        "id": "JT1zPZX-qA8I"
      },
      "source": [
        "# Define kaggle json path\n",
        "# Sesuaikan dengan path anda\n",
        "import os\n",
        "os.environ['KAGGLE_CONFIG_DIR'] = \"/content/drive/My Drive/TugasPraktikum\""
      ],
      "execution_count": null,
      "outputs": []
    },
    {
      "cell_type": "code",
      "metadata": {
        "colab": {
          "base_uri": "https://localhost:8080/"
        },
        "id": "y3Z-sv73qVe0",
        "outputId": "5d5d56c4-0722-4a03-9521-50eeb3c01da6"
      },
      "source": [
        "# Ubah lokasi direktori kerja\n",
        "# Sesuaikan dengan path anda\n",
        "%cd /content/drive/My Drive/TugasPraktikum"
      ],
      "execution_count": null,
      "outputs": [
        {
          "output_type": "stream",
          "name": "stdout",
          "text": [
            "/content/drive/My Drive/TugasPraktikum\n"
          ]
        }
      ]
    },
    {
      "cell_type": "code",
      "metadata": {
        "colab": {
          "base_uri": "https://localhost:8080/"
        },
        "id": "X8R_glk2qYPH",
        "outputId": "21317f42-da2e-45be-a074-627955e43e1a"
      },
      "source": [
        "# Cek apakah api sudah terbaca oleh sistem\n",
        "!ls  "
      ],
      "execution_count": null,
      "outputs": [
        {
          "output_type": "stream",
          "name": "stdout",
          "text": [
            "'kaggle (4).json'\n"
          ]
        }
      ]
    },
    {
      "cell_type": "code",
      "metadata": {
        "colab": {
          "base_uri": "https://localhost:8080/"
        },
        "id": "bofYI-uUqbkm",
        "outputId": "3206d4ee-94f9-4291-aac4-adb7339b9ce9"
      },
      "source": [
        "!kaggle datasets download -d pranavraikokte/covid19-image-dataset"
      ],
      "execution_count": null,
      "outputs": [
        {
          "output_type": "stream",
          "name": "stdout",
          "text": [
            "Traceback (most recent call last):\n",
            "  File \"/usr/local/bin/kaggle\", line 5, in <module>\n",
            "    from kaggle.cli import main\n",
            "  File \"/usr/local/lib/python2.7/dist-packages/kaggle/__init__.py\", line 23, in <module>\n",
            "    api.authenticate()\n",
            "  File \"/usr/local/lib/python2.7/dist-packages/kaggle/api/kaggle_api_extended.py\", line 146, in authenticate\n",
            "    self.config_file, self.config_dir))\n",
            "IOError: Could not find kaggle.json. Make sure it's located in /content/drive/My Drive/TugasPraktikum. Or use the environment method.\n"
          ]
        }
      ]
    },
    {
      "cell_type": "code",
      "metadata": {
        "colab": {
          "base_uri": "https://localhost:8080/"
        },
        "id": "0F1Mp5SAqpp6",
        "outputId": "fd7da39a-d18f-4761-aa90-9940074e0d84"
      },
      "source": [
        "# Cek isi direktori kerja dan memastikan dataset telah berhasil didownload.\n",
        "!ls"
      ],
      "execution_count": null,
      "outputs": [
        {
          "output_type": "stream",
          "name": "stdout",
          "text": [
            "'kaggle (4).json'\n"
          ]
        }
      ]
    },
    {
      "cell_type": "code",
      "metadata": {
        "id": "R5clTRUQUsR0"
      },
      "source": [
        "# Ekstrak file dataset dan hapus file zip dataset agar tidak memakan banyak tempat.\n",
        "!unzip \\*.zip &> /dev/null && rm *.zip"
      ],
      "execution_count": null,
      "outputs": []
    },
    {
      "cell_type": "code",
      "metadata": {
        "colab": {
          "base_uri": "https://localhost:8080/"
        },
        "id": "dqvUYoOWUvn3",
        "outputId": "a9e278de-6e1f-4ed4-c433-bbbddd03541b"
      },
      "source": [
        "# Cek isi direktori kerja untuk memastikan dataset telah berhasil diekstrak.\n",
        "!ls"
      ],
      "execution_count": null,
      "outputs": [
        {
          "output_type": "stream",
          "name": "stdout",
          "text": [
            "best_model.h5  Covid19-dataset\tdataset  kaggle.json\n"
          ]
        }
      ]
    },
    {
      "cell_type": "code",
      "metadata": {
        "id": "VJO_g1XMU9cp"
      },
      "source": [
        "#Buat folder baru bernama dataset\n",
        "!mkdir dataset"
      ],
      "execution_count": null,
      "outputs": []
    },
    {
      "cell_type": "code",
      "metadata": {
        "id": "r4UqnCL3e-Qk"
      },
      "source": [
        "!mkdir Covid19-dataset"
      ],
      "execution_count": null,
      "outputs": []
    },
    {
      "cell_type": "code",
      "metadata": {
        "id": "h7DnRqxIpePv"
      },
      "source": [
        "import os\n",
        "base_dir = 'Covid19-dataset'\n",
        "\n",
        "train_dir = os.path.join(base_dir, 'test')\n",
        "test_dir = os.path.join(base_dir, 'train')\n",
        "\n",
        "train_covid_dir = os.path.join(train_dir, 'Covid')\n",
        "train_normal_dir = os.path.join(train_dir, 'Normal')\n",
        "train_pneumonia_dir = os.path.join(train_dir, 'Viral Pneumonia')\n",
        "\n",
        "test_covid_dir = os.path.join(test_dir, 'Covid')\n",
        "test_normal_dir = os.path.join(test_dir, 'Normal')\n",
        "test_pneumonia_dir = os.path.join(test_dir, 'Viral Pneumonia')\n"
      ],
      "execution_count": null,
      "outputs": []
    },
    {
      "cell_type": "code",
      "metadata": {
        "colab": {
          "base_uri": "https://localhost:8080/"
        },
        "id": "Y6VYRf1z6Ld7",
        "outputId": "f813d549-3208-4728-c677-52f528f21b27"
      },
      "source": [
        "ls"
      ],
      "execution_count": null,
      "outputs": [
        {
          "output_type": "stream",
          "name": "stdout",
          "text": [
            "\u001b[0m\u001b[01;34mCovid19-dataset\u001b[0m/  \u001b[01;34mdataset\u001b[0m/  \u001b[01;34mtest\u001b[0m/  \u001b[01;34mtrain\u001b[0m/\n"
          ]
        }
      ]
    },
    {
      "cell_type": "code",
      "metadata": {
        "colab": {
          "base_uri": "https://localhost:8080/",
          "height": 35
        },
        "id": "PWCLxyeo6Vhr",
        "outputId": "ab8a6c79-6429-4271-9223-ff80b5d89b0a"
      },
      "source": [
        "test_covid_dir"
      ],
      "execution_count": null,
      "outputs": [
        {
          "output_type": "execute_result",
          "data": {
            "application/vnd.google.colaboratory.intrinsic+json": {
              "type": "string"
            },
            "text/plain": [
              "'Covid19-dataset/test/Covid'"
            ]
          },
          "metadata": {},
          "execution_count": 17
        }
      ]
    },
    {
      "cell_type": "code",
      "metadata": {
        "colab": {
          "base_uri": "https://localhost:8080/"
        },
        "id": "U7nl-O_b-WqD",
        "outputId": "a254dff4-7837-4876-b489-778c770f7c32"
      },
      "source": [
        "cd -"
      ],
      "execution_count": null,
      "outputs": [
        {
          "output_type": "stream",
          "name": "stdout",
          "text": [
            "/content/drive/My Drive/TugasPraktikum\n"
          ]
        }
      ]
    },
    {
      "cell_type": "code",
      "metadata": {
        "colab": {
          "base_uri": "https://localhost:8080/"
        },
        "id": "RlUC6-lH-dWf",
        "outputId": "6700e58e-6f39-426c-9d83-32fded7fe943"
      },
      "source": [
        "ls"
      ],
      "execution_count": null,
      "outputs": [
        {
          "output_type": "stream",
          "name": "stdout",
          "text": [
            " \u001b[0m\u001b[01;34mCovid19-dataset\u001b[0m/  'kaggle (4).json'\n"
          ]
        }
      ]
    },
    {
      "cell_type": "code",
      "metadata": {
        "id": "tWRv51Zdp9Tc"
      },
      "source": [
        "#moving all dataset to training\n",
        "import shutil\n",
        "\n",
        "dataset1= os.listdir(test_covid_dir)\n",
        "for file in dataset1:\n",
        "  new_path = shutil.move(f\"{test_covid_dir}/{file}\",train_covid_dir)\n",
        "\n",
        "dataset2= os.listdir(test_normal_dir)\n",
        "for file in dataset2:\n",
        "  new_path = shutil.move(f\"{test_normal_dir}/{file}\",train_normal_dir)\n",
        "\n",
        "dataset3= os.listdir(test_pneumonia_dir)\n",
        "for file in dataset3:\n",
        "  new_path = shutil.move(f\"{test_pneumonia_dir}/{file}\",train_pneumonia_dir)\n",
        "\n"
      ],
      "execution_count": null,
      "outputs": []
    },
    {
      "cell_type": "code",
      "metadata": {
        "id": "wwNzTHkmfH0S",
        "colab": {
          "base_uri": "https://localhost:8080/"
        },
        "outputId": "55616f2b-9672-42f8-e1dc-9252e683623b"
      },
      "source": [
        "!mkdir Covid19-dataset/datasets"
      ],
      "execution_count": null,
      "outputs": [
        {
          "output_type": "stream",
          "name": "stdout",
          "text": [
            "mkdir: cannot create directory ‘Covid19-dataset/datasets’: File exists\n"
          ]
        }
      ]
    },
    {
      "cell_type": "code",
      "metadata": {
        "colab": {
          "base_uri": "https://localhost:8080/"
        },
        "id": "hXAMnY86CjwQ",
        "outputId": "6982f9aa-1b75-4021-e487-551745ce481e"
      },
      "source": [
        "pip install split-folders"
      ],
      "execution_count": null,
      "outputs": [
        {
          "output_type": "stream",
          "name": "stdout",
          "text": [
            "Collecting split-folders\n",
            "  Downloading split_folders-0.4.3-py3-none-any.whl (7.4 kB)\n",
            "Installing collected packages: split-folders\n",
            "Successfully installed split-folders-0.4.3\n"
          ]
        }
      ]
    },
    {
      "cell_type": "code",
      "metadata": {
        "colab": {
          "base_uri": "https://localhost:8080/"
        },
        "id": "UBkbwdqcaCg0",
        "outputId": "f543a321-0291-40a7-985d-330ddac014e3"
      },
      "source": [
        "import splitfolders\n",
        "splitfolders.ratio(train_dir, output=\"Covid19-dataset/datasets\", seed=1337, ratio=(.8, .19, .01))"
      ],
      "execution_count": null,
      "outputs": [
        {
          "output_type": "stream",
          "name": "stderr",
          "text": [
            "Copying files: 313 files [01:27,  3.57 files/s]\n"
          ]
        }
      ]
    },
    {
      "cell_type": "code",
      "metadata": {
        "id": "7e8p-20Mwuvo"
      },
      "source": [
        "# Definisikan path untuk data train test dan validation\n",
        "# sesuaikan dengan path anda\n",
        "import os\n",
        "base_dir = 'Covid19-dataset/datasets'\n",
        "train_path = os.path.join(base_dir, 'train')\n",
        "test_path  = os.path.join(base_dir, 'test')\n",
        "val_path   = os.path.join(base_dir, 'val')"
      ],
      "execution_count": null,
      "outputs": []
    },
    {
      "cell_type": "code",
      "metadata": {
        "id": "wl9rmMItaGVI",
        "colab": {
          "base_uri": "https://localhost:8080/"
        },
        "outputId": "c1c42d6c-35d4-4af6-9c86-9e6cb52d9723"
      },
      "source": [
        "# TULIS KODE ANDA DISINI\n",
        "\n",
        "from keras.preprocessing.image import ImageDataGenerator\n",
        "from sklearn.utils import shuffle\n",
        "\n",
        "batch_size = 32\n",
        "augmen_gen = ImageDataGenerator(rescale=1. / 255,\n",
        "                                rotation_range=40,\n",
        "                                width_shift_range=0.2,\n",
        "                                height_shift_range=0.2,\n",
        "                                zoom_range=0.2,\n",
        "                                horizontal_flip=True,\n",
        "                                fill_mode='nearest')\n",
        "\n",
        "train_gen = augmen_gen.flow_from_directory(\n",
        "    train_path,\n",
        "    class_mode = 'categorical',\n",
        "    shuffle=True,\n",
        "    target_size = (224,224),\n",
        "    batch_size=batch_size,\n",
        "    color_mode ='rgb'\n",
        ")\n",
        "\n",
        "val_gen = augmen_gen.flow_from_directory(\n",
        "    val_path,\n",
        "    class_mode = 'categorical',\n",
        "    shuffle=True,\n",
        "    target_size = (224,224),\n",
        "    batch_size= batch_size,\n",
        "    color_mode ='rgb'\n",
        ")\n",
        "\n",
        "test_gen = augmen_gen.flow_from_directory(\n",
        "    test_path,\n",
        "    class_mode = 'categorical',\n",
        "    shuffle=False,\n",
        "    target_size = (224,224),\n",
        "    batch_size=batch_size,\n",
        "    color_mode ='rgb',\n",
        ")"
      ],
      "execution_count": null,
      "outputs": [
        {
          "output_type": "stream",
          "name": "stdout",
          "text": [
            "Found 249 images belonging to 3 classes.\n",
            "Found 59 images belonging to 3 classes.\n",
            "Found 5 images belonging to 3 classes.\n"
          ]
        }
      ]
    },
    {
      "cell_type": "code",
      "metadata": {
        "id": "mhmkYfi9wM3R"
      },
      "source": [
        "# IMPORT SEMUA PAKET YANG ANDA PERLUKAN UNTUK MENDEFINISIKAN MODEL DISINI\n",
        "\n",
        "from tensorflow.keras.models import Sequential\n",
        "from tensorflow.keras.layers import InputLayer, Dense, Conv2D, MaxPool2D, Flatten, BatchNormalization, Dropout\n",
        "from tensorflow.keras.callbacks import ModelCheckpoint, ReduceLROnPlateau, EarlyStopping\n",
        "from tensorflow.keras.optimizers import Adam\n",
        "import time"
      ],
      "execution_count": null,
      "outputs": []
    },
    {
      "cell_type": "code",
      "metadata": {
        "id": "XP_9j1sowSVd"
      },
      "source": [
        "# DEFINISIKAN MODEL ANDA DISINI\n",
        "\n",
        "#Feature Selection\n",
        "model = Sequential()\n",
        "\n",
        "model.add(InputLayer(input_shape=[224,224,3]))\n",
        "model.add(Conv2D(filters=32, kernel_size=3, strides=1, padding='same', activation='relu'))\n",
        "model.add(MaxPool2D(pool_size=2, padding='same'))\n",
        "model.add(Conv2D(filters=64, kernel_size=3, strides=1, padding='same', activation='relu'))\n",
        "model.add(MaxPool2D(pool_size=2, padding='same'))\n",
        "model.add(Conv2D(filters=128, kernel_size=3, strides=1, padding='same', activation='relu'))\n",
        "model.add(MaxPool2D(pool_size=2, padding='same'))\n",
        "model.add(Dropout(0.25))\n",
        "model.add(BatchNormalization())\n",
        "model.add(Flatten())\n",
        "\n",
        "#Fully Connected Layer\n",
        "model.add(Dense(512, activation='relu'))\n",
        "model.add(Dropout(0.3))\n",
        "model.add(Dense(3, activation='softmax'))\n"
      ],
      "execution_count": null,
      "outputs": []
    },
    {
      "cell_type": "code",
      "metadata": {
        "colab": {
          "base_uri": "https://localhost:8080/"
        },
        "id": "jXHeGkZmwTjF",
        "outputId": "700f3c87-f4b2-4fcc-ec22-f516825fb20f"
      },
      "source": [
        "# TULIS CODE UNTUK MENAMPILKAN SUMMARY DARI ARSITEKTUR MODEL ANDA DISINI\n",
        "\n",
        "print(model.summary())"
      ],
      "execution_count": null,
      "outputs": [
        {
          "output_type": "stream",
          "name": "stdout",
          "text": [
            "Model: \"sequential\"\n",
            "_________________________________________________________________\n",
            " Layer (type)                Output Shape              Param #   \n",
            "=================================================================\n",
            " conv2d (Conv2D)             (None, 224, 224, 32)      896       \n",
            "                                                                 \n",
            " max_pooling2d (MaxPooling2D  (None, 112, 112, 32)     0         \n",
            " )                                                               \n",
            "                                                                 \n",
            " conv2d_1 (Conv2D)           (None, 112, 112, 64)      18496     \n",
            "                                                                 \n",
            " max_pooling2d_1 (MaxPooling  (None, 56, 56, 64)       0         \n",
            " 2D)                                                             \n",
            "                                                                 \n",
            " conv2d_2 (Conv2D)           (None, 56, 56, 128)       73856     \n",
            "                                                                 \n",
            " max_pooling2d_2 (MaxPooling  (None, 28, 28, 128)      0         \n",
            " 2D)                                                             \n",
            "                                                                 \n",
            " dropout (Dropout)           (None, 28, 28, 128)       0         \n",
            "                                                                 \n",
            " batch_normalization (BatchN  (None, 28, 28, 128)      512       \n",
            " ormalization)                                                   \n",
            "                                                                 \n",
            " flatten (Flatten)           (None, 100352)            0         \n",
            "                                                                 \n",
            " dense (Dense)               (None, 512)               51380736  \n",
            "                                                                 \n",
            " dropout_1 (Dropout)         (None, 512)               0         \n",
            "                                                                 \n",
            " dense_1 (Dense)             (None, 3)                 1539      \n",
            "                                                                 \n",
            "=================================================================\n",
            "Total params: 51,476,035\n",
            "Trainable params: 51,475,779\n",
            "Non-trainable params: 256\n",
            "_________________________________________________________________\n",
            "None\n"
          ]
        }
      ]
    },
    {
      "cell_type": "code",
      "metadata": {
        "id": "7yPzzehTwWd1"
      },
      "source": [
        "# TULIS CODE CALLBACKS ANDA DISINI\n",
        "\n",
        "best_model_path = 'best_model.h5'\n",
        "checkpoint_callback = ModelCheckpoint(best_model_path,\n",
        "                                      monitor='val_accuracy',\n",
        "                                      save_best_only=True,\n",
        "                                      verbose=1)\n",
        "reduce_callback = ReduceLROnPlateau(monitor='val_accuracy', patience=3, factor=0.5, min_lr=0.000003, verbose=1)\n",
        "callbacks_list = [checkpoint_callback, reduce_callback]"
      ],
      "execution_count": null,
      "outputs": []
    },
    {
      "cell_type": "code",
      "metadata": {
        "id": "nU7Yh0P2wbEW"
      },
      "source": [
        "# TULIS CODE UNTUK DEFINISI LEARNING RATE DISINI \n",
        "\n",
        "learning_rate = 0.00001"
      ],
      "execution_count": null,
      "outputs": []
    },
    {
      "cell_type": "code",
      "metadata": {
        "colab": {
          "base_uri": "https://localhost:8080/"
        },
        "id": "1J9fBU0YwdkB",
        "outputId": "3b9067cc-c476-4303-98fe-ae82538f9096"
      },
      "source": [
        "# TULIS CODE UNTUK TRAINING DISINI\n",
        "\n",
        "model.compile(loss='categorical_crossentropy',\n",
        "              optimizer=Adam(lr=learning_rate),\n",
        "              metrics='accuracy')"
      ],
      "execution_count": null,
      "outputs": [
        {
          "output_type": "stream",
          "name": "stderr",
          "text": [
            "/usr/local/lib/python3.7/dist-packages/keras/optimizer_v2/adam.py:105: UserWarning: The `lr` argument is deprecated, use `learning_rate` instead.\n",
            "  super(Adam, self).__init__(name, **kwargs)\n"
          ]
        }
      ]
    },
    {
      "cell_type": "code",
      "metadata": {
        "colab": {
          "base_uri": "https://localhost:8080/"
        },
        "id": "B1ACqUgtwfna",
        "outputId": "0f1a4e8e-8942-4e13-b60e-eae90b48407d"
      },
      "source": [
        "# TULIS CODE UNTUK MENCETAK LAMA TRAINING TIME DISINI\n",
        "\n",
        "start = time.time()\n",
        "H = model.fit_generator(train_gen, epochs=100,validation_data=val_gen, verbose=1, callbacks=[callbacks_list])\n",
        "\n",
        "End = time.time()\n",
        "print (\"training time: \", End-start,\"s\")  # the time would be round to 3 decimal in seconds"
      ],
      "execution_count": null,
      "outputs": [
        {
          "output_type": "stream",
          "name": "stderr",
          "text": [
            "/usr/local/lib/python3.7/dist-packages/ipykernel_launcher.py:4: UserWarning: `Model.fit_generator` is deprecated and will be removed in a future version. Please use `Model.fit`, which supports generators.\n",
            "  after removing the cwd from sys.path.\n"
          ]
        },
        {
          "output_type": "stream",
          "name": "stdout",
          "text": [
            "Epoch 1/100\n",
            "8/8 [==============================] - ETA: 0s - loss: 1.0709 - accuracy: 0.4859\n",
            "Epoch 00001: val_accuracy improved from -inf to 0.38983, saving model to best_model.h5\n",
            "8/8 [==============================] - 49s 6s/step - loss: 1.0709 - accuracy: 0.4859 - val_loss: 1.0564 - val_accuracy: 0.3898 - lr: 1.0000e-05\n",
            "Epoch 2/100\n",
            "8/8 [==============================] - ETA: 0s - loss: 0.8431 - accuracy: 0.6185\n",
            "Epoch 00002: val_accuracy improved from 0.38983 to 0.57627, saving model to best_model.h5\n",
            "8/8 [==============================] - 48s 6s/step - loss: 0.8431 - accuracy: 0.6185 - val_loss: 1.0182 - val_accuracy: 0.5763 - lr: 1.0000e-05\n",
            "Epoch 3/100\n",
            "8/8 [==============================] - ETA: 0s - loss: 0.8542 - accuracy: 0.6506\n",
            "Epoch 00003: val_accuracy improved from 0.57627 to 0.61017, saving model to best_model.h5\n",
            "8/8 [==============================] - 49s 6s/step - loss: 0.8542 - accuracy: 0.6506 - val_loss: 0.9895 - val_accuracy: 0.6102 - lr: 1.0000e-05\n",
            "Epoch 4/100\n",
            "8/8 [==============================] - ETA: 0s - loss: 0.6420 - accuracy: 0.6988\n",
            "Epoch 00004: val_accuracy did not improve from 0.61017\n",
            "8/8 [==============================] - 45s 5s/step - loss: 0.6420 - accuracy: 0.6988 - val_loss: 1.0134 - val_accuracy: 0.4068 - lr: 1.0000e-05\n",
            "Epoch 5/100\n",
            "8/8 [==============================] - ETA: 0s - loss: 0.6694 - accuracy: 0.6948\n",
            "Epoch 00005: val_accuracy did not improve from 0.61017\n",
            "8/8 [==============================] - 43s 5s/step - loss: 0.6694 - accuracy: 0.6948 - val_loss: 1.0173 - val_accuracy: 0.3729 - lr: 1.0000e-05\n",
            "Epoch 6/100\n",
            "8/8 [==============================] - ETA: 0s - loss: 0.5799 - accuracy: 0.7309\n",
            "Epoch 00006: val_accuracy did not improve from 0.61017\n",
            "\n",
            "Epoch 00006: ReduceLROnPlateau reducing learning rate to 4.999999873689376e-06.\n",
            "8/8 [==============================] - 43s 5s/step - loss: 0.5799 - accuracy: 0.7309 - val_loss: 1.0166 - val_accuracy: 0.4237 - lr: 1.0000e-05\n",
            "Epoch 7/100\n",
            "8/8 [==============================] - ETA: 0s - loss: 0.5145 - accuracy: 0.7831\n",
            "Epoch 00007: val_accuracy did not improve from 0.61017\n",
            "8/8 [==============================] - 43s 5s/step - loss: 0.5145 - accuracy: 0.7831 - val_loss: 0.9908 - val_accuracy: 0.5254 - lr: 5.0000e-06\n",
            "Epoch 8/100\n",
            "8/8 [==============================] - ETA: 0s - loss: 0.5870 - accuracy: 0.7349\n",
            "Epoch 00008: val_accuracy did not improve from 0.61017\n",
            "8/8 [==============================] - 43s 5s/step - loss: 0.5870 - accuracy: 0.7349 - val_loss: 1.0008 - val_accuracy: 0.4576 - lr: 5.0000e-06\n",
            "Epoch 9/100\n",
            "8/8 [==============================] - ETA: 0s - loss: 0.6310 - accuracy: 0.6948\n",
            "Epoch 00009: val_accuracy did not improve from 0.61017\n",
            "\n",
            "Epoch 00009: ReduceLROnPlateau reducing learning rate to 3e-06.\n",
            "8/8 [==============================] - 43s 5s/step - loss: 0.6310 - accuracy: 0.6948 - val_loss: 0.9702 - val_accuracy: 0.5424 - lr: 5.0000e-06\n",
            "Epoch 10/100\n",
            "8/8 [==============================] - ETA: 0s - loss: 0.5596 - accuracy: 0.7269\n",
            "Epoch 00010: val_accuracy did not improve from 0.61017\n",
            "8/8 [==============================] - 43s 5s/step - loss: 0.5596 - accuracy: 0.7269 - val_loss: 0.9682 - val_accuracy: 0.5424 - lr: 3.0000e-06\n",
            "Epoch 11/100\n",
            "8/8 [==============================] - ETA: 0s - loss: 0.4991 - accuracy: 0.7952\n",
            "Epoch 00011: val_accuracy did not improve from 0.61017\n",
            "8/8 [==============================] - 43s 5s/step - loss: 0.4991 - accuracy: 0.7952 - val_loss: 0.9527 - val_accuracy: 0.5932 - lr: 3.0000e-06\n",
            "Epoch 12/100\n",
            "8/8 [==============================] - ETA: 0s - loss: 0.5034 - accuracy: 0.7791\n",
            "Epoch 00012: val_accuracy improved from 0.61017 to 0.76271, saving model to best_model.h5\n",
            "8/8 [==============================] - 47s 6s/step - loss: 0.5034 - accuracy: 0.7791 - val_loss: 0.9354 - val_accuracy: 0.7627 - lr: 3.0000e-06\n",
            "Epoch 13/100\n",
            "8/8 [==============================] - ETA: 0s - loss: 0.4088 - accuracy: 0.7992\n",
            "Epoch 00013: val_accuracy did not improve from 0.76271\n",
            "8/8 [==============================] - 44s 5s/step - loss: 0.4088 - accuracy: 0.7992 - val_loss: 0.9361 - val_accuracy: 0.6949 - lr: 3.0000e-06\n",
            "Epoch 14/100\n",
            "8/8 [==============================] - ETA: 0s - loss: 0.4740 - accuracy: 0.7992\n",
            "Epoch 00014: val_accuracy did not improve from 0.76271\n",
            "8/8 [==============================] - 43s 5s/step - loss: 0.4740 - accuracy: 0.7992 - val_loss: 0.8852 - val_accuracy: 0.6949 - lr: 3.0000e-06\n",
            "Epoch 15/100\n",
            "8/8 [==============================] - ETA: 0s - loss: 0.5001 - accuracy: 0.7550\n",
            "Epoch 00015: val_accuracy did not improve from 0.76271\n",
            "8/8 [==============================] - 42s 5s/step - loss: 0.5001 - accuracy: 0.7550 - val_loss: 0.9390 - val_accuracy: 0.6441 - lr: 3.0000e-06\n",
            "Epoch 16/100\n",
            "8/8 [==============================] - ETA: 0s - loss: 0.4040 - accuracy: 0.8394\n",
            "Epoch 00016: val_accuracy did not improve from 0.76271\n",
            "8/8 [==============================] - 43s 5s/step - loss: 0.4040 - accuracy: 0.8394 - val_loss: 0.8806 - val_accuracy: 0.7627 - lr: 3.0000e-06\n",
            "Epoch 17/100\n",
            "8/8 [==============================] - ETA: 0s - loss: 0.5021 - accuracy: 0.7831\n",
            "Epoch 00017: val_accuracy did not improve from 0.76271\n",
            "8/8 [==============================] - 43s 5s/step - loss: 0.5021 - accuracy: 0.7831 - val_loss: 0.8900 - val_accuracy: 0.6610 - lr: 3.0000e-06\n",
            "Epoch 18/100\n",
            "8/8 [==============================] - ETA: 0s - loss: 0.4240 - accuracy: 0.8112\n",
            "Epoch 00018: val_accuracy did not improve from 0.76271\n",
            "8/8 [==============================] - 43s 5s/step - loss: 0.4240 - accuracy: 0.8112 - val_loss: 0.8667 - val_accuracy: 0.6780 - lr: 3.0000e-06\n",
            "Epoch 19/100\n",
            "8/8 [==============================] - ETA: 0s - loss: 0.5074 - accuracy: 0.7791\n",
            "Epoch 00019: val_accuracy did not improve from 0.76271\n",
            "8/8 [==============================] - 43s 5s/step - loss: 0.5074 - accuracy: 0.7791 - val_loss: 0.8962 - val_accuracy: 0.7119 - lr: 3.0000e-06\n",
            "Epoch 20/100\n",
            "8/8 [==============================] - ETA: 0s - loss: 0.5095 - accuracy: 0.7871\n",
            "Epoch 00020: val_accuracy did not improve from 0.76271\n",
            "8/8 [==============================] - 43s 5s/step - loss: 0.5095 - accuracy: 0.7871 - val_loss: 0.8518 - val_accuracy: 0.7627 - lr: 3.0000e-06\n",
            "Epoch 21/100\n",
            "8/8 [==============================] - ETA: 0s - loss: 0.4941 - accuracy: 0.7470\n",
            "Epoch 00021: val_accuracy did not improve from 0.76271\n",
            "8/8 [==============================] - 43s 5s/step - loss: 0.4941 - accuracy: 0.7470 - val_loss: 0.8506 - val_accuracy: 0.7119 - lr: 3.0000e-06\n",
            "Epoch 22/100\n",
            "8/8 [==============================] - ETA: 0s - loss: 0.4439 - accuracy: 0.8313\n",
            "Epoch 00022: val_accuracy improved from 0.76271 to 0.79661, saving model to best_model.h5\n",
            "8/8 [==============================] - 48s 6s/step - loss: 0.4439 - accuracy: 0.8313 - val_loss: 0.8380 - val_accuracy: 0.7966 - lr: 3.0000e-06\n",
            "Epoch 23/100\n",
            "8/8 [==============================] - ETA: 0s - loss: 0.4257 - accuracy: 0.7871\n",
            "Epoch 00023: val_accuracy did not improve from 0.79661\n",
            "8/8 [==============================] - 45s 5s/step - loss: 0.4257 - accuracy: 0.7871 - val_loss: 0.8302 - val_accuracy: 0.7288 - lr: 3.0000e-06\n",
            "Epoch 24/100\n",
            "8/8 [==============================] - ETA: 0s - loss: 0.4100 - accuracy: 0.8072\n",
            "Epoch 00024: val_accuracy improved from 0.79661 to 0.86441, saving model to best_model.h5\n",
            "8/8 [==============================] - 48s 6s/step - loss: 0.4100 - accuracy: 0.8072 - val_loss: 0.7772 - val_accuracy: 0.8644 - lr: 3.0000e-06\n",
            "Epoch 25/100\n",
            "8/8 [==============================] - ETA: 0s - loss: 0.4247 - accuracy: 0.8112\n",
            "Epoch 00025: val_accuracy did not improve from 0.86441\n",
            "8/8 [==============================] - 45s 5s/step - loss: 0.4247 - accuracy: 0.8112 - val_loss: 0.7958 - val_accuracy: 0.7797 - lr: 3.0000e-06\n",
            "Epoch 26/100\n",
            "8/8 [==============================] - ETA: 0s - loss: 0.4418 - accuracy: 0.8193\n",
            "Epoch 00026: val_accuracy did not improve from 0.86441\n",
            "8/8 [==============================] - 43s 5s/step - loss: 0.4418 - accuracy: 0.8193 - val_loss: 0.7814 - val_accuracy: 0.7966 - lr: 3.0000e-06\n",
            "Epoch 27/100\n",
            "8/8 [==============================] - ETA: 0s - loss: 0.4476 - accuracy: 0.7912\n",
            "Epoch 00027: val_accuracy did not improve from 0.86441\n",
            "8/8 [==============================] - 43s 5s/step - loss: 0.4476 - accuracy: 0.7912 - val_loss: 0.7604 - val_accuracy: 0.7797 - lr: 3.0000e-06\n",
            "Epoch 28/100\n",
            "8/8 [==============================] - ETA: 0s - loss: 0.3864 - accuracy: 0.8233\n",
            "Epoch 00028: val_accuracy did not improve from 0.86441\n",
            "8/8 [==============================] - 43s 5s/step - loss: 0.3864 - accuracy: 0.8233 - val_loss: 0.7238 - val_accuracy: 0.8136 - lr: 3.0000e-06\n",
            "Epoch 29/100\n",
            "8/8 [==============================] - ETA: 0s - loss: 0.4691 - accuracy: 0.8112\n",
            "Epoch 00029: val_accuracy did not improve from 0.86441\n",
            "8/8 [==============================] - 43s 5s/step - loss: 0.4691 - accuracy: 0.8112 - val_loss: 0.7443 - val_accuracy: 0.7966 - lr: 3.0000e-06\n",
            "Epoch 30/100\n",
            "8/8 [==============================] - ETA: 0s - loss: 0.4364 - accuracy: 0.8153\n",
            "Epoch 00030: val_accuracy did not improve from 0.86441\n",
            "8/8 [==============================] - 43s 5s/step - loss: 0.4364 - accuracy: 0.8153 - val_loss: 0.7647 - val_accuracy: 0.7119 - lr: 3.0000e-06\n",
            "Epoch 31/100\n",
            "8/8 [==============================] - ETA: 0s - loss: 0.3932 - accuracy: 0.8353\n",
            "Epoch 00031: val_accuracy did not improve from 0.86441\n",
            "8/8 [==============================] - 43s 5s/step - loss: 0.3932 - accuracy: 0.8353 - val_loss: 0.6962 - val_accuracy: 0.8136 - lr: 3.0000e-06\n",
            "Epoch 32/100\n",
            "8/8 [==============================] - ETA: 0s - loss: 0.4269 - accuracy: 0.8313\n",
            "Epoch 00032: val_accuracy did not improve from 0.86441\n",
            "8/8 [==============================] - 43s 5s/step - loss: 0.4269 - accuracy: 0.8313 - val_loss: 0.7430 - val_accuracy: 0.7119 - lr: 3.0000e-06\n",
            "Epoch 33/100\n",
            "8/8 [==============================] - ETA: 0s - loss: 0.4702 - accuracy: 0.7952\n",
            "Epoch 00033: val_accuracy did not improve from 0.86441\n",
            "8/8 [==============================] - 43s 5s/step - loss: 0.4702 - accuracy: 0.7952 - val_loss: 0.6830 - val_accuracy: 0.7966 - lr: 3.0000e-06\n",
            "Epoch 34/100\n",
            "8/8 [==============================] - ETA: 0s - loss: 0.4192 - accuracy: 0.8233\n",
            "Epoch 00034: val_accuracy did not improve from 0.86441\n",
            "8/8 [==============================] - 42s 5s/step - loss: 0.4192 - accuracy: 0.8233 - val_loss: 0.6447 - val_accuracy: 0.8475 - lr: 3.0000e-06\n",
            "Epoch 35/100\n",
            "8/8 [==============================] - ETA: 0s - loss: 0.4184 - accuracy: 0.7952\n",
            "Epoch 00035: val_accuracy did not improve from 0.86441\n",
            "8/8 [==============================] - 42s 5s/step - loss: 0.4184 - accuracy: 0.7952 - val_loss: 0.6277 - val_accuracy: 0.8305 - lr: 3.0000e-06\n",
            "Epoch 36/100\n",
            "8/8 [==============================] - ETA: 0s - loss: 0.4692 - accuracy: 0.7992\n",
            "Epoch 00036: val_accuracy did not improve from 0.86441\n",
            "8/8 [==============================] - 43s 5s/step - loss: 0.4692 - accuracy: 0.7992 - val_loss: 0.6545 - val_accuracy: 0.7458 - lr: 3.0000e-06\n",
            "Epoch 37/100\n",
            "8/8 [==============================] - ETA: 0s - loss: 0.3345 - accuracy: 0.8514\n",
            "Epoch 00037: val_accuracy did not improve from 0.86441\n",
            "8/8 [==============================] - 43s 5s/step - loss: 0.3345 - accuracy: 0.8514 - val_loss: 0.6269 - val_accuracy: 0.7966 - lr: 3.0000e-06\n",
            "Epoch 38/100\n",
            "8/8 [==============================] - ETA: 0s - loss: 0.4792 - accuracy: 0.8313\n",
            "Epoch 00038: val_accuracy did not improve from 0.86441\n",
            "8/8 [==============================] - 42s 5s/step - loss: 0.4792 - accuracy: 0.8313 - val_loss: 0.6457 - val_accuracy: 0.8136 - lr: 3.0000e-06\n",
            "Epoch 39/100\n",
            "8/8 [==============================] - ETA: 0s - loss: 0.3941 - accuracy: 0.8514\n",
            "Epoch 00039: val_accuracy did not improve from 0.86441\n",
            "8/8 [==============================] - 42s 5s/step - loss: 0.3941 - accuracy: 0.8514 - val_loss: 0.6278 - val_accuracy: 0.8136 - lr: 3.0000e-06\n",
            "Epoch 40/100\n",
            "8/8 [==============================] - ETA: 0s - loss: 0.4062 - accuracy: 0.8313\n",
            "Epoch 00040: val_accuracy did not improve from 0.86441\n",
            "8/8 [==============================] - 43s 5s/step - loss: 0.4062 - accuracy: 0.8313 - val_loss: 0.6025 - val_accuracy: 0.8136 - lr: 3.0000e-06\n",
            "Epoch 41/100\n",
            "8/8 [==============================] - ETA: 0s - loss: 0.4132 - accuracy: 0.8153\n",
            "Epoch 00041: val_accuracy did not improve from 0.86441\n",
            "8/8 [==============================] - 43s 5s/step - loss: 0.4132 - accuracy: 0.8153 - val_loss: 0.6273 - val_accuracy: 0.8305 - lr: 3.0000e-06\n",
            "Epoch 42/100\n",
            "8/8 [==============================] - ETA: 0s - loss: 0.4125 - accuracy: 0.8474\n",
            "Epoch 00042: val_accuracy did not improve from 0.86441\n",
            "8/8 [==============================] - 43s 5s/step - loss: 0.4125 - accuracy: 0.8474 - val_loss: 0.6150 - val_accuracy: 0.7627 - lr: 3.0000e-06\n",
            "Epoch 43/100\n",
            "8/8 [==============================] - ETA: 0s - loss: 0.4388 - accuracy: 0.8112\n",
            "Epoch 00043: val_accuracy did not improve from 0.86441\n",
            "8/8 [==============================] - 43s 5s/step - loss: 0.4388 - accuracy: 0.8112 - val_loss: 0.5346 - val_accuracy: 0.8136 - lr: 3.0000e-06\n",
            "Epoch 44/100\n",
            "8/8 [==============================] - ETA: 0s - loss: 0.4214 - accuracy: 0.8193\n",
            "Epoch 00044: val_accuracy did not improve from 0.86441\n",
            "8/8 [==============================] - 43s 5s/step - loss: 0.4214 - accuracy: 0.8193 - val_loss: 0.5509 - val_accuracy: 0.8475 - lr: 3.0000e-06\n",
            "Epoch 45/100\n",
            "8/8 [==============================] - ETA: 0s - loss: 0.4129 - accuracy: 0.8233\n",
            "Epoch 00045: val_accuracy did not improve from 0.86441\n",
            "8/8 [==============================] - 43s 5s/step - loss: 0.4129 - accuracy: 0.8233 - val_loss: 0.5763 - val_accuracy: 0.7627 - lr: 3.0000e-06\n",
            "Epoch 46/100\n",
            "8/8 [==============================] - ETA: 0s - loss: 0.3967 - accuracy: 0.8273\n",
            "Epoch 00046: val_accuracy did not improve from 0.86441\n",
            "8/8 [==============================] - 43s 5s/step - loss: 0.3967 - accuracy: 0.8273 - val_loss: 0.5167 - val_accuracy: 0.8136 - lr: 3.0000e-06\n",
            "Epoch 47/100\n",
            "8/8 [==============================] - ETA: 0s - loss: 0.3688 - accuracy: 0.8594\n",
            "Epoch 00047: val_accuracy improved from 0.86441 to 0.88136, saving model to best_model.h5\n",
            "8/8 [==============================] - 47s 6s/step - loss: 0.3688 - accuracy: 0.8594 - val_loss: 0.5160 - val_accuracy: 0.8814 - lr: 3.0000e-06\n",
            "Epoch 48/100\n",
            "8/8 [==============================] - ETA: 0s - loss: 0.3303 - accuracy: 0.8594\n",
            "Epoch 00048: val_accuracy did not improve from 0.88136\n",
            "8/8 [==============================] - 45s 6s/step - loss: 0.3303 - accuracy: 0.8594 - val_loss: 0.5787 - val_accuracy: 0.7797 - lr: 3.0000e-06\n",
            "Epoch 49/100\n",
            "8/8 [==============================] - ETA: 0s - loss: 0.3577 - accuracy: 0.8675\n",
            "Epoch 00049: val_accuracy did not improve from 0.88136\n",
            "8/8 [==============================] - 43s 5s/step - loss: 0.3577 - accuracy: 0.8675 - val_loss: 0.4748 - val_accuracy: 0.8305 - lr: 3.0000e-06\n",
            "Epoch 50/100\n",
            "8/8 [==============================] - ETA: 0s - loss: 0.3915 - accuracy: 0.8273\n",
            "Epoch 00050: val_accuracy did not improve from 0.88136\n",
            "8/8 [==============================] - 43s 5s/step - loss: 0.3915 - accuracy: 0.8273 - val_loss: 0.4327 - val_accuracy: 0.8644 - lr: 3.0000e-06\n",
            "Epoch 51/100\n",
            "8/8 [==============================] - ETA: 0s - loss: 0.4155 - accuracy: 0.8474\n",
            "Epoch 00051: val_accuracy did not improve from 0.88136\n",
            "8/8 [==============================] - 43s 5s/step - loss: 0.4155 - accuracy: 0.8474 - val_loss: 0.4826 - val_accuracy: 0.8136 - lr: 3.0000e-06\n",
            "Epoch 52/100\n",
            "8/8 [==============================] - ETA: 0s - loss: 0.4517 - accuracy: 0.8112\n",
            "Epoch 00052: val_accuracy did not improve from 0.88136\n",
            "8/8 [==============================] - 43s 5s/step - loss: 0.4517 - accuracy: 0.8112 - val_loss: 0.5062 - val_accuracy: 0.8305 - lr: 3.0000e-06\n",
            "Epoch 53/100\n",
            "8/8 [==============================] - ETA: 0s - loss: 0.3694 - accuracy: 0.8394\n",
            "Epoch 00053: val_accuracy did not improve from 0.88136\n",
            "8/8 [==============================] - 43s 5s/step - loss: 0.3694 - accuracy: 0.8394 - val_loss: 0.4813 - val_accuracy: 0.8475 - lr: 3.0000e-06\n",
            "Epoch 54/100\n",
            "8/8 [==============================] - ETA: 0s - loss: 0.4375 - accuracy: 0.8233\n",
            "Epoch 00054: val_accuracy improved from 0.88136 to 0.91525, saving model to best_model.h5\n",
            "8/8 [==============================] - 47s 6s/step - loss: 0.4375 - accuracy: 0.8233 - val_loss: 0.4697 - val_accuracy: 0.9153 - lr: 3.0000e-06\n",
            "Epoch 55/100\n",
            "8/8 [==============================] - ETA: 0s - loss: 0.3843 - accuracy: 0.8514\n",
            "Epoch 00055: val_accuracy did not improve from 0.91525\n",
            "8/8 [==============================] - 44s 5s/step - loss: 0.3843 - accuracy: 0.8514 - val_loss: 0.4491 - val_accuracy: 0.8136 - lr: 3.0000e-06\n",
            "Epoch 56/100\n",
            "8/8 [==============================] - ETA: 0s - loss: 0.4066 - accuracy: 0.8072\n",
            "Epoch 00056: val_accuracy did not improve from 0.91525\n",
            "8/8 [==============================] - 43s 5s/step - loss: 0.4066 - accuracy: 0.8072 - val_loss: 0.4624 - val_accuracy: 0.8136 - lr: 3.0000e-06\n",
            "Epoch 57/100\n",
            "8/8 [==============================] - ETA: 0s - loss: 0.4088 - accuracy: 0.8394\n",
            "Epoch 00057: val_accuracy did not improve from 0.91525\n",
            "8/8 [==============================] - 42s 5s/step - loss: 0.4088 - accuracy: 0.8394 - val_loss: 0.3821 - val_accuracy: 0.8644 - lr: 3.0000e-06\n",
            "Epoch 58/100\n",
            "8/8 [==============================] - ETA: 0s - loss: 0.4340 - accuracy: 0.8153\n",
            "Epoch 00058: val_accuracy did not improve from 0.91525\n",
            "8/8 [==============================] - 42s 5s/step - loss: 0.4340 - accuracy: 0.8153 - val_loss: 0.3794 - val_accuracy: 0.8644 - lr: 3.0000e-06\n",
            "Epoch 59/100\n",
            "8/8 [==============================] - ETA: 0s - loss: 0.3965 - accuracy: 0.8514\n",
            "Epoch 00059: val_accuracy did not improve from 0.91525\n",
            "8/8 [==============================] - 42s 5s/step - loss: 0.3965 - accuracy: 0.8514 - val_loss: 0.4452 - val_accuracy: 0.8305 - lr: 3.0000e-06\n",
            "Epoch 60/100\n",
            "8/8 [==============================] - ETA: 0s - loss: 0.4054 - accuracy: 0.8394\n",
            "Epoch 00060: val_accuracy did not improve from 0.91525\n",
            "8/8 [==============================] - 42s 5s/step - loss: 0.4054 - accuracy: 0.8394 - val_loss: 0.4090 - val_accuracy: 0.8475 - lr: 3.0000e-06\n",
            "Epoch 61/100\n",
            "8/8 [==============================] - ETA: 0s - loss: 0.3868 - accuracy: 0.8353\n",
            "Epoch 00061: val_accuracy did not improve from 0.91525\n",
            "8/8 [==============================] - 42s 5s/step - loss: 0.3868 - accuracy: 0.8353 - val_loss: 0.4569 - val_accuracy: 0.8305 - lr: 3.0000e-06\n",
            "Epoch 62/100\n",
            "8/8 [==============================] - ETA: 0s - loss: 0.3659 - accuracy: 0.8474\n",
            "Epoch 00062: val_accuracy did not improve from 0.91525\n",
            "8/8 [==============================] - 42s 5s/step - loss: 0.3659 - accuracy: 0.8474 - val_loss: 0.4109 - val_accuracy: 0.8136 - lr: 3.0000e-06\n",
            "Epoch 63/100\n",
            "8/8 [==============================] - ETA: 0s - loss: 0.3677 - accuracy: 0.8434\n",
            "Epoch 00063: val_accuracy did not improve from 0.91525\n",
            "8/8 [==============================] - 42s 5s/step - loss: 0.3677 - accuracy: 0.8434 - val_loss: 0.4149 - val_accuracy: 0.8305 - lr: 3.0000e-06\n",
            "Epoch 64/100\n",
            "8/8 [==============================] - ETA: 0s - loss: 0.4181 - accuracy: 0.8273\n",
            "Epoch 00064: val_accuracy did not improve from 0.91525\n",
            "8/8 [==============================] - 42s 5s/step - loss: 0.4181 - accuracy: 0.8273 - val_loss: 0.3994 - val_accuracy: 0.8136 - lr: 3.0000e-06\n",
            "Epoch 65/100\n",
            "8/8 [==============================] - ETA: 0s - loss: 0.3479 - accuracy: 0.8715\n",
            "Epoch 00065: val_accuracy did not improve from 0.91525\n",
            "8/8 [==============================] - 42s 5s/step - loss: 0.3479 - accuracy: 0.8715 - val_loss: 0.4122 - val_accuracy: 0.8136 - lr: 3.0000e-06\n",
            "Epoch 66/100\n",
            "8/8 [==============================] - ETA: 0s - loss: 0.3514 - accuracy: 0.8434\n",
            "Epoch 00066: val_accuracy did not improve from 0.91525\n",
            "8/8 [==============================] - 42s 5s/step - loss: 0.3514 - accuracy: 0.8434 - val_loss: 0.3243 - val_accuracy: 0.8983 - lr: 3.0000e-06\n",
            "Epoch 67/100\n",
            "8/8 [==============================] - ETA: 0s - loss: 0.3694 - accuracy: 0.8394\n",
            "Epoch 00067: val_accuracy did not improve from 0.91525\n",
            "8/8 [==============================] - 42s 5s/step - loss: 0.3694 - accuracy: 0.8394 - val_loss: 0.4496 - val_accuracy: 0.8475 - lr: 3.0000e-06\n",
            "Epoch 68/100\n",
            "8/8 [==============================] - ETA: 0s - loss: 0.3486 - accuracy: 0.8474\n",
            "Epoch 00068: val_accuracy did not improve from 0.91525\n",
            "8/8 [==============================] - 42s 5s/step - loss: 0.3486 - accuracy: 0.8474 - val_loss: 0.3202 - val_accuracy: 0.8814 - lr: 3.0000e-06\n",
            "Epoch 69/100\n",
            "8/8 [==============================] - ETA: 0s - loss: 0.4105 - accuracy: 0.8112\n",
            "Epoch 00069: val_accuracy did not improve from 0.91525\n",
            "8/8 [==============================] - 42s 5s/step - loss: 0.4105 - accuracy: 0.8112 - val_loss: 0.3557 - val_accuracy: 0.8305 - lr: 3.0000e-06\n",
            "Epoch 70/100\n",
            "8/8 [==============================] - ETA: 0s - loss: 0.3499 - accuracy: 0.8394\n",
            "Epoch 00070: val_accuracy did not improve from 0.91525\n",
            "8/8 [==============================] - 42s 5s/step - loss: 0.3499 - accuracy: 0.8394 - val_loss: 0.3802 - val_accuracy: 0.9153 - lr: 3.0000e-06\n",
            "Epoch 71/100\n",
            "8/8 [==============================] - ETA: 0s - loss: 0.3775 - accuracy: 0.8353\n",
            "Epoch 00071: val_accuracy did not improve from 0.91525\n",
            "8/8 [==============================] - 42s 5s/step - loss: 0.3775 - accuracy: 0.8353 - val_loss: 0.4293 - val_accuracy: 0.8644 - lr: 3.0000e-06\n",
            "Epoch 72/100\n",
            "8/8 [==============================] - ETA: 0s - loss: 0.3888 - accuracy: 0.8313\n",
            "Epoch 00072: val_accuracy did not improve from 0.91525\n",
            "8/8 [==============================] - 42s 5s/step - loss: 0.3888 - accuracy: 0.8313 - val_loss: 0.3526 - val_accuracy: 0.8644 - lr: 3.0000e-06\n",
            "Epoch 73/100\n",
            "8/8 [==============================] - ETA: 0s - loss: 0.3815 - accuracy: 0.8474\n",
            "Epoch 00073: val_accuracy did not improve from 0.91525\n",
            "8/8 [==============================] - 42s 5s/step - loss: 0.3815 - accuracy: 0.8474 - val_loss: 0.3367 - val_accuracy: 0.8136 - lr: 3.0000e-06\n",
            "Epoch 74/100\n",
            "8/8 [==============================] - ETA: 0s - loss: 0.3423 - accuracy: 0.8514\n",
            "Epoch 00074: val_accuracy did not improve from 0.91525\n",
            "8/8 [==============================] - 42s 5s/step - loss: 0.3423 - accuracy: 0.8514 - val_loss: 0.3072 - val_accuracy: 0.9153 - lr: 3.0000e-06\n",
            "Epoch 75/100\n",
            "8/8 [==============================] - ETA: 0s - loss: 0.3852 - accuracy: 0.8514\n",
            "Epoch 00075: val_accuracy did not improve from 0.91525\n",
            "8/8 [==============================] - 42s 5s/step - loss: 0.3852 - accuracy: 0.8514 - val_loss: 0.2972 - val_accuracy: 0.8644 - lr: 3.0000e-06\n",
            "Epoch 76/100\n",
            "8/8 [==============================] - ETA: 0s - loss: 0.3785 - accuracy: 0.8514\n",
            "Epoch 00076: val_accuracy did not improve from 0.91525\n",
            "8/8 [==============================] - 42s 5s/step - loss: 0.3785 - accuracy: 0.8514 - val_loss: 0.3597 - val_accuracy: 0.8644 - lr: 3.0000e-06\n",
            "Epoch 77/100\n",
            "8/8 [==============================] - ETA: 0s - loss: 0.3442 - accuracy: 0.8635\n",
            "Epoch 00077: val_accuracy did not improve from 0.91525\n",
            "8/8 [==============================] - 42s 5s/step - loss: 0.3442 - accuracy: 0.8635 - val_loss: 0.2949 - val_accuracy: 0.8814 - lr: 3.0000e-06\n",
            "Epoch 78/100\n",
            "8/8 [==============================] - ETA: 0s - loss: 0.3920 - accuracy: 0.8514\n",
            "Epoch 00078: val_accuracy did not improve from 0.91525\n",
            "8/8 [==============================] - 42s 5s/step - loss: 0.3920 - accuracy: 0.8514 - val_loss: 0.3355 - val_accuracy: 0.8983 - lr: 3.0000e-06\n",
            "Epoch 79/100\n",
            "8/8 [==============================] - ETA: 0s - loss: 0.4249 - accuracy: 0.8193\n",
            "Epoch 00079: val_accuracy did not improve from 0.91525\n",
            "8/8 [==============================] - 42s 5s/step - loss: 0.4249 - accuracy: 0.8193 - val_loss: 0.3807 - val_accuracy: 0.8644 - lr: 3.0000e-06\n",
            "Epoch 80/100\n",
            "8/8 [==============================] - ETA: 0s - loss: 0.3567 - accuracy: 0.8514\n",
            "Epoch 00080: val_accuracy did not improve from 0.91525\n",
            "8/8 [==============================] - 42s 5s/step - loss: 0.3567 - accuracy: 0.8514 - val_loss: 0.3590 - val_accuracy: 0.8644 - lr: 3.0000e-06\n",
            "Epoch 81/100\n",
            "8/8 [==============================] - ETA: 0s - loss: 0.4369 - accuracy: 0.8394\n",
            "Epoch 00081: val_accuracy did not improve from 0.91525\n",
            "8/8 [==============================] - 42s 5s/step - loss: 0.4369 - accuracy: 0.8394 - val_loss: 0.2618 - val_accuracy: 0.8814 - lr: 3.0000e-06\n",
            "Epoch 82/100\n",
            "8/8 [==============================] - ETA: 0s - loss: 0.3717 - accuracy: 0.8594\n",
            "Epoch 00082: val_accuracy did not improve from 0.91525\n",
            "8/8 [==============================] - 42s 5s/step - loss: 0.3717 - accuracy: 0.8594 - val_loss: 0.2629 - val_accuracy: 0.9153 - lr: 3.0000e-06\n",
            "Epoch 83/100\n",
            "8/8 [==============================] - ETA: 0s - loss: 0.3200 - accuracy: 0.8755\n",
            "Epoch 00083: val_accuracy did not improve from 0.91525\n",
            "8/8 [==============================] - 42s 5s/step - loss: 0.3200 - accuracy: 0.8755 - val_loss: 0.3018 - val_accuracy: 0.8644 - lr: 3.0000e-06\n",
            "Epoch 84/100\n",
            "8/8 [==============================] - ETA: 0s - loss: 0.3663 - accuracy: 0.8313\n",
            "Epoch 00084: val_accuracy did not improve from 0.91525\n",
            "8/8 [==============================] - 42s 5s/step - loss: 0.3663 - accuracy: 0.8313 - val_loss: 0.3172 - val_accuracy: 0.8644 - lr: 3.0000e-06\n",
            "Epoch 85/100\n",
            "8/8 [==============================] - ETA: 0s - loss: 0.3643 - accuracy: 0.8474\n",
            "Epoch 00085: val_accuracy did not improve from 0.91525\n",
            "8/8 [==============================] - 42s 5s/step - loss: 0.3643 - accuracy: 0.8474 - val_loss: 0.3009 - val_accuracy: 0.8814 - lr: 3.0000e-06\n",
            "Epoch 86/100\n",
            "8/8 [==============================] - ETA: 0s - loss: 0.3080 - accuracy: 0.8635\n",
            "Epoch 00086: val_accuracy improved from 0.91525 to 0.93220, saving model to best_model.h5\n",
            "8/8 [==============================] - 46s 6s/step - loss: 0.3080 - accuracy: 0.8635 - val_loss: 0.2225 - val_accuracy: 0.9322 - lr: 3.0000e-06\n",
            "Epoch 87/100\n",
            "8/8 [==============================] - ETA: 0s - loss: 0.3029 - accuracy: 0.8635\n",
            "Epoch 00087: val_accuracy did not improve from 0.93220\n",
            "8/8 [==============================] - 43s 5s/step - loss: 0.3029 - accuracy: 0.8635 - val_loss: 0.3160 - val_accuracy: 0.8644 - lr: 3.0000e-06\n",
            "Epoch 88/100\n",
            "8/8 [==============================] - ETA: 0s - loss: 0.3292 - accuracy: 0.8554\n",
            "Epoch 00088: val_accuracy did not improve from 0.93220\n",
            "8/8 [==============================] - 42s 5s/step - loss: 0.3292 - accuracy: 0.8554 - val_loss: 0.2821 - val_accuracy: 0.8814 - lr: 3.0000e-06\n",
            "Epoch 89/100\n",
            "8/8 [==============================] - ETA: 0s - loss: 0.3345 - accuracy: 0.8514\n",
            "Epoch 00089: val_accuracy did not improve from 0.93220\n",
            "8/8 [==============================] - 42s 5s/step - loss: 0.3345 - accuracy: 0.8514 - val_loss: 0.3266 - val_accuracy: 0.8814 - lr: 3.0000e-06\n",
            "Epoch 90/100\n",
            "8/8 [==============================] - ETA: 0s - loss: 0.3565 - accuracy: 0.8514\n",
            "Epoch 00090: val_accuracy did not improve from 0.93220\n",
            "8/8 [==============================] - 42s 5s/step - loss: 0.3565 - accuracy: 0.8514 - val_loss: 0.3535 - val_accuracy: 0.8305 - lr: 3.0000e-06\n",
            "Epoch 91/100\n",
            "8/8 [==============================] - ETA: 0s - loss: 0.3610 - accuracy: 0.8353\n",
            "Epoch 00091: val_accuracy did not improve from 0.93220\n",
            "8/8 [==============================] - 42s 5s/step - loss: 0.3610 - accuracy: 0.8353 - val_loss: 0.2564 - val_accuracy: 0.8983 - lr: 3.0000e-06\n",
            "Epoch 92/100\n",
            "8/8 [==============================] - ETA: 0s - loss: 0.3548 - accuracy: 0.8755\n",
            "Epoch 00092: val_accuracy did not improve from 0.93220\n",
            "8/8 [==============================] - 42s 5s/step - loss: 0.3548 - accuracy: 0.8755 - val_loss: 0.2907 - val_accuracy: 0.8475 - lr: 3.0000e-06\n",
            "Epoch 93/100\n",
            "8/8 [==============================] - ETA: 0s - loss: 0.3084 - accuracy: 0.8876\n",
            "Epoch 00093: val_accuracy did not improve from 0.93220\n",
            "8/8 [==============================] - 42s 5s/step - loss: 0.3084 - accuracy: 0.8876 - val_loss: 0.2354 - val_accuracy: 0.9153 - lr: 3.0000e-06\n",
            "Epoch 94/100\n",
            "8/8 [==============================] - ETA: 0s - loss: 0.3094 - accuracy: 0.8715\n",
            "Epoch 00094: val_accuracy did not improve from 0.93220\n",
            "8/8 [==============================] - 42s 5s/step - loss: 0.3094 - accuracy: 0.8715 - val_loss: 0.2635 - val_accuracy: 0.9153 - lr: 3.0000e-06\n",
            "Epoch 95/100\n",
            "8/8 [==============================] - ETA: 0s - loss: 0.3291 - accuracy: 0.8675\n",
            "Epoch 00095: val_accuracy did not improve from 0.93220\n",
            "8/8 [==============================] - 42s 5s/step - loss: 0.3291 - accuracy: 0.8675 - val_loss: 0.3307 - val_accuracy: 0.8475 - lr: 3.0000e-06\n",
            "Epoch 96/100\n",
            "8/8 [==============================] - ETA: 0s - loss: 0.3420 - accuracy: 0.8715\n",
            "Epoch 00096: val_accuracy did not improve from 0.93220\n",
            "8/8 [==============================] - 42s 5s/step - loss: 0.3420 - accuracy: 0.8715 - val_loss: 0.3388 - val_accuracy: 0.8814 - lr: 3.0000e-06\n",
            "Epoch 97/100\n",
            "8/8 [==============================] - ETA: 0s - loss: 0.3479 - accuracy: 0.8474\n",
            "Epoch 00097: val_accuracy did not improve from 0.93220\n",
            "8/8 [==============================] - 43s 5s/step - loss: 0.3479 - accuracy: 0.8474 - val_loss: 0.3463 - val_accuracy: 0.9153 - lr: 3.0000e-06\n",
            "Epoch 98/100\n",
            "8/8 [==============================] - ETA: 0s - loss: 0.3959 - accuracy: 0.8193\n",
            "Epoch 00098: val_accuracy did not improve from 0.93220\n",
            "8/8 [==============================] - 42s 5s/step - loss: 0.3959 - accuracy: 0.8193 - val_loss: 0.2692 - val_accuracy: 0.8983 - lr: 3.0000e-06\n",
            "Epoch 99/100\n",
            "8/8 [==============================] - ETA: 0s - loss: 0.3274 - accuracy: 0.8594\n",
            "Epoch 00099: val_accuracy did not improve from 0.93220\n",
            "8/8 [==============================] - 43s 5s/step - loss: 0.3274 - accuracy: 0.8594 - val_loss: 0.3091 - val_accuracy: 0.8814 - lr: 3.0000e-06\n",
            "Epoch 100/100\n",
            "8/8 [==============================] - ETA: 0s - loss: 0.4079 - accuracy: 0.8353\n",
            "Epoch 00100: val_accuracy did not improve from 0.93220\n",
            "8/8 [==============================] - 43s 5s/step - loss: 0.4079 - accuracy: 0.8353 - val_loss: 0.2744 - val_accuracy: 0.8814 - lr: 3.0000e-06\n",
            "training time:  5996.416289806366 s\n"
          ]
        }
      ]
    },
    {
      "cell_type": "code",
      "metadata": {
        "id": "jZgW-WFMImSD"
      },
      "source": [
        "model.save('model3a.h5')"
      ],
      "execution_count": null,
      "outputs": []
    },
    {
      "cell_type": "code",
      "metadata": {
        "id": "NH_5rk9Cwh7i"
      },
      "source": [
        "# IMPORT SEMUA PAKET YANG ANDA PERLUKAN UNTUK MENGEVALUASI MODEL DISINI\n",
        "\n",
        "%matplotlib inline\n",
        "\n",
        "import matplotlib.pyplot as plt\n",
        "import numpy as np\n",
        "from keras.models import load_model\n",
        "from sklearn.metrics import classification_report, confusion_matrix\n",
        "from google.colab import files"
      ],
      "execution_count": null,
      "outputs": []
    },
    {
      "cell_type": "code",
      "metadata": {
        "colab": {
          "base_uri": "https://localhost:8080/"
        },
        "id": "PUkpYuKCIiYp",
        "outputId": "b8b7d523-cd0f-4ed7-b853-03305d8926b8"
      },
      "source": [
        "# TULIS CODE UNTUK EVALUASI MODEL DISINI\n",
        "\n",
        "# model.load_weights(best_model_path)\n",
        "\n",
        "ypred = model.predict(test_gen)\n",
        "prediction = np.argmax(ypred, axis=1)\n",
        "print(classification_report(test_gen.classes, prediction))"
      ],
      "execution_count": null,
      "outputs": [
        {
          "output_type": "stream",
          "name": "stdout",
          "text": [
            "              precision    recall  f1-score   support\n",
            "\n",
            "           0       1.00      1.00      1.00         2\n",
            "           1       0.50      0.50      0.50         2\n",
            "           2       0.00      0.00      0.00         1\n",
            "\n",
            "    accuracy                           0.60         5\n",
            "   macro avg       0.50      0.50      0.50         5\n",
            "weighted avg       0.60      0.60      0.60         5\n",
            "\n"
          ]
        }
      ]
    },
    {
      "cell_type": "code",
      "metadata": {
        "id": "XfLlD9i4Ioor",
        "colab": {
          "base_uri": "https://localhost:8080/",
          "height": 378
        },
        "outputId": "109b1278-c8fe-4903-d8a4-8b673170b264"
      },
      "source": [
        "import itertools\n",
        "def plot_confusion_matrix(cm, classes,\n",
        "                          normalize=False,\n",
        "                          title='Confusion matrix',\n",
        "                          cmap=plt.cm.Blues):\n",
        "    if normalize:\n",
        "        cm = cm.astype('float') / cm.sum(axis=1)[:, np.newaxis]\n",
        "        print(\"Normalized confusion matrix\")\n",
        "    else:\n",
        "        print('Confusion matrix, without normalization')\n",
        "\n",
        "    print(cm)\n",
        "\n",
        "    plt.imshow(cm, interpolation='nearest', cmap=cmap)\n",
        "    plt.title(title)\n",
        "    plt.colorbar()\n",
        "    tick_marks = np.arange(len(classes))\n",
        "    plt.xticks(tick_marks, classes, rotation=45)\n",
        "    plt.yticks(tick_marks, classes)\n",
        "\n",
        "    fmt = '.2f' if normalize else 'd'\n",
        "    thresh = cm.max() / 2.\n",
        "    for i, j in itertools.product(range(cm.shape[0]), range(cm.shape[1])):\n",
        "        plt.text(j, i, format(cm[i, j], fmt),\n",
        "                 horizontalalignment=\"center\",\n",
        "                 color=\"white\" if cm[i, j] > thresh else \"black\")\n",
        "\n",
        "    plt.tight_layout()\n",
        "    plt.ylabel('Actual')\n",
        "    plt.xlabel('Predicted')\n",
        "\n",
        "cnf_matrix=confusion_matrix(test_gen.classes,prediction)\n",
        "plot_confusion_matrix(cnf_matrix, classes=test_gen.class_indices)"
      ],
      "execution_count": null,
      "outputs": [
        {
          "output_type": "stream",
          "name": "stdout",
          "text": [
            "Confusion matrix, without normalization\n",
            "[[2 0 0]\n",
            " [0 1 1]\n",
            " [0 1 0]]\n"
          ]
        },
        {
          "output_type": "display_data",
          "data": {
            "image/png": "[encoded data removed]",
            "text/plain": [
              "<Figure size 432x288 with 2 Axes>"
            ]
          },
          "metadata": {
            "needs_background": "light"
          }
        }
      ]
    },
    {
      "cell_type": "code",
      "metadata": {
        "id": "qOOFouRJJfgj",
        "colab": {
          "base_uri": "https://localhost:8080/",
          "height": 581
        },
        "outputId": "db81e835-572d-4b30-a9ef-0c03c96a3148"
      },
      "source": [
        "# TULIS CODE UNTUK PLOT EVALUASI MODEL DISINI\n",
        "\n",
        "plt.style.use(\"ggplot\")\n",
        "\n",
        "plt.plot(np.arange(0, 100), H.history[\"loss\"], label=\"train_loss\")\n",
        "plt.plot(np.arange(0, 100), H.history[\"val_loss\"], label=\"val_loss\")\n",
        "plt.title(\"Loss Plot\")\n",
        "plt.xlabel(\"Epoch #\")\n",
        "plt.ylabel(\"Loss\")\n",
        "plt.show()\n",
        "\n",
        "plt.plot(np.arange(0, 100), H.history[\"accuracy\"], label=\"train_acc\")\n",
        "plt.plot(np.arange(0, 100), H.history[\"val_accuracy\"], label=\"val_acc\")\n",
        "plt.title(\"Accuracy Plot\")\n",
        "plt.xlabel(\"Epoch #\")\n",
        "plt.ylabel(\"Accuracy\")\n",
        "plt.legend()\n",
        "plt.show()"
      ],
      "execution_count": null,
      "outputs": [
        {
          "output_type": "display_data",
          "data": {
            "image/png": "[encoded data removed]",
            "text/plain": [
              "<Figure size 432x288 with 1 Axes>"
            ]
          },
          "metadata": {}
        },
        {
          "output_type": "display_data",
          "data": {
            "image/png": "[encoded data removed]",
            "text/plain": [
              "<Figure size 432x288 with 1 Axes>"
            ]
          },
          "metadata": {}
        }
      ]
    },
    {
      "cell_type": "code",
      "metadata": {
        "id": "v3g6zKtuJjAA",
        "colab": {
          "base_uri": "https://localhost:8080/",
          "height": 299
        },
        "outputId": "b56f7a35-f20b-43ae-f135-c79fb48ef7c6"
      },
      "source": [
        "import PIL\n",
        "\n",
        "def predictModel(image_path):\n",
        "    img = PIL.Image.open(image_path)\n",
        "    img_resized = img.resize((224, 224), PIL.Image.LANCZOS)\n",
        "\n",
        "    plt.imshow(img_resized)\n",
        "\n",
        "    img_array = np.expand_dims(np.array(img_resized), axis=0)\n",
        "\n",
        "    pred_coba = model.predict(img_array)\n",
        "    a = model.predict(img_array)\n",
        "\n",
        "    labels = np.argmax(a, axis=1)\n",
        "\n",
        "    plt.title(f\"Pred : {a}\\nLabels : {labels}\")\n",
        "\n",
        "predictModel(\"/content/drive/My Drive/TugasPraktikum/Covid19-dataset/test/Covid/051.jpeg\")"
      ],
      "execution_count": null,
      "outputs": [
        {
          "output_type": "display_data",
          "data": {
            "image/png": "[encoded data removed]",
            "text/plain": [
              "<Figure size 432x288 with 1 Axes>"
            ]
          },
          "metadata": {}
        }
      ]
    },
    {
      "cell_type": "code",
      "metadata": {
        "id": "PH0fCqJfbSiJ"
      },
      "source": [
        ""
      ],
      "execution_count": null,
      "outputs": []
    }
  ]
}