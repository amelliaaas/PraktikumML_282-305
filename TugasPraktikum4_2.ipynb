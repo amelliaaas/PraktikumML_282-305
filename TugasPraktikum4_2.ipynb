{
  "nbformat": 4,
  "nbformat_minor": 0,
  "metadata": {
    "colab": {
      "name": "TugasPraktikum4(Model2).ipynb",
      "provenance": [],
      "authorship_tag": "ABX9TyMI6bxQ5P9YkVecIfEa4vxs",
      "include_colab_link": true
    },
    "kernelspec": {
      "name": "python3",
      "display_name": "Python 3"
    },
    "language_info": {
      "name": "python"
    }
  },
  "cells": [
    {
      "cell_type": "markdown",
      "metadata": {
        "id": "view-in-github",
        "colab_type": "text"
      },
      "source": [
        "<a href=\"https://colab.research.google.com/github/amelliaaas/PraktikumML_282-305/blob/main/TugasPraktikum4_2.ipynb\" target=\"_parent\"><img src=\"https://colab.research.google.com/assets/colab-badge.svg\" alt=\"Open In Colab\"/></a>"
      ]
    },
    {
      "cell_type": "markdown",
      "metadata": {
        "id": "x4VBBTu8xo3i"
      },
      "source": [
        "#Load Data#"
      ]
    },
    {
      "cell_type": "code",
      "metadata": {
        "colab": {
          "base_uri": "https://localhost:8080/"
        },
        "id": "u8hVjFVrVzHg",
        "outputId": "6036a0ce-8b62-4550-df68-63fde41ab746"
      },
      "source": [
        "from google.colab import drive\n",
        "drive.mount('/content/drive')"
      ],
      "execution_count": 2,
      "outputs": [
        {
          "output_type": "stream",
          "name": "stdout",
          "text": [
            "Drive already mounted at /content/drive; to attempt to forcibly remount, call drive.mount(\"/content/drive\", force_remount=True).\n"
          ]
        }
      ]
    },
    {
      "cell_type": "code",
      "metadata": {
        "colab": {
          "base_uri": "https://localhost:8080/"
        },
        "id": "CB_Sr6h0V5Ul",
        "outputId": "e7b3f180-7d10-4175-b689-9f635a648cfc"
      },
      "source": [
        "%cd /content/drive/My Drive/TugasPraktikum/Covid19-dataset"
      ],
      "execution_count": 3,
      "outputs": [
        {
          "output_type": "stream",
          "name": "stdout",
          "text": [
            "/content/drive/My Drive/TugasPraktikum/Covid19-dataset\n"
          ]
        }
      ]
    },
    {
      "cell_type": "code",
      "metadata": {
        "colab": {
          "base_uri": "https://localhost:8080/"
        },
        "id": "IeewHlI3WGNx",
        "outputId": "b61e8fdd-05ae-4944-c5ca-03e7f28fcb6f"
      },
      "source": [
        "!ls"
      ],
      "execution_count": 4,
      "outputs": [
        {
          "output_type": "stream",
          "name": "stdout",
          "text": [
            "datasets  test\ttrain\n"
          ]
        }
      ]
    },
    {
      "cell_type": "code",
      "metadata": {
        "id": "q8Clwqq8WT7H"
      },
      "source": [
        "import os\n",
        "base_dir = 'datasets'\n",
        "\n",
        "train_dir = os.path.join(base_dir, 'test')\n",
        "test_dir = os.path.join(base_dir, 'train')\n",
        "val_dir = os.path.join(base_dir, 'val')\n",
        "\n",
        "train_covid_dir = os.path.join(train_dir, 'Covid')\n",
        "train_normal_dir = os.path.join(train_dir, 'Normal')\n",
        "train_pneumonia_dir = os.path.join(train_dir, 'Viral Pneumonia')\n",
        "\n",
        "test_covid_dir = os.path.join(test_dir, 'Covid')\n",
        "test_normal_dir = os.path.join(test_dir, 'Normal')\n",
        "test_pneumonia_dir = os.path.join(test_dir, 'Viral Pneumonia')\n",
        "\n",
        "val_covid_dir = os.path.join(val_dir, 'Covid')\n",
        "val_normal_dir = os.path.join(val_dir, 'Normal')\n",
        "val_pneumonia_dir = os.path.join(val_dir, 'Viral Pneumonia')"
      ],
      "execution_count": 5,
      "outputs": []
    },
    {
      "cell_type": "code",
      "metadata": {
        "colab": {
          "base_uri": "https://localhost:8080/"
        },
        "id": "2vg0zTJaWYqp",
        "outputId": "e30bec37-c4a8-45d3-bbfc-53bf653d7fc5"
      },
      "source": [
        "!ls"
      ],
      "execution_count": 6,
      "outputs": [
        {
          "output_type": "stream",
          "name": "stdout",
          "text": [
            "datasets  test\ttrain\n"
          ]
        }
      ]
    },
    {
      "cell_type": "code",
      "metadata": {
        "colab": {
          "base_uri": "https://localhost:8080/",
          "height": 35
        },
        "id": "V069IPyfWvtg",
        "outputId": "4bfb4887-3ddc-4005-ed76-b1f5da8bd4d4"
      },
      "source": [
        "test_covid_dir"
      ],
      "execution_count": 7,
      "outputs": [
        {
          "output_type": "execute_result",
          "data": {
            "application/vnd.google.colaboratory.intrinsic+json": {
              "type": "string"
            },
            "text/plain": [
              "'datasets/train/Covid'"
            ]
          },
          "metadata": {},
          "execution_count": 7
        }
      ]
    },
    {
      "cell_type": "markdown",
      "metadata": {
        "id": "G7srnB7SW92r"
      },
      "source": [
        "#Splitting Data#"
      ]
    },
    {
      "cell_type": "code",
      "metadata": {
        "colab": {
          "base_uri": "https://localhost:8080/"
        },
        "id": "GVMXZlxMW0Tv",
        "outputId": "3423c0b6-ded0-47ef-dc27-f6e95855f4b7"
      },
      "source": [
        "pip install split-folders"
      ],
      "execution_count": 8,
      "outputs": [
        {
          "output_type": "stream",
          "name": "stdout",
          "text": [
            "Collecting split-folders\n",
            "  Downloading split_folders-0.4.3-py3-none-any.whl (7.4 kB)\n",
            "Installing collected packages: split-folders\n",
            "Successfully installed split-folders-0.4.3\n"
          ]
        }
      ]
    },
    {
      "cell_type": "code",
      "metadata": {
        "id": "eMeEzX5AW87R"
      },
      "source": [
        "import splitfolders\n",
        "splitfolders.ratio(train_dir, output=\"Covid19-dataset/datasets\", seed=1337, ratio=(.7, .15, .15))"
      ],
      "execution_count": null,
      "outputs": []
    },
    {
      "cell_type": "markdown",
      "metadata": {
        "id": "mMu2-LiaXfDS"
      },
      "source": [
        "#Preprocessing#"
      ]
    },
    {
      "cell_type": "code",
      "metadata": {
        "id": "8yWhhsaIXO9I"
      },
      "source": [
        "base_dir = \"/content/drive/MyDrive/TugasPraktikum/Covid19-dataset/datasets\"\n"
      ],
      "execution_count": 8,
      "outputs": []
    },
    {
      "cell_type": "code",
      "metadata": {
        "id": "by7gIu6yXuOU"
      },
      "source": [
        "# Definisikan path untuk data train test dan validation\n",
        "# sesuaikan dengan path anda\n",
        "import os\n",
        "\n",
        "train_path = os.path.join(base_dir, 'train')\n",
        "test_path  = os.path.join(base_dir, 'test')\n",
        "val_path   = os.path.join(base_dir, 'val')"
      ],
      "execution_count": 9,
      "outputs": []
    },
    {
      "cell_type": "code",
      "metadata": {
        "colab": {
          "base_uri": "https://localhost:8080/"
        },
        "id": "zUk77lXsYA0y",
        "outputId": "856375cb-face-4a7e-c3ae-02f18b0f73b4"
      },
      "source": [
        "# TULIS KODE ANDA DISINI\n",
        "\n",
        "from keras.preprocessing.image import ImageDataGenerator\n",
        "from sklearn.utils import shuffle\n",
        "\n",
        "batch_size = 32\n",
        "augmen_gen = ImageDataGenerator(rescale=1. / 255,\n",
        "                                rotation_range=40,\n",
        "                                width_shift_range=0.2,\n",
        "                                height_shift_range=0.2,\n",
        "                                zoom_range=0.2,\n",
        "                                horizontal_flip=True,\n",
        "                                fill_mode='nearest')\n",
        "\n",
        "train_gen = augmen_gen.flow_from_directory(\n",
        "    train_path,\n",
        "    class_mode = 'categorical',\n",
        "    shuffle=True,\n",
        "    target_size = (224,224),\n",
        "    batch_size=batch_size,\n",
        "    color_mode ='rgb'\n",
        ")\n",
        "\n",
        "val_gen = augmen_gen.flow_from_directory(\n",
        "    val_path,\n",
        "    class_mode = 'categorical',\n",
        "    shuffle=True,\n",
        "    target_size = (224,224),\n",
        "    batch_size= batch_size,\n",
        "    color_mode ='rgb'\n",
        ")\n",
        "\n",
        "test_gen = augmen_gen.flow_from_directory(\n",
        "    test_path,\n",
        "    class_mode = 'categorical',\n",
        "    shuffle=False,\n",
        "    target_size = (224,224),\n",
        "    batch_size=batch_size,\n",
        "    color_mode ='rgb',\n",
        ")"
      ],
      "execution_count": 10,
      "outputs": [
        {
          "output_type": "stream",
          "name": "stdout",
          "text": [
            "Found 249 images belonging to 3 classes.\n",
            "Found 59 images belonging to 3 classes.\n",
            "Found 5 images belonging to 3 classes.\n"
          ]
        }
      ]
    },
    {
      "cell_type": "markdown",
      "metadata": {
        "id": "lUgOSIbNZgCn"
      },
      "source": [
        "#Modelling#"
      ]
    },
    {
      "cell_type": "code",
      "metadata": {
        "id": "gwMO7Ct_YTUx"
      },
      "source": [
        "# IMPORT SEMUA PAKET YANG ANDA PERLUKAN UNTUK MENDEFINISIKAN MODEL DISINI\n",
        "\n",
        "from tensorflow.keras.models import Sequential\n",
        "from tensorflow.keras.layers import InputLayer, Dense, Conv2D, MaxPool2D, Flatten, BatchNormalization, Dropout\n",
        "from tensorflow.keras.callbacks import ModelCheckpoint, ReduceLROnPlateau, EarlyStopping\n",
        "from tensorflow.keras.optimizers import Adam\n",
        "import time"
      ],
      "execution_count": 11,
      "outputs": []
    },
    {
      "cell_type": "code",
      "metadata": {
        "id": "w6_DmUHxZoCa"
      },
      "source": [
        "# DEFINISIKAN MODEL ANDA DISINI\n",
        "\n",
        "#Feature Selection\n",
        "model = Sequential()\n",
        "\n",
        "model.add(InputLayer(input_shape=[224,224,3]))\n",
        "model.add(Conv2D(filters=16, kernel_size=3, strides=1, padding='same', activation='relu'))\n",
        "model.add(BatchNormalization())\n",
        "model.add(MaxPool2D(pool_size=2, padding='same'))\n",
        "model.add(Conv2D(filters=32, kernel_size=3, strides=1, padding='same', activation='relu'))\n",
        "model.add(BatchNormalization())\n",
        "model.add(MaxPool2D(pool_size=2, padding='same'))\n",
        "model.add(Conv2D(filters=64, kernel_size=3, strides=1, padding='same', activation='relu'))\n",
        "model.add(BatchNormalization())\n",
        "model.add(MaxPool2D(pool_size=2, padding='same'))\n",
        "model.add(Conv2D(filters=128, kernel_size=3, strides=1, padding='same', activation='relu'))\n",
        "model.add(BatchNormalization())\n",
        "model.add(MaxPool2D(pool_size=2, padding='same'))\n",
        "model.add(Dropout(0.5))\n",
        "model.add(BatchNormalization())\n",
        "model.add(Flatten())\n",
        "\n",
        "#Fully Connected Layer\n",
        "model.add(Dense(128, activation='relu'))\n",
        "model.add(Dropout(0.75))\n",
        "model.add(Dense(3, activation='softmax'))\n"
      ],
      "execution_count": 12,
      "outputs": []
    },
    {
      "cell_type": "code",
      "metadata": {
        "colab": {
          "base_uri": "https://localhost:8080/"
        },
        "id": "CTRTU1uGbnlg",
        "outputId": "c8930006-4062-446f-f5fc-740f4f3a83d3"
      },
      "source": [
        "print(model.summary())"
      ],
      "execution_count": 13,
      "outputs": [
        {
          "output_type": "stream",
          "name": "stdout",
          "text": [
            "Model: \"sequential\"\n",
            "_________________________________________________________________\n",
            " Layer (type)                Output Shape              Param #   \n",
            "=================================================================\n",
            " conv2d (Conv2D)             (None, 224, 224, 16)      448       \n",
            "                                                                 \n",
            " batch_normalization (BatchN  (None, 224, 224, 16)     64        \n",
            " ormalization)                                                   \n",
            "                                                                 \n",
            " max_pooling2d (MaxPooling2D  (None, 112, 112, 16)     0         \n",
            " )                                                               \n",
            "                                                                 \n",
            " conv2d_1 (Conv2D)           (None, 112, 112, 32)      4640      \n",
            "                                                                 \n",
            " batch_normalization_1 (Batc  (None, 112, 112, 32)     128       \n",
            " hNormalization)                                                 \n",
            "                                                                 \n",
            " max_pooling2d_1 (MaxPooling  (None, 56, 56, 32)       0         \n",
            " 2D)                                                             \n",
            "                                                                 \n",
            " conv2d_2 (Conv2D)           (None, 56, 56, 64)        18496     \n",
            "                                                                 \n",
            " batch_normalization_2 (Batc  (None, 56, 56, 64)       256       \n",
            " hNormalization)                                                 \n",
            "                                                                 \n",
            " max_pooling2d_2 (MaxPooling  (None, 28, 28, 64)       0         \n",
            " 2D)                                                             \n",
            "                                                                 \n",
            " conv2d_3 (Conv2D)           (None, 28, 28, 128)       73856     \n",
            "                                                                 \n",
            " batch_normalization_3 (Batc  (None, 28, 28, 128)      512       \n",
            " hNormalization)                                                 \n",
            "                                                                 \n",
            " max_pooling2d_3 (MaxPooling  (None, 14, 14, 128)      0         \n",
            " 2D)                                                             \n",
            "                                                                 \n",
            " dropout (Dropout)           (None, 14, 14, 128)       0         \n",
            "                                                                 \n",
            " batch_normalization_4 (Batc  (None, 14, 14, 128)      512       \n",
            " hNormalization)                                                 \n",
            "                                                                 \n",
            " flatten (Flatten)           (None, 25088)             0         \n",
            "                                                                 \n",
            " dense (Dense)               (None, 128)               3211392   \n",
            "                                                                 \n",
            " dropout_1 (Dropout)         (None, 128)               0         \n",
            "                                                                 \n",
            " dense_1 (Dense)             (None, 3)                 387       \n",
            "                                                                 \n",
            "=================================================================\n",
            "Total params: 3,310,691\n",
            "Trainable params: 3,309,955\n",
            "Non-trainable params: 736\n",
            "_________________________________________________________________\n",
            "None\n"
          ]
        }
      ]
    },
    {
      "cell_type": "code",
      "metadata": {
        "id": "1FyfiF_7cR8w"
      },
      "source": [
        "# TULIS CODE CALLBACKS ANDA DISINI\n",
        "\n",
        "best_model_path = 'best_model.h5'\n",
        "checkpoint_callback = ModelCheckpoint(best_model_path,\n",
        "                                      monitor='val_accuracy',\n",
        "                                      save_best_only=True,\n",
        "                                      verbose=1)\n",
        "reduce_callback = ReduceLROnPlateau(monitor='val_accuracy', patience=3, factor=0.5, min_lr=0.0005, verbose=1)\n",
        "callbacks_list = [checkpoint_callback, reduce_callback]"
      ],
      "execution_count": 14,
      "outputs": []
    },
    {
      "cell_type": "code",
      "metadata": {
        "colab": {
          "base_uri": "https://localhost:8080/"
        },
        "id": "8_sVw9hPcXey",
        "outputId": "a6f64abc-4a48-4c29-b999-ccb680083459"
      },
      "source": [
        "# Compile model\n",
        "from tensorflow.keras.optimizers import Adam\n",
        "\n",
        "model.compile(optimizer=Adam(lr=0.001, decay=0.001/20), # decay = learning_rate / batch_size ), \n",
        "              loss='binary_crossentropy', \n",
        "              metrics=['accuracy'])"
      ],
      "execution_count": 17,
      "outputs": [
        {
          "output_type": "stream",
          "name": "stderr",
          "text": [
            "/usr/local/lib/python3.7/dist-packages/keras/optimizer_v2/adam.py:105: UserWarning: The `lr` argument is deprecated, use `learning_rate` instead.\n",
            "  super(Adam, self).__init__(name, **kwargs)\n"
          ]
        }
      ]
    },
    {
      "cell_type": "code",
      "metadata": {
        "colab": {
          "base_uri": "https://localhost:8080/"
        },
        "id": "ild4eAGZdL_Q",
        "outputId": "25d191d7-b177-42c8-c2ad-fc14f2cf5884"
      },
      "source": [
        "# TULIS CODE UNTUK MENCETAK LAMA TRAINING TIME DISINI\n",
        "\n",
        "start = time.time()\n",
        "H = model.fit_generator(train_gen, epochs=100,validation_data=val_gen, validation_steps = 4, callbacks=[callbacks_list])\n",
        "\n",
        "End = time.time()\n",
        "print (\"training time: \", End-start,\"s\")  # the time would be round to 3 decimal in seconds"
      ],
      "execution_count": 19,
      "outputs": [
        {
          "output_type": "stream",
          "name": "stderr",
          "text": [
            "/usr/local/lib/python3.7/dist-packages/ipykernel_launcher.py:4: UserWarning: `Model.fit_generator` is deprecated and will be removed in a future version. Please use `Model.fit`, which supports generators.\n",
            "  after removing the cwd from sys.path.\n"
          ]
        },
        {
          "output_type": "stream",
          "name": "stdout",
          "text": [
            "Epoch 1/100\n",
            "8/8 [==============================] - ETA: 0s - loss: 0.8305 - accuracy: 0.6426WARNING:tensorflow:Your input ran out of data; interrupting training. Make sure that your dataset or generator can generate at least `steps_per_epoch * epochs` batches (in this case, 4 batches). You may need to use the repeat() function when building your dataset.\n",
            "\n",
            "Epoch 00001: val_accuracy improved from -inf to 0.42373, saving model to best_model.h5\n",
            "8/8 [==============================] - 34s 4s/step - loss: 0.8305 - accuracy: 0.6426 - val_loss: 0.6193 - val_accuracy: 0.4237 - lr: 0.0010\n",
            "Epoch 2/100\n",
            "8/8 [==============================] - ETA: 0s - loss: 0.6193 - accuracy: 0.6747WARNING:tensorflow:Can save best model only with val_accuracy available, skipping.\n",
            "WARNING:tensorflow:Learning rate reduction is conditioned on metric `val_accuracy` which is not available. Available metrics are: loss,accuracy,lr\n",
            "8/8 [==============================] - 29s 3s/step - loss: 0.6193 - accuracy: 0.6747 - lr: 0.0010\n",
            "Epoch 3/100\n",
            "8/8 [==============================] - ETA: 0s - loss: 0.4992 - accuracy: 0.6747WARNING:tensorflow:Can save best model only with val_accuracy available, skipping.\n",
            "WARNING:tensorflow:Learning rate reduction is conditioned on metric `val_accuracy` which is not available. Available metrics are: loss,accuracy,lr\n",
            "8/8 [==============================] - 28s 3s/step - loss: 0.4992 - accuracy: 0.6747 - lr: 0.0010\n",
            "Epoch 4/100\n",
            "8/8 [==============================] - ETA: 0s - loss: 0.4366 - accuracy: 0.6908WARNING:tensorflow:Can save best model only with val_accuracy available, skipping.\n",
            "WARNING:tensorflow:Learning rate reduction is conditioned on metric `val_accuracy` which is not available. Available metrics are: loss,accuracy,lr\n",
            "8/8 [==============================] - 28s 3s/step - loss: 0.4366 - accuracy: 0.6908 - lr: 0.0010\n",
            "Epoch 5/100\n",
            "8/8 [==============================] - ETA: 0s - loss: 0.4130 - accuracy: 0.7149WARNING:tensorflow:Can save best model only with val_accuracy available, skipping.\n",
            "WARNING:tensorflow:Learning rate reduction is conditioned on metric `val_accuracy` which is not available. Available metrics are: loss,accuracy,lr\n",
            "8/8 [==============================] - 28s 3s/step - loss: 0.4130 - accuracy: 0.7149 - lr: 0.0010\n",
            "Epoch 6/100\n",
            "8/8 [==============================] - ETA: 0s - loss: 0.4120 - accuracy: 0.7269WARNING:tensorflow:Can save best model only with val_accuracy available, skipping.\n",
            "WARNING:tensorflow:Learning rate reduction is conditioned on metric `val_accuracy` which is not available. Available metrics are: loss,accuracy,lr\n",
            "8/8 [==============================] - 28s 4s/step - loss: 0.4120 - accuracy: 0.7269 - lr: 0.0010\n",
            "Epoch 7/100\n",
            "8/8 [==============================] - ETA: 0s - loss: 0.4276 - accuracy: 0.7108WARNING:tensorflow:Can save best model only with val_accuracy available, skipping.\n",
            "WARNING:tensorflow:Learning rate reduction is conditioned on metric `val_accuracy` which is not available. Available metrics are: loss,accuracy,lr\n",
            "8/8 [==============================] - 28s 3s/step - loss: 0.4276 - accuracy: 0.7108 - lr: 0.0010\n",
            "Epoch 8/100\n",
            "8/8 [==============================] - ETA: 0s - loss: 0.4214 - accuracy: 0.7068WARNING:tensorflow:Can save best model only with val_accuracy available, skipping.\n",
            "WARNING:tensorflow:Learning rate reduction is conditioned on metric `val_accuracy` which is not available. Available metrics are: loss,accuracy,lr\n",
            "8/8 [==============================] - 28s 3s/step - loss: 0.4214 - accuracy: 0.7068 - lr: 0.0010\n",
            "Epoch 9/100\n",
            "8/8 [==============================] - ETA: 0s - loss: 0.3832 - accuracy: 0.7390WARNING:tensorflow:Can save best model only with val_accuracy available, skipping.\n",
            "WARNING:tensorflow:Learning rate reduction is conditioned on metric `val_accuracy` which is not available. Available metrics are: loss,accuracy,lr\n",
            "8/8 [==============================] - 28s 3s/step - loss: 0.3832 - accuracy: 0.7390 - lr: 0.0010\n",
            "Epoch 10/100\n",
            "8/8 [==============================] - ETA: 0s - loss: 0.4146 - accuracy: 0.7108WARNING:tensorflow:Can save best model only with val_accuracy available, skipping.\n",
            "WARNING:tensorflow:Learning rate reduction is conditioned on metric `val_accuracy` which is not available. Available metrics are: loss,accuracy,lr\n",
            "8/8 [==============================] - 28s 3s/step - loss: 0.4146 - accuracy: 0.7108 - lr: 0.0010\n",
            "Epoch 11/100\n",
            "8/8 [==============================] - ETA: 0s - loss: 0.3799 - accuracy: 0.7189WARNING:tensorflow:Can save best model only with val_accuracy available, skipping.\n",
            "WARNING:tensorflow:Learning rate reduction is conditioned on metric `val_accuracy` which is not available. Available metrics are: loss,accuracy,lr\n",
            "8/8 [==============================] - 28s 3s/step - loss: 0.3799 - accuracy: 0.7189 - lr: 0.0010\n",
            "Epoch 12/100\n",
            "8/8 [==============================] - ETA: 0s - loss: 0.4242 - accuracy: 0.6827WARNING:tensorflow:Can save best model only with val_accuracy available, skipping.\n",
            "WARNING:tensorflow:Learning rate reduction is conditioned on metric `val_accuracy` which is not available. Available metrics are: loss,accuracy,lr\n",
            "8/8 [==============================] - 28s 3s/step - loss: 0.4242 - accuracy: 0.6827 - lr: 0.0010\n",
            "Epoch 13/100\n",
            "8/8 [==============================] - ETA: 0s - loss: 0.3878 - accuracy: 0.7590WARNING:tensorflow:Can save best model only with val_accuracy available, skipping.\n",
            "WARNING:tensorflow:Learning rate reduction is conditioned on metric `val_accuracy` which is not available. Available metrics are: loss,accuracy,lr\n",
            "8/8 [==============================] - 28s 3s/step - loss: 0.3878 - accuracy: 0.7590 - lr: 0.0010\n",
            "Epoch 14/100\n",
            "8/8 [==============================] - ETA: 0s - loss: 0.4115 - accuracy: 0.7550WARNING:tensorflow:Can save best model only with val_accuracy available, skipping.\n",
            "WARNING:tensorflow:Learning rate reduction is conditioned on metric `val_accuracy` which is not available. Available metrics are: loss,accuracy,lr\n",
            "8/8 [==============================] - 28s 3s/step - loss: 0.4115 - accuracy: 0.7550 - lr: 0.0010\n",
            "Epoch 15/100\n",
            "8/8 [==============================] - ETA: 0s - loss: 0.4421 - accuracy: 0.7952WARNING:tensorflow:Can save best model only with val_accuracy available, skipping.\n",
            "WARNING:tensorflow:Learning rate reduction is conditioned on metric `val_accuracy` which is not available. Available metrics are: loss,accuracy,lr\n",
            "8/8 [==============================] - 28s 4s/step - loss: 0.4421 - accuracy: 0.7952 - lr: 0.0010\n",
            "Epoch 16/100\n",
            "8/8 [==============================] - ETA: 0s - loss: 0.3759 - accuracy: 0.7510WARNING:tensorflow:Can save best model only with val_accuracy available, skipping.\n",
            "WARNING:tensorflow:Learning rate reduction is conditioned on metric `val_accuracy` which is not available. Available metrics are: loss,accuracy,lr\n",
            "8/8 [==============================] - 28s 3s/step - loss: 0.3759 - accuracy: 0.7510 - lr: 0.0010\n",
            "Epoch 17/100\n",
            "8/8 [==============================] - ETA: 0s - loss: 0.3811 - accuracy: 0.7349WARNING:tensorflow:Can save best model only with val_accuracy available, skipping.\n",
            "WARNING:tensorflow:Learning rate reduction is conditioned on metric `val_accuracy` which is not available. Available metrics are: loss,accuracy,lr\n",
            "8/8 [==============================] - 28s 3s/step - loss: 0.3811 - accuracy: 0.7349 - lr: 0.0010\n",
            "Epoch 18/100\n",
            "8/8 [==============================] - ETA: 0s - loss: 0.3156 - accuracy: 0.7992WARNING:tensorflow:Can save best model only with val_accuracy available, skipping.\n",
            "WARNING:tensorflow:Learning rate reduction is conditioned on metric `val_accuracy` which is not available. Available metrics are: loss,accuracy,lr\n",
            "8/8 [==============================] - 28s 3s/step - loss: 0.3156 - accuracy: 0.7992 - lr: 0.0010\n",
            "Epoch 19/100\n",
            "8/8 [==============================] - ETA: 0s - loss: 0.3346 - accuracy: 0.7510WARNING:tensorflow:Can save best model only with val_accuracy available, skipping.\n",
            "WARNING:tensorflow:Learning rate reduction is conditioned on metric `val_accuracy` which is not available. Available metrics are: loss,accuracy,lr\n",
            "8/8 [==============================] - 28s 3s/step - loss: 0.3346 - accuracy: 0.7510 - lr: 0.0010\n",
            "Epoch 20/100\n",
            "8/8 [==============================] - ETA: 0s - loss: 0.3424 - accuracy: 0.7791WARNING:tensorflow:Can save best model only with val_accuracy available, skipping.\n",
            "WARNING:tensorflow:Learning rate reduction is conditioned on metric `val_accuracy` which is not available. Available metrics are: loss,accuracy,lr\n",
            "8/8 [==============================] - 28s 3s/step - loss: 0.3424 - accuracy: 0.7791 - lr: 0.0010\n",
            "Epoch 21/100\n",
            "8/8 [==============================] - ETA: 0s - loss: 0.4349 - accuracy: 0.7470WARNING:tensorflow:Can save best model only with val_accuracy available, skipping.\n",
            "WARNING:tensorflow:Learning rate reduction is conditioned on metric `val_accuracy` which is not available. Available metrics are: loss,accuracy,lr\n",
            "8/8 [==============================] - 28s 3s/step - loss: 0.4349 - accuracy: 0.7470 - lr: 0.0010\n",
            "Epoch 22/100\n",
            "8/8 [==============================] - ETA: 0s - loss: 0.3421 - accuracy: 0.7390WARNING:tensorflow:Can save best model only with val_accuracy available, skipping.\n",
            "WARNING:tensorflow:Learning rate reduction is conditioned on metric `val_accuracy` which is not available. Available metrics are: loss,accuracy,lr\n",
            "8/8 [==============================] - 28s 3s/step - loss: 0.3421 - accuracy: 0.7390 - lr: 0.0010\n",
            "Epoch 23/100\n",
            "8/8 [==============================] - ETA: 0s - loss: 0.3696 - accuracy: 0.7590WARNING:tensorflow:Can save best model only with val_accuracy available, skipping.\n",
            "WARNING:tensorflow:Learning rate reduction is conditioned on metric `val_accuracy` which is not available. Available metrics are: loss,accuracy,lr\n",
            "8/8 [==============================] - 28s 3s/step - loss: 0.3696 - accuracy: 0.7590 - lr: 0.0010\n",
            "Epoch 24/100\n",
            "8/8 [==============================] - ETA: 0s - loss: 0.3377 - accuracy: 0.7912WARNING:tensorflow:Can save best model only with val_accuracy available, skipping.\n",
            "WARNING:tensorflow:Learning rate reduction is conditioned on metric `val_accuracy` which is not available. Available metrics are: loss,accuracy,lr\n",
            "8/8 [==============================] - 28s 3s/step - loss: 0.3377 - accuracy: 0.7912 - lr: 0.0010\n",
            "Epoch 25/100\n",
            "8/8 [==============================] - ETA: 0s - loss: 0.4705 - accuracy: 0.7349WARNING:tensorflow:Can save best model only with val_accuracy available, skipping.\n",
            "WARNING:tensorflow:Learning rate reduction is conditioned on metric `val_accuracy` which is not available. Available metrics are: loss,accuracy,lr\n",
            "8/8 [==============================] - 28s 3s/step - loss: 0.4705 - accuracy: 0.7349 - lr: 0.0010\n",
            "Epoch 26/100\n",
            "8/8 [==============================] - ETA: 0s - loss: 0.3577 - accuracy: 0.7269WARNING:tensorflow:Can save best model only with val_accuracy available, skipping.\n",
            "WARNING:tensorflow:Learning rate reduction is conditioned on metric `val_accuracy` which is not available. Available metrics are: loss,accuracy,lr\n",
            "8/8 [==============================] - 28s 3s/step - loss: 0.3577 - accuracy: 0.7269 - lr: 0.0010\n",
            "Epoch 27/100\n",
            "8/8 [==============================] - ETA: 0s - loss: 0.3204 - accuracy: 0.7992WARNING:tensorflow:Can save best model only with val_accuracy available, skipping.\n",
            "WARNING:tensorflow:Learning rate reduction is conditioned on metric `val_accuracy` which is not available. Available metrics are: loss,accuracy,lr\n",
            "8/8 [==============================] - 28s 3s/step - loss: 0.3204 - accuracy: 0.7992 - lr: 0.0010\n",
            "Epoch 28/100\n",
            "8/8 [==============================] - ETA: 0s - loss: 0.3875 - accuracy: 0.7631WARNING:tensorflow:Can save best model only with val_accuracy available, skipping.\n",
            "WARNING:tensorflow:Learning rate reduction is conditioned on metric `val_accuracy` which is not available. Available metrics are: loss,accuracy,lr\n",
            "8/8 [==============================] - 28s 3s/step - loss: 0.3875 - accuracy: 0.7631 - lr: 0.0010\n",
            "Epoch 29/100\n",
            "8/8 [==============================] - ETA: 0s - loss: 0.3597 - accuracy: 0.7631WARNING:tensorflow:Can save best model only with val_accuracy available, skipping.\n",
            "WARNING:tensorflow:Learning rate reduction is conditioned on metric `val_accuracy` which is not available. Available metrics are: loss,accuracy,lr\n",
            "8/8 [==============================] - 28s 3s/step - loss: 0.3597 - accuracy: 0.7631 - lr: 0.0010\n",
            "Epoch 30/100\n",
            "8/8 [==============================] - ETA: 0s - loss: 0.4005 - accuracy: 0.7349WARNING:tensorflow:Can save best model only with val_accuracy available, skipping.\n",
            "WARNING:tensorflow:Learning rate reduction is conditioned on metric `val_accuracy` which is not available. Available metrics are: loss,accuracy,lr\n",
            "8/8 [==============================] - 28s 3s/step - loss: 0.4005 - accuracy: 0.7349 - lr: 0.0010\n",
            "Epoch 31/100\n",
            "8/8 [==============================] - ETA: 0s - loss: 0.3353 - accuracy: 0.7912WARNING:tensorflow:Can save best model only with val_accuracy available, skipping.\n",
            "WARNING:tensorflow:Learning rate reduction is conditioned on metric `val_accuracy` which is not available. Available metrics are: loss,accuracy,lr\n",
            "8/8 [==============================] - 28s 3s/step - loss: 0.3353 - accuracy: 0.7912 - lr: 0.0010\n",
            "Epoch 32/100\n",
            "8/8 [==============================] - ETA: 0s - loss: 0.3008 - accuracy: 0.8112WARNING:tensorflow:Can save best model only with val_accuracy available, skipping.\n",
            "WARNING:tensorflow:Learning rate reduction is conditioned on metric `val_accuracy` which is not available. Available metrics are: loss,accuracy,lr\n",
            "8/8 [==============================] - 28s 3s/step - loss: 0.3008 - accuracy: 0.8112 - lr: 0.0010\n",
            "Epoch 33/100\n",
            "8/8 [==============================] - ETA: 0s - loss: 0.2951 - accuracy: 0.7831WARNING:tensorflow:Can save best model only with val_accuracy available, skipping.\n",
            "WARNING:tensorflow:Learning rate reduction is conditioned on metric `val_accuracy` which is not available. Available metrics are: loss,accuracy,lr\n",
            "8/8 [==============================] - 28s 3s/step - loss: 0.2951 - accuracy: 0.7831 - lr: 0.0010\n",
            "Epoch 34/100\n",
            "8/8 [==============================] - ETA: 0s - loss: 0.3083 - accuracy: 0.7952WARNING:tensorflow:Can save best model only with val_accuracy available, skipping.\n",
            "WARNING:tensorflow:Learning rate reduction is conditioned on metric `val_accuracy` which is not available. Available metrics are: loss,accuracy,lr\n",
            "8/8 [==============================] - 28s 3s/step - loss: 0.3083 - accuracy: 0.7952 - lr: 0.0010\n",
            "Epoch 35/100\n",
            "8/8 [==============================] - ETA: 0s - loss: 0.3402 - accuracy: 0.7952WARNING:tensorflow:Can save best model only with val_accuracy available, skipping.\n",
            "WARNING:tensorflow:Learning rate reduction is conditioned on metric `val_accuracy` which is not available. Available metrics are: loss,accuracy,lr\n",
            "8/8 [==============================] - 28s 3s/step - loss: 0.3402 - accuracy: 0.7952 - lr: 0.0010\n",
            "Epoch 36/100\n",
            "8/8 [==============================] - ETA: 0s - loss: 0.3583 - accuracy: 0.7430WARNING:tensorflow:Can save best model only with val_accuracy available, skipping.\n",
            "WARNING:tensorflow:Learning rate reduction is conditioned on metric `val_accuracy` which is not available. Available metrics are: loss,accuracy,lr\n",
            "8/8 [==============================] - 28s 3s/step - loss: 0.3583 - accuracy: 0.7430 - lr: 0.0010\n",
            "Epoch 37/100\n",
            "8/8 [==============================] - ETA: 0s - loss: 0.3103 - accuracy: 0.7470WARNING:tensorflow:Can save best model only with val_accuracy available, skipping.\n",
            "WARNING:tensorflow:Learning rate reduction is conditioned on metric `val_accuracy` which is not available. Available metrics are: loss,accuracy,lr\n",
            "8/8 [==============================] - 28s 3s/step - loss: 0.3103 - accuracy: 0.7470 - lr: 0.0010\n",
            "Epoch 38/100\n",
            "8/8 [==============================] - ETA: 0s - loss: 0.3699 - accuracy: 0.7349WARNING:tensorflow:Can save best model only with val_accuracy available, skipping.\n",
            "WARNING:tensorflow:Learning rate reduction is conditioned on metric `val_accuracy` which is not available. Available metrics are: loss,accuracy,lr\n",
            "8/8 [==============================] - 28s 3s/step - loss: 0.3699 - accuracy: 0.7349 - lr: 0.0010\n",
            "Epoch 39/100\n",
            "8/8 [==============================] - ETA: 0s - loss: 0.3135 - accuracy: 0.7590WARNING:tensorflow:Can save best model only with val_accuracy available, skipping.\n",
            "WARNING:tensorflow:Learning rate reduction is conditioned on metric `val_accuracy` which is not available. Available metrics are: loss,accuracy,lr\n",
            "8/8 [==============================] - 28s 3s/step - loss: 0.3135 - accuracy: 0.7590 - lr: 0.0010\n",
            "Epoch 40/100\n",
            "8/8 [==============================] - ETA: 0s - loss: 0.3224 - accuracy: 0.7831WARNING:tensorflow:Can save best model only with val_accuracy available, skipping.\n",
            "WARNING:tensorflow:Learning rate reduction is conditioned on metric `val_accuracy` which is not available. Available metrics are: loss,accuracy,lr\n",
            "8/8 [==============================] - 28s 3s/step - loss: 0.3224 - accuracy: 0.7831 - lr: 0.0010\n",
            "Epoch 41/100\n",
            "8/8 [==============================] - ETA: 0s - loss: 0.3149 - accuracy: 0.7992WARNING:tensorflow:Can save best model only with val_accuracy available, skipping.\n",
            "WARNING:tensorflow:Learning rate reduction is conditioned on metric `val_accuracy` which is not available. Available metrics are: loss,accuracy,lr\n",
            "8/8 [==============================] - 28s 3s/step - loss: 0.3149 - accuracy: 0.7992 - lr: 0.0010\n",
            "Epoch 42/100\n",
            "8/8 [==============================] - ETA: 0s - loss: 0.2998 - accuracy: 0.7510WARNING:tensorflow:Can save best model only with val_accuracy available, skipping.\n",
            "WARNING:tensorflow:Learning rate reduction is conditioned on metric `val_accuracy` which is not available. Available metrics are: loss,accuracy,lr\n",
            "8/8 [==============================] - 28s 3s/step - loss: 0.2998 - accuracy: 0.7510 - lr: 0.0010\n",
            "Epoch 43/100\n",
            "8/8 [==============================] - ETA: 0s - loss: 0.3484 - accuracy: 0.7510WARNING:tensorflow:Can save best model only with val_accuracy available, skipping.\n",
            "WARNING:tensorflow:Learning rate reduction is conditioned on metric `val_accuracy` which is not available. Available metrics are: loss,accuracy,lr\n",
            "8/8 [==============================] - 28s 3s/step - loss: 0.3484 - accuracy: 0.7510 - lr: 0.0010\n",
            "Epoch 44/100\n",
            "8/8 [==============================] - ETA: 0s - loss: 0.3571 - accuracy: 0.7550WARNING:tensorflow:Can save best model only with val_accuracy available, skipping.\n",
            "WARNING:tensorflow:Learning rate reduction is conditioned on metric `val_accuracy` which is not available. Available metrics are: loss,accuracy,lr\n",
            "8/8 [==============================] - 28s 3s/step - loss: 0.3571 - accuracy: 0.7550 - lr: 0.0010\n",
            "Epoch 45/100\n",
            "8/8 [==============================] - ETA: 0s - loss: 0.3029 - accuracy: 0.8032WARNING:tensorflow:Can save best model only with val_accuracy available, skipping.\n",
            "WARNING:tensorflow:Learning rate reduction is conditioned on metric `val_accuracy` which is not available. Available metrics are: loss,accuracy,lr\n",
            "8/8 [==============================] - 28s 3s/step - loss: 0.3029 - accuracy: 0.8032 - lr: 0.0010\n",
            "Epoch 46/100\n",
            "8/8 [==============================] - ETA: 0s - loss: 0.3278 - accuracy: 0.7831WARNING:tensorflow:Can save best model only with val_accuracy available, skipping.\n",
            "WARNING:tensorflow:Learning rate reduction is conditioned on metric `val_accuracy` which is not available. Available metrics are: loss,accuracy,lr\n",
            "8/8 [==============================] - 28s 3s/step - loss: 0.3278 - accuracy: 0.7831 - lr: 0.0010\n",
            "Epoch 47/100\n",
            "8/8 [==============================] - ETA: 0s - loss: 0.3225 - accuracy: 0.7711WARNING:tensorflow:Can save best model only with val_accuracy available, skipping.\n",
            "WARNING:tensorflow:Learning rate reduction is conditioned on metric `val_accuracy` which is not available. Available metrics are: loss,accuracy,lr\n",
            "8/8 [==============================] - 28s 3s/step - loss: 0.3225 - accuracy: 0.7711 - lr: 0.0010\n",
            "Epoch 48/100\n",
            "8/8 [==============================] - ETA: 0s - loss: 0.3818 - accuracy: 0.7550WARNING:tensorflow:Can save best model only with val_accuracy available, skipping.\n",
            "WARNING:tensorflow:Learning rate reduction is conditioned on metric `val_accuracy` which is not available. Available metrics are: loss,accuracy,lr\n",
            "8/8 [==============================] - 28s 3s/step - loss: 0.3818 - accuracy: 0.7550 - lr: 0.0010\n",
            "Epoch 49/100\n",
            "8/8 [==============================] - ETA: 0s - loss: 0.2986 - accuracy: 0.7751WARNING:tensorflow:Can save best model only with val_accuracy available, skipping.\n",
            "WARNING:tensorflow:Learning rate reduction is conditioned on metric `val_accuracy` which is not available. Available metrics are: loss,accuracy,lr\n",
            "8/8 [==============================] - 28s 3s/step - loss: 0.2986 - accuracy: 0.7751 - lr: 0.0010\n",
            "Epoch 50/100\n",
            "8/8 [==============================] - ETA: 0s - loss: 0.3170 - accuracy: 0.8112WARNING:tensorflow:Can save best model only with val_accuracy available, skipping.\n",
            "WARNING:tensorflow:Learning rate reduction is conditioned on metric `val_accuracy` which is not available. Available metrics are: loss,accuracy,lr\n",
            "8/8 [==============================] - 28s 3s/step - loss: 0.3170 - accuracy: 0.8112 - lr: 0.0010\n",
            "Epoch 51/100\n",
            "8/8 [==============================] - ETA: 0s - loss: 0.3216 - accuracy: 0.7791WARNING:tensorflow:Can save best model only with val_accuracy available, skipping.\n",
            "WARNING:tensorflow:Learning rate reduction is conditioned on metric `val_accuracy` which is not available. Available metrics are: loss,accuracy,lr\n",
            "8/8 [==============================] - 28s 3s/step - loss: 0.3216 - accuracy: 0.7791 - lr: 0.0010\n",
            "Epoch 52/100\n",
            "8/8 [==============================] - ETA: 0s - loss: 0.3015 - accuracy: 0.7992WARNING:tensorflow:Can save best model only with val_accuracy available, skipping.\n",
            "WARNING:tensorflow:Learning rate reduction is conditioned on metric `val_accuracy` which is not available. Available metrics are: loss,accuracy,lr\n",
            "8/8 [==============================] - 28s 3s/step - loss: 0.3015 - accuracy: 0.7992 - lr: 0.0010\n",
            "Epoch 53/100\n",
            "8/8 [==============================] - ETA: 0s - loss: 0.2536 - accuracy: 0.8434WARNING:tensorflow:Can save best model only with val_accuracy available, skipping.\n",
            "WARNING:tensorflow:Learning rate reduction is conditioned on metric `val_accuracy` which is not available. Available metrics are: loss,accuracy,lr\n",
            "8/8 [==============================] - 28s 3s/step - loss: 0.2536 - accuracy: 0.8434 - lr: 0.0010\n",
            "Epoch 54/100\n",
            "8/8 [==============================] - ETA: 0s - loss: 0.2876 - accuracy: 0.8193WARNING:tensorflow:Can save best model only with val_accuracy available, skipping.\n",
            "WARNING:tensorflow:Learning rate reduction is conditioned on metric `val_accuracy` which is not available. Available metrics are: loss,accuracy,lr\n",
            "8/8 [==============================] - 28s 3s/step - loss: 0.2876 - accuracy: 0.8193 - lr: 0.0010\n",
            "Epoch 55/100\n",
            "8/8 [==============================] - ETA: 0s - loss: 0.2931 - accuracy: 0.7952WARNING:tensorflow:Can save best model only with val_accuracy available, skipping.\n",
            "WARNING:tensorflow:Learning rate reduction is conditioned on metric `val_accuracy` which is not available. Available metrics are: loss,accuracy,lr\n",
            "8/8 [==============================] - 28s 3s/step - loss: 0.2931 - accuracy: 0.7952 - lr: 0.0010\n",
            "Epoch 56/100\n",
            "8/8 [==============================] - ETA: 0s - loss: 0.2354 - accuracy: 0.8474WARNING:tensorflow:Can save best model only with val_accuracy available, skipping.\n",
            "WARNING:tensorflow:Learning rate reduction is conditioned on metric `val_accuracy` which is not available. Available metrics are: loss,accuracy,lr\n",
            "8/8 [==============================] - 28s 3s/step - loss: 0.2354 - accuracy: 0.8474 - lr: 0.0010\n",
            "Epoch 57/100\n",
            "8/8 [==============================] - ETA: 0s - loss: 0.3212 - accuracy: 0.7871WARNING:tensorflow:Can save best model only with val_accuracy available, skipping.\n",
            "WARNING:tensorflow:Learning rate reduction is conditioned on metric `val_accuracy` which is not available. Available metrics are: loss,accuracy,lr\n",
            "8/8 [==============================] - 28s 3s/step - loss: 0.3212 - accuracy: 0.7871 - lr: 0.0010\n",
            "Epoch 58/100\n",
            "8/8 [==============================] - ETA: 0s - loss: 0.3372 - accuracy: 0.7871WARNING:tensorflow:Can save best model only with val_accuracy available, skipping.\n",
            "WARNING:tensorflow:Learning rate reduction is conditioned on metric `val_accuracy` which is not available. Available metrics are: loss,accuracy,lr\n",
            "8/8 [==============================] - 28s 3s/step - loss: 0.3372 - accuracy: 0.7871 - lr: 0.0010\n",
            "Epoch 59/100\n",
            "8/8 [==============================] - ETA: 0s - loss: 0.3717 - accuracy: 0.7590WARNING:tensorflow:Can save best model only with val_accuracy available, skipping.\n",
            "WARNING:tensorflow:Learning rate reduction is conditioned on metric `val_accuracy` which is not available. Available metrics are: loss,accuracy,lr\n",
            "8/8 [==============================] - 28s 3s/step - loss: 0.3717 - accuracy: 0.7590 - lr: 0.0010\n",
            "Epoch 60/100\n",
            "8/8 [==============================] - ETA: 0s - loss: 0.3404 - accuracy: 0.7791WARNING:tensorflow:Can save best model only with val_accuracy available, skipping.\n",
            "WARNING:tensorflow:Learning rate reduction is conditioned on metric `val_accuracy` which is not available. Available metrics are: loss,accuracy,lr\n",
            "8/8 [==============================] - 28s 3s/step - loss: 0.3404 - accuracy: 0.7791 - lr: 0.0010\n",
            "Epoch 61/100\n",
            "8/8 [==============================] - ETA: 0s - loss: 0.3810 - accuracy: 0.7510WARNING:tensorflow:Can save best model only with val_accuracy available, skipping.\n",
            "WARNING:tensorflow:Learning rate reduction is conditioned on metric `val_accuracy` which is not available. Available metrics are: loss,accuracy,lr\n",
            "8/8 [==============================] - 28s 3s/step - loss: 0.3810 - accuracy: 0.7510 - lr: 0.0010\n",
            "Epoch 62/100\n",
            "8/8 [==============================] - ETA: 0s - loss: 0.2787 - accuracy: 0.7952WARNING:tensorflow:Can save best model only with val_accuracy available, skipping.\n",
            "WARNING:tensorflow:Learning rate reduction is conditioned on metric `val_accuracy` which is not available. Available metrics are: loss,accuracy,lr\n",
            "8/8 [==============================] - 28s 3s/step - loss: 0.2787 - accuracy: 0.7952 - lr: 0.0010\n",
            "Epoch 63/100\n",
            "8/8 [==============================] - ETA: 0s - loss: 0.3501 - accuracy: 0.8072WARNING:tensorflow:Can save best model only with val_accuracy available, skipping.\n",
            "WARNING:tensorflow:Learning rate reduction is conditioned on metric `val_accuracy` which is not available. Available metrics are: loss,accuracy,lr\n",
            "8/8 [==============================] - 28s 3s/step - loss: 0.3501 - accuracy: 0.8072 - lr: 0.0010\n",
            "Epoch 64/100\n",
            "8/8 [==============================] - ETA: 0s - loss: 0.3213 - accuracy: 0.7590WARNING:tensorflow:Can save best model only with val_accuracy available, skipping.\n",
            "WARNING:tensorflow:Learning rate reduction is conditioned on metric `val_accuracy` which is not available. Available metrics are: loss,accuracy,lr\n",
            "8/8 [==============================] - 28s 3s/step - loss: 0.3213 - accuracy: 0.7590 - lr: 0.0010\n",
            "Epoch 65/100\n",
            "8/8 [==============================] - ETA: 0s - loss: 0.3237 - accuracy: 0.7831WARNING:tensorflow:Can save best model only with val_accuracy available, skipping.\n",
            "WARNING:tensorflow:Learning rate reduction is conditioned on metric `val_accuracy` which is not available. Available metrics are: loss,accuracy,lr\n",
            "8/8 [==============================] - 28s 3s/step - loss: 0.3237 - accuracy: 0.7831 - lr: 0.0010\n",
            "Epoch 66/100\n",
            "8/8 [==============================] - ETA: 0s - loss: 0.2802 - accuracy: 0.8032WARNING:tensorflow:Can save best model only with val_accuracy available, skipping.\n",
            "WARNING:tensorflow:Learning rate reduction is conditioned on metric `val_accuracy` which is not available. Available metrics are: loss,accuracy,lr\n",
            "8/8 [==============================] - 28s 4s/step - loss: 0.2802 - accuracy: 0.8032 - lr: 0.0010\n",
            "Epoch 67/100\n",
            "8/8 [==============================] - ETA: 0s - loss: 0.3099 - accuracy: 0.7711WARNING:tensorflow:Can save best model only with val_accuracy available, skipping.\n",
            "WARNING:tensorflow:Learning rate reduction is conditioned on metric `val_accuracy` which is not available. Available metrics are: loss,accuracy,lr\n",
            "8/8 [==============================] - 28s 3s/step - loss: 0.3099 - accuracy: 0.7711 - lr: 0.0010\n",
            "Epoch 68/100\n",
            "8/8 [==============================] - ETA: 0s - loss: 0.2841 - accuracy: 0.8273WARNING:tensorflow:Can save best model only with val_accuracy available, skipping.\n",
            "WARNING:tensorflow:Learning rate reduction is conditioned on metric `val_accuracy` which is not available. Available metrics are: loss,accuracy,lr\n",
            "8/8 [==============================] - 28s 3s/step - loss: 0.2841 - accuracy: 0.8273 - lr: 0.0010\n",
            "Epoch 69/100\n",
            "8/8 [==============================] - ETA: 0s - loss: 0.3603 - accuracy: 0.7992WARNING:tensorflow:Can save best model only with val_accuracy available, skipping.\n",
            "WARNING:tensorflow:Learning rate reduction is conditioned on metric `val_accuracy` which is not available. Available metrics are: loss,accuracy,lr\n",
            "8/8 [==============================] - 28s 3s/step - loss: 0.3603 - accuracy: 0.7992 - lr: 0.0010\n",
            "Epoch 70/100\n",
            "8/8 [==============================] - ETA: 0s - loss: 0.2815 - accuracy: 0.8032WARNING:tensorflow:Can save best model only with val_accuracy available, skipping.\n",
            "WARNING:tensorflow:Learning rate reduction is conditioned on metric `val_accuracy` which is not available. Available metrics are: loss,accuracy,lr\n",
            "8/8 [==============================] - 28s 3s/step - loss: 0.2815 - accuracy: 0.8032 - lr: 0.0010\n",
            "Epoch 71/100\n",
            "8/8 [==============================] - ETA: 0s - loss: 0.2518 - accuracy: 0.8112WARNING:tensorflow:Can save best model only with val_accuracy available, skipping.\n",
            "WARNING:tensorflow:Learning rate reduction is conditioned on metric `val_accuracy` which is not available. Available metrics are: loss,accuracy,lr\n",
            "8/8 [==============================] - 28s 3s/step - loss: 0.2518 - accuracy: 0.8112 - lr: 0.0010\n",
            "Epoch 72/100\n",
            "8/8 [==============================] - ETA: 0s - loss: 0.3042 - accuracy: 0.7952WARNING:tensorflow:Can save best model only with val_accuracy available, skipping.\n",
            "WARNING:tensorflow:Learning rate reduction is conditioned on metric `val_accuracy` which is not available. Available metrics are: loss,accuracy,lr\n",
            "8/8 [==============================] - 28s 3s/step - loss: 0.3042 - accuracy: 0.7952 - lr: 0.0010\n",
            "Epoch 73/100\n",
            "8/8 [==============================] - ETA: 0s - loss: 0.3942 - accuracy: 0.7871WARNING:tensorflow:Can save best model only with val_accuracy available, skipping.\n",
            "WARNING:tensorflow:Learning rate reduction is conditioned on metric `val_accuracy` which is not available. Available metrics are: loss,accuracy,lr\n",
            "8/8 [==============================] - 28s 3s/step - loss: 0.3942 - accuracy: 0.7871 - lr: 0.0010\n",
            "Epoch 74/100\n",
            "8/8 [==============================] - ETA: 0s - loss: 0.2877 - accuracy: 0.8072WARNING:tensorflow:Can save best model only with val_accuracy available, skipping.\n",
            "WARNING:tensorflow:Learning rate reduction is conditioned on metric `val_accuracy` which is not available. Available metrics are: loss,accuracy,lr\n",
            "8/8 [==============================] - 28s 3s/step - loss: 0.2877 - accuracy: 0.8072 - lr: 0.0010\n",
            "Epoch 75/100\n",
            "8/8 [==============================] - ETA: 0s - loss: 0.2818 - accuracy: 0.8072WARNING:tensorflow:Can save best model only with val_accuracy available, skipping.\n",
            "WARNING:tensorflow:Learning rate reduction is conditioned on metric `val_accuracy` which is not available. Available metrics are: loss,accuracy,lr\n",
            "8/8 [==============================] - 28s 3s/step - loss: 0.2818 - accuracy: 0.8072 - lr: 0.0010\n",
            "Epoch 76/100\n",
            "8/8 [==============================] - ETA: 0s - loss: 0.2884 - accuracy: 0.8153WARNING:tensorflow:Can save best model only with val_accuracy available, skipping.\n",
            "WARNING:tensorflow:Learning rate reduction is conditioned on metric `val_accuracy` which is not available. Available metrics are: loss,accuracy,lr\n",
            "8/8 [==============================] - 28s 3s/step - loss: 0.2884 - accuracy: 0.8153 - lr: 0.0010\n",
            "Epoch 77/100\n",
            "8/8 [==============================] - ETA: 0s - loss: 0.2733 - accuracy: 0.8233WARNING:tensorflow:Can save best model only with val_accuracy available, skipping.\n",
            "WARNING:tensorflow:Learning rate reduction is conditioned on metric `val_accuracy` which is not available. Available metrics are: loss,accuracy,lr\n",
            "8/8 [==============================] - 28s 3s/step - loss: 0.2733 - accuracy: 0.8233 - lr: 0.0010\n",
            "Epoch 78/100\n",
            "8/8 [==============================] - ETA: 0s - loss: 0.2670 - accuracy: 0.8153WARNING:tensorflow:Can save best model only with val_accuracy available, skipping.\n",
            "WARNING:tensorflow:Learning rate reduction is conditioned on metric `val_accuracy` which is not available. Available metrics are: loss,accuracy,lr\n",
            "8/8 [==============================] - 28s 3s/step - loss: 0.2670 - accuracy: 0.8153 - lr: 0.0010\n",
            "Epoch 79/100\n",
            "8/8 [==============================] - ETA: 0s - loss: 0.2956 - accuracy: 0.8193WARNING:tensorflow:Can save best model only with val_accuracy available, skipping.\n",
            "WARNING:tensorflow:Learning rate reduction is conditioned on metric `val_accuracy` which is not available. Available metrics are: loss,accuracy,lr\n",
            "8/8 [==============================] - 28s 3s/step - loss: 0.2956 - accuracy: 0.8193 - lr: 0.0010\n",
            "Epoch 80/100\n",
            "8/8 [==============================] - ETA: 0s - loss: 0.2842 - accuracy: 0.8233WARNING:tensorflow:Can save best model only with val_accuracy available, skipping.\n",
            "WARNING:tensorflow:Learning rate reduction is conditioned on metric `val_accuracy` which is not available. Available metrics are: loss,accuracy,lr\n",
            "8/8 [==============================] - 28s 3s/step - loss: 0.2842 - accuracy: 0.8233 - lr: 0.0010\n",
            "Epoch 81/100\n",
            "8/8 [==============================] - ETA: 0s - loss: 0.2425 - accuracy: 0.8353WARNING:tensorflow:Can save best model only with val_accuracy available, skipping.\n",
            "WARNING:tensorflow:Learning rate reduction is conditioned on metric `val_accuracy` which is not available. Available metrics are: loss,accuracy,lr\n",
            "8/8 [==============================] - 28s 3s/step - loss: 0.2425 - accuracy: 0.8353 - lr: 0.0010\n",
            "Epoch 82/100\n",
            "8/8 [==============================] - ETA: 0s - loss: 0.3042 - accuracy: 0.7992WARNING:tensorflow:Can save best model only with val_accuracy available, skipping.\n",
            "WARNING:tensorflow:Learning rate reduction is conditioned on metric `val_accuracy` which is not available. Available metrics are: loss,accuracy,lr\n",
            "8/8 [==============================] - 28s 3s/step - loss: 0.3042 - accuracy: 0.7992 - lr: 0.0010\n",
            "Epoch 83/100\n",
            "8/8 [==============================] - ETA: 0s - loss: 0.2969 - accuracy: 0.7711WARNING:tensorflow:Can save best model only with val_accuracy available, skipping.\n",
            "WARNING:tensorflow:Learning rate reduction is conditioned on metric `val_accuracy` which is not available. Available metrics are: loss,accuracy,lr\n",
            "8/8 [==============================] - 28s 3s/step - loss: 0.2969 - accuracy: 0.7711 - lr: 0.0010\n",
            "Epoch 84/100\n",
            "8/8 [==============================] - ETA: 0s - loss: 0.2634 - accuracy: 0.8233WARNING:tensorflow:Can save best model only with val_accuracy available, skipping.\n",
            "WARNING:tensorflow:Learning rate reduction is conditioned on metric `val_accuracy` which is not available. Available metrics are: loss,accuracy,lr\n",
            "8/8 [==============================] - 28s 3s/step - loss: 0.2634 - accuracy: 0.8233 - lr: 0.0010\n",
            "Epoch 85/100\n",
            "8/8 [==============================] - ETA: 0s - loss: 0.2419 - accuracy: 0.8273WARNING:tensorflow:Can save best model only with val_accuracy available, skipping.\n",
            "WARNING:tensorflow:Learning rate reduction is conditioned on metric `val_accuracy` which is not available. Available metrics are: loss,accuracy,lr\n",
            "8/8 [==============================] - 28s 3s/step - loss: 0.2419 - accuracy: 0.8273 - lr: 0.0010\n",
            "Epoch 86/100\n",
            "8/8 [==============================] - ETA: 0s - loss: 0.3095 - accuracy: 0.8273WARNING:tensorflow:Can save best model only with val_accuracy available, skipping.\n",
            "WARNING:tensorflow:Learning rate reduction is conditioned on metric `val_accuracy` which is not available. Available metrics are: loss,accuracy,lr\n",
            "8/8 [==============================] - 28s 3s/step - loss: 0.3095 - accuracy: 0.8273 - lr: 0.0010\n",
            "Epoch 87/100\n",
            "8/8 [==============================] - ETA: 0s - loss: 0.2317 - accuracy: 0.8233WARNING:tensorflow:Can save best model only with val_accuracy available, skipping.\n",
            "WARNING:tensorflow:Learning rate reduction is conditioned on metric `val_accuracy` which is not available. Available metrics are: loss,accuracy,lr\n",
            "8/8 [==============================] - 28s 3s/step - loss: 0.2317 - accuracy: 0.8233 - lr: 0.0010\n",
            "Epoch 88/100\n",
            "8/8 [==============================] - ETA: 0s - loss: 0.2374 - accuracy: 0.8594WARNING:tensorflow:Can save best model only with val_accuracy available, skipping.\n",
            "WARNING:tensorflow:Learning rate reduction is conditioned on metric `val_accuracy` which is not available. Available metrics are: loss,accuracy,lr\n",
            "8/8 [==============================] - 28s 3s/step - loss: 0.2374 - accuracy: 0.8594 - lr: 0.0010\n",
            "Epoch 89/100\n",
            "8/8 [==============================] - ETA: 0s - loss: 0.2586 - accuracy: 0.8554WARNING:tensorflow:Can save best model only with val_accuracy available, skipping.\n",
            "WARNING:tensorflow:Learning rate reduction is conditioned on metric `val_accuracy` which is not available. Available metrics are: loss,accuracy,lr\n",
            "8/8 [==============================] - 28s 3s/step - loss: 0.2586 - accuracy: 0.8554 - lr: 0.0010\n",
            "Epoch 90/100\n",
            "8/8 [==============================] - ETA: 0s - loss: 0.3717 - accuracy: 0.7751WARNING:tensorflow:Can save best model only with val_accuracy available, skipping.\n",
            "WARNING:tensorflow:Learning rate reduction is conditioned on metric `val_accuracy` which is not available. Available metrics are: loss,accuracy,lr\n",
            "8/8 [==============================] - 28s 3s/step - loss: 0.3717 - accuracy: 0.7751 - lr: 0.0010\n",
            "Epoch 91/100\n",
            "8/8 [==============================] - ETA: 0s - loss: 0.2601 - accuracy: 0.8233WARNING:tensorflow:Can save best model only with val_accuracy available, skipping.\n",
            "WARNING:tensorflow:Learning rate reduction is conditioned on metric `val_accuracy` which is not available. Available metrics are: loss,accuracy,lr\n",
            "8/8 [==============================] - 28s 3s/step - loss: 0.2601 - accuracy: 0.8233 - lr: 0.0010\n",
            "Epoch 92/100\n",
            "8/8 [==============================] - ETA: 0s - loss: 0.2687 - accuracy: 0.8233WARNING:tensorflow:Can save best model only with val_accuracy available, skipping.\n",
            "WARNING:tensorflow:Learning rate reduction is conditioned on metric `val_accuracy` which is not available. Available metrics are: loss,accuracy,lr\n",
            "8/8 [==============================] - 28s 4s/step - loss: 0.2687 - accuracy: 0.8233 - lr: 0.0010\n",
            "Epoch 93/100\n",
            "8/8 [==============================] - ETA: 0s - loss: 0.2932 - accuracy: 0.8072WARNING:tensorflow:Can save best model only with val_accuracy available, skipping.\n",
            "WARNING:tensorflow:Learning rate reduction is conditioned on metric `val_accuracy` which is not available. Available metrics are: loss,accuracy,lr\n",
            "8/8 [==============================] - 28s 3s/step - loss: 0.2932 - accuracy: 0.8072 - lr: 0.0010\n",
            "Epoch 94/100\n",
            "8/8 [==============================] - ETA: 0s - loss: 0.2660 - accuracy: 0.8153WARNING:tensorflow:Can save best model only with val_accuracy available, skipping.\n",
            "WARNING:tensorflow:Learning rate reduction is conditioned on metric `val_accuracy` which is not available. Available metrics are: loss,accuracy,lr\n",
            "8/8 [==============================] - 28s 3s/step - loss: 0.2660 - accuracy: 0.8153 - lr: 0.0010\n",
            "Epoch 95/100\n",
            "8/8 [==============================] - ETA: 0s - loss: 0.2695 - accuracy: 0.8072WARNING:tensorflow:Can save best model only with val_accuracy available, skipping.\n",
            "WARNING:tensorflow:Learning rate reduction is conditioned on metric `val_accuracy` which is not available. Available metrics are: loss,accuracy,lr\n",
            "8/8 [==============================] - 28s 3s/step - loss: 0.2695 - accuracy: 0.8072 - lr: 0.0010\n",
            "Epoch 96/100\n",
            "8/8 [==============================] - ETA: 0s - loss: 0.2682 - accuracy: 0.8273WARNING:tensorflow:Can save best model only with val_accuracy available, skipping.\n",
            "WARNING:tensorflow:Learning rate reduction is conditioned on metric `val_accuracy` which is not available. Available metrics are: loss,accuracy,lr\n",
            "8/8 [==============================] - 28s 3s/step - loss: 0.2682 - accuracy: 0.8273 - lr: 0.0010\n",
            "Epoch 97/100\n",
            "8/8 [==============================] - ETA: 0s - loss: 0.2777 - accuracy: 0.8153WARNING:tensorflow:Can save best model only with val_accuracy available, skipping.\n",
            "WARNING:tensorflow:Learning rate reduction is conditioned on metric `val_accuracy` which is not available. Available metrics are: loss,accuracy,lr\n",
            "8/8 [==============================] - 28s 3s/step - loss: 0.2777 - accuracy: 0.8153 - lr: 0.0010\n",
            "Epoch 98/100\n",
            "8/8 [==============================] - ETA: 0s - loss: 0.2034 - accuracy: 0.8715WARNING:tensorflow:Can save best model only with val_accuracy available, skipping.\n",
            "WARNING:tensorflow:Learning rate reduction is conditioned on metric `val_accuracy` which is not available. Available metrics are: loss,accuracy,lr\n",
            "8/8 [==============================] - 28s 3s/step - loss: 0.2034 - accuracy: 0.8715 - lr: 0.0010\n",
            "Epoch 99/100\n",
            "8/8 [==============================] - ETA: 0s - loss: 0.2262 - accuracy: 0.8675WARNING:tensorflow:Can save best model only with val_accuracy available, skipping.\n",
            "WARNING:tensorflow:Learning rate reduction is conditioned on metric `val_accuracy` which is not available. Available metrics are: loss,accuracy,lr\n",
            "8/8 [==============================] - 28s 3s/step - loss: 0.2262 - accuracy: 0.8675 - lr: 0.0010\n",
            "Epoch 100/100\n",
            "8/8 [==============================] - ETA: 0s - loss: 0.2664 - accuracy: 0.8233WARNING:tensorflow:Can save best model only with val_accuracy available, skipping.\n",
            "WARNING:tensorflow:Learning rate reduction is conditioned on metric `val_accuracy` which is not available. Available metrics are: loss,accuracy,lr\n",
            "8/8 [==============================] - 28s 3s/step - loss: 0.2664 - accuracy: 0.8233 - lr: 0.0010\n",
            "training time:  3416.2611317634583 s\n"
          ]
        }
      ]
    },
    {
      "cell_type": "markdown",
      "metadata": {
        "id": "BJrfxZJAxMai"
      },
      "source": [
        "#Evaluasi#"
      ]
    },
    {
      "cell_type": "code",
      "metadata": {
        "id": "7tbWvskDdUbj"
      },
      "source": [
        "# IMPORT SEMUA PAKET YANG ANDA PERLUKAN UNTUK MENGEVALUASI MODEL DISINI\n",
        "\n",
        "%matplotlib inline\n",
        "\n",
        "import matplotlib.pyplot as plt\n",
        "import numpy as np\n",
        "from keras.models import load_model\n",
        "from sklearn.metrics import classification_report, confusion_matrix\n",
        "from google.colab import files"
      ],
      "execution_count": 20,
      "outputs": []
    },
    {
      "cell_type": "code",
      "metadata": {
        "colab": {
          "base_uri": "https://localhost:8080/"
        },
        "id": "kkqMG_rzdaVU",
        "outputId": "e67cade7-89a2-446d-875b-4d265383999d"
      },
      "source": [
        "# TULIS CODE UNTUK EVALUASI MODEL DISINI\n",
        "\n",
        "# model.load_weights(best_model_path)\n",
        "\n",
        "ypred = model.predict(test_gen)\n",
        "prediction = np.argmax(ypred, axis=1)\n",
        "print(classification_report(test_gen.classes, prediction))"
      ],
      "execution_count": 21,
      "outputs": [
        {
          "output_type": "stream",
          "name": "stdout",
          "text": [
            "              precision    recall  f1-score   support\n",
            "\n",
            "           0       1.00      1.00      1.00         2\n",
            "           1       1.00      1.00      1.00         2\n",
            "           2       1.00      1.00      1.00         1\n",
            "\n",
            "    accuracy                           1.00         5\n",
            "   macro avg       1.00      1.00      1.00         5\n",
            "weighted avg       1.00      1.00      1.00         5\n",
            "\n"
          ]
        }
      ]
    },
    {
      "cell_type": "code",
      "metadata": {
        "colab": {
          "base_uri": "https://localhost:8080/",
          "height": 378
        },
        "id": "azUdJDRXdhX5",
        "outputId": "9937d93a-e1c2-4e41-b9ee-fb3c1dda0a10"
      },
      "source": [
        "import itertools\n",
        "def plot_confusion_matrix(cm, classes,\n",
        "                          normalize=False,\n",
        "                          title='Confusion matrix',\n",
        "                          cmap=plt.cm.Blues):\n",
        "    if normalize:\n",
        "        cm = cm.astype('float') / cm.sum(axis=1)[:, np.newaxis]\n",
        "        print(\"Normalized confusion matrix\")\n",
        "    else:\n",
        "        print('Confusion matrix, without normalization')\n",
        "\n",
        "    print(cm)\n",
        "\n",
        "    plt.imshow(cm, interpolation='nearest', cmap=cmap)\n",
        "    plt.title(title)\n",
        "    plt.colorbar()\n",
        "    tick_marks = np.arange(len(classes))\n",
        "    plt.xticks(tick_marks, classes, rotation=45)\n",
        "    plt.yticks(tick_marks, classes)\n",
        "\n",
        "    fmt = '.2f' if normalize else 'd'\n",
        "    thresh = cm.max() / 2.\n",
        "    for i, j in itertools.product(range(cm.shape[0]), range(cm.shape[1])):\n",
        "        plt.text(j, i, format(cm[i, j], fmt),\n",
        "                 horizontalalignment=\"center\",\n",
        "                 color=\"white\" if cm[i, j] > thresh else \"black\")\n",
        "\n",
        "    plt.tight_layout()\n",
        "    plt.ylabel('Actual')\n",
        "    plt.xlabel('Predicted')\n",
        "\n",
        "cnf_matrix=confusion_matrix(test_gen.classes,prediction)\n",
        "plot_confusion_matrix(cnf_matrix, classes=test_gen.class_indices)"
      ],
      "execution_count": 22,
      "outputs": [
        {
          "output_type": "stream",
          "name": "stdout",
          "text": [
            "Confusion matrix, without normalization\n",
            "[[2 0 0]\n",
            " [0 2 0]\n",
            " [0 0 1]]\n"
          ]
        },
        {
          "output_type": "display_data",
          "data": {
            "image/png": "[encoded data removed]",
            "text/plain": [
              "<Figure size 432x288 with 2 Axes>"
            ]
          },
          "metadata": {
            "needs_background": "light"
          }
        }
      ]
    },
    {
      "cell_type": "code",
      "metadata": {
        "colab": {
          "base_uri": "https://localhost:8080/",
          "height": 581
        },
        "id": "JW8Za0EPdiZn",
        "outputId": "3c356d76-34be-4f1e-b40a-fe322c69c557"
      },
      "source": [
        "plt.style.use(\"ggplot\")\n",
        "\n",
        "plt.plot(H.history[\"loss\"], label=\"train_loss\")\n",
        "plt.plot(H.history[\"val_loss\"], label=\"val_loss\")\n",
        "plt.title(\"Loss Plot\")\n",
        "plt.xlabel(\"Epoch #\")\n",
        "plt.ylabel(\"Loss\")\n",
        "plt.show()\n",
        "\n",
        "plt.plot(H.history[\"accuracy\"], label=\"train_acc\")\n",
        "plt.plot(H.history[\"val_accuracy\"], label=\"val_acc\")\n",
        "plt.title(\"Accuracy Plot\")\n",
        "plt.xlabel(\"Epoch #\")\n",
        "plt.ylabel(\"Accuracy\")\n",
        "plt.legend()\n",
        "plt.show()"
      ],
      "execution_count": 24,
      "outputs": [
        {
          "output_type": "display_data",
          "data": {
            "image/png": "[encoded data removed]",
            "text/plain": [
              "<Figure size 432x288 with 1 Axes>"
            ]
          },
          "metadata": {}
        },
        {
          "output_type": "display_data",
          "data": {
            "image/png": "[encoded data removed]",
            "text/plain": [
              "<Figure size 432x288 with 1 Axes>"
            ]
          },
          "metadata": {}
        }
      ]
    },
    {
      "cell_type": "code",
      "metadata": {
        "id": "wlzP0D1XdlKh"
      },
      "source": [
        ""
      ],
      "execution_count": null,
      "outputs": []
    }
  ]
}