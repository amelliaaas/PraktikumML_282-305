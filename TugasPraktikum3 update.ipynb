{
  "nbformat": 4,
  "nbformat_minor": 0,
  "metadata": {
    "colab": {
      "name": "TugasPraktikum3.ipynb",
      "provenance": [],
      "authorship_tag": "ABX9TyO05zg8YtKAenkmKQ8/eCm2",
      "include_colab_link": true
    },
    "kernelspec": {
      "name": "python3",
      "display_name": "Python 3"
    },
    "language_info": {
      "name": "python"
    }
  },
  "cells": [
    {
      "cell_type": "markdown",
      "metadata": {
        "id": "view-in-github",
        "colab_type": "text"
      },
      "source": [
        "<a href=\"https://colab.research.google.com/github/amelliaaas/PraktikumML_282-305/blob/main/TugasPraktikum3%20update.ipynb\" target=\"_parent\"><img src=\"https://colab.research.google.com/assets/colab-badge.svg\" alt=\"Open In Colab\"/></a>"
      ]
    },
    {
      "cell_type": "markdown",
      "metadata": {
        "id": "JxHX4WpqiKDq"
      },
      "source": [
        " **1. Load Dataset**"
      ]
    },
    {
      "cell_type": "code",
      "metadata": {
        "colab": {
          "base_uri": "https://localhost:8080/"
        },
        "id": "Qu08QE4khu4b",
        "outputId": "804b7e37-53f3-44d9-ae5e-74f783e5f646"
      },
      "source": [
        "from google.colab import drive\n",
        "drive.mount('/content/drive')"
      ],
      "execution_count": 1,
      "outputs": [
        {
          "output_type": "stream",
          "name": "stdout",
          "text": [
            "Mounted at /content/drive\n"
          ]
        }
      ]
    },
    {
      "cell_type": "code",
      "metadata": {
        "colab": {
          "base_uri": "https://localhost:8080/"
        },
        "id": "pgj6g-0Kh2o7",
        "outputId": "cf2b880f-db7c-4607-99c8-650b4aa510b7"
      },
      "source": [
        "%cd /content/drive/MyDrive/Covid_data"
      ],
      "execution_count": 1,
      "outputs": [
        {
          "output_type": "stream",
          "name": "stdout",
          "text": [
            "/content/drive/MyDrive/Covid_data\n"
          ]
        }
      ]
    },
    {
      "cell_type": "code",
      "metadata": {
        "id": "uEea9yM15g5D"
      },
      "source": [
        "# Define kaggle json path\n",
        "# Sesuaikan dengan path anda\n",
        "import os\n",
        "os.environ['KAGGLE_CONFIG_DIR'] = \"/content/drive/My Drive/Covid_data\""
      ],
      "execution_count": 2,
      "outputs": []
    },
    {
      "cell_type": "code",
      "metadata": {
        "colab": {
          "base_uri": "https://localhost:8080/"
        },
        "id": "FtTz5pmairEC",
        "outputId": "b5549100-62ad-4a84-fec7-2673334e023b"
      },
      "source": [
        "!ls"
      ],
      "execution_count": 4,
      "outputs": [
        {
          "output_type": "stream",
          "name": "stdout",
          "text": [
            "best_model.h5  Covid19-dataset\tdataset  kaggle.json\n"
          ]
        }
      ]
    },
    {
      "cell_type": "code",
      "metadata": {
        "colab": {
          "base_uri": "https://localhost:8080/"
        },
        "id": "Wo0g7poMzgEX",
        "outputId": "4a393869-b100-46da-db87-71bf46a79d21"
      },
      "source": [
        "!kaggle datasets download -d pranavraikokte/covid19-image-dataset"
      ],
      "execution_count": 5,
      "outputs": [
        {
          "output_type": "stream",
          "name": "stdout",
          "text": [
            "Downloading covid19-image-dataset.zip to /content/drive/My Drive/Covid_data\n",
            " 99% 156M/158M [00:01<00:00, 104MB/s] \n",
            "100% 158M/158M [00:01<00:00, 106MB/s]\n"
          ]
        }
      ]
    },
    {
      "cell_type": "code",
      "metadata": {
        "colab": {
          "base_uri": "https://localhost:8080/"
        },
        "id": "p_dA981HznDo",
        "outputId": "403f8066-65df-4783-9f11-ebf3fbae5b6b"
      },
      "source": [
        "!ls"
      ],
      "execution_count": 6,
      "outputs": [
        {
          "output_type": "stream",
          "name": "stdout",
          "text": [
            "covid19-image-dataset.zip  kaggle.json\n"
          ]
        }
      ]
    },
    {
      "cell_type": "code",
      "metadata": {
        "id": "M1bggH6-53tm"
      },
      "source": [
        "!unzip \\*.zip &> /dev/null && rm *.zip"
      ],
      "execution_count": 7,
      "outputs": []
    },
    {
      "cell_type": "code",
      "metadata": {
        "colab": {
          "base_uri": "https://localhost:8080/"
        },
        "id": "xosZWsoZ6TvM",
        "outputId": "c7daf1fb-d359-4e7a-ef9c-f678ee641064"
      },
      "source": [
        "!ls"
      ],
      "execution_count": 8,
      "outputs": [
        {
          "output_type": "stream",
          "name": "stdout",
          "text": [
            "Covid19-dataset  kaggle.json\n"
          ]
        }
      ]
    },
    {
      "cell_type": "code",
      "metadata": {
        "id": "gwBnev066WN2"
      },
      "source": [
        "!mkdir dataset"
      ],
      "execution_count": 9,
      "outputs": []
    },
    {
      "cell_type": "code",
      "metadata": {
        "id": "9D--XHl37HCS"
      },
      "source": [
        "import os\n",
        "base_dir = 'Covid19-dataset'\n",
        "\n",
        "train_dir = os.path.join(base_dir, 'test')\n",
        "test_dir = os.path.join(base_dir, 'train')\n",
        "\n",
        "train_covid_dir = os.path.join(train_dir, 'Covid')\n",
        "train_normal_dir = os.path.join(train_dir, 'Normal')\n",
        "train_pneumonia_dir = os.path.join(train_dir, 'Viral Pneumonia')\n",
        "\n",
        "test_covid_dir = os.path.join(test_dir, 'Covid')\n",
        "test_normal_dir = os.path.join(test_dir, 'Normal')\n",
        "test_pneumonia_dir = os.path.join(test_dir, 'Viral Pneumonia')\n"
      ],
      "execution_count": 3,
      "outputs": []
    },
    {
      "cell_type": "code",
      "metadata": {
        "colab": {
          "base_uri": "https://localhost:8080/"
        },
        "id": "uktpPTa3CI5h",
        "outputId": "16ec7b2f-b230-43aa-e51f-4b5ebbc1863e"
      },
      "source": [
        "ls"
      ],
      "execution_count": 11,
      "outputs": [
        {
          "output_type": "stream",
          "name": "stdout",
          "text": [
            "\u001b[0m\u001b[01;34mCovid19-dataset\u001b[0m/  \u001b[01;34mdataset\u001b[0m/  kaggle.json\n"
          ]
        }
      ]
    },
    {
      "cell_type": "code",
      "metadata": {
        "colab": {
          "base_uri": "https://localhost:8080/",
          "height": 35
        },
        "id": "h-XysiRVCL2B",
        "outputId": "9c4af99c-ee7f-4bc3-8ef8-108cfb2385af"
      },
      "source": [
        "test_covid_dir"
      ],
      "execution_count": 12,
      "outputs": [
        {
          "output_type": "execute_result",
          "data": {
            "application/vnd.google.colaboratory.intrinsic+json": {
              "type": "string"
            },
            "text/plain": [
              "'Covid19-dataset/train/Covid'"
            ]
          },
          "metadata": {},
          "execution_count": 12
        }
      ]
    },
    {
      "cell_type": "code",
      "metadata": {
        "colab": {
          "base_uri": "https://localhost:8080/"
        },
        "id": "8UX2YLDICa7T",
        "outputId": "31024504-b194-400a-a585-e5b3b794ab79"
      },
      "source": [
        "!cd -"
      ],
      "execution_count": 13,
      "outputs": [
        {
          "output_type": "stream",
          "name": "stdout",
          "text": [
            "/\n"
          ]
        }
      ]
    },
    {
      "cell_type": "code",
      "metadata": {
        "colab": {
          "base_uri": "https://localhost:8080/"
        },
        "id": "pRI5ZLzBCebh",
        "outputId": "03dcbe62-bdd8-443b-efdd-de991e07a108"
      },
      "source": [
        "ls"
      ],
      "execution_count": 14,
      "outputs": [
        {
          "output_type": "stream",
          "name": "stdout",
          "text": [
            "\u001b[0m\u001b[01;34mCovid19-dataset\u001b[0m/  \u001b[01;34mdataset\u001b[0m/  kaggle.json\n"
          ]
        }
      ]
    },
    {
      "cell_type": "code",
      "metadata": {
        "id": "KGj0fD1ICXl3"
      },
      "source": [
        "#moving all dataset to training\n",
        "import shutil\n",
        "\n",
        "dataset1= os.listdir(test_covid_dir)\n",
        "for file in dataset1:\n",
        "  new_path = shutil.move(f\"{test_covid_dir}/{file}\",train_covid_dir)\n",
        "\n",
        "dataset2= os.listdir(test_normal_dir)\n",
        "for file in dataset2:\n",
        "  new_path = shutil.move(f\"{test_normal_dir}/{file}\",train_normal_dir)\n",
        "\n",
        "dataset3= os.listdir(test_pneumonia_dir)\n",
        "for file in dataset3:\n",
        "  new_path = shutil.move(f\"{test_pneumonia_dir}/{file}\",train_pneumonia_dir)\n",
        "\n"
      ],
      "execution_count": 4,
      "outputs": []
    },
    {
      "cell_type": "code",
      "metadata": {
        "id": "U2ox_Yk3pbor"
      },
      "source": [
        "!ls dataset"
      ],
      "execution_count": 27,
      "outputs": []
    },
    {
      "cell_type": "markdown",
      "metadata": {
        "id": "Zdl1uSB_M7DE"
      },
      "source": [
        "**2. Spliting Data**"
      ]
    },
    {
      "cell_type": "code",
      "metadata": {
        "colab": {
          "base_uri": "https://localhost:8080/"
        },
        "id": "wcmV2ReU_3hI",
        "outputId": "e13ba13b-cbd6-49eb-f4cf-6502152a2e9a"
      },
      "source": [
        "pip install split-folders"
      ],
      "execution_count": 5,
      "outputs": [
        {
          "output_type": "stream",
          "name": "stdout",
          "text": [
            "Requirement already satisfied: split-folders in /usr/local/lib/python3.7/dist-packages (0.4.3)\n"
          ]
        }
      ]
    },
    {
      "cell_type": "code",
      "metadata": {
        "colab": {
          "base_uri": "https://localhost:8080/"
        },
        "id": "7iYA4FBDMQeL",
        "outputId": "53785235-7782-407c-d362-a6818da1b908"
      },
      "source": [
        "import splitfolders\n",
        "splitfolders.ratio(train_dir, output=\"Covid19-dataset/datasets\", seed=1337, ratio=(.7, .15, .15))"
      ],
      "execution_count": 6,
      "outputs": [
        {
          "output_type": "stream",
          "name": "stderr",
          "text": [
            "Copying files: 311 files [00:07, 41.98 files/s]\n"
          ]
        }
      ]
    },
    {
      "cell_type": "markdown",
      "metadata": {
        "id": "_R-_yr1TNsVH"
      },
      "source": [
        "**3. Prerocessing**"
      ]
    },
    {
      "cell_type": "code",
      "metadata": {
        "id": "zBOcLmiaMXuR"
      },
      "source": [
        "# Definisikan path untuk data train test dan validation\n",
        "# sesuaikan dengan path anda\n",
        "import os\n",
        "base_dir = 'Covid19-dataset/datasets'\n",
        "train_path = os.path.join(base_dir, 'train')\n",
        "test_path  = os.path.join(base_dir, 'test')\n",
        "val_path   = os.path.join(base_dir, 'val')"
      ],
      "execution_count": 7,
      "outputs": []
    },
    {
      "cell_type": "code",
      "metadata": {
        "colab": {
          "base_uri": "https://localhost:8080/"
        },
        "id": "3usv0sTFM18K",
        "outputId": "2c19916c-94ce-4e19-bb13-139e5b81b14e"
      },
      "source": [
        "# TULIS KODE ANDA DISINI\n",
        "\n",
        "from keras.preprocessing.image import ImageDataGenerator\n",
        "from sklearn.utils import shuffle\n",
        "\n",
        "batch_size = 32\n",
        "augmen_gen = ImageDataGenerator(rescale=1. / 255,\n",
        "                                rotation_range=40,\n",
        "                                width_shift_range=0.2,\n",
        "                                height_shift_range=0.2,\n",
        "                                zoom_range=0.2,\n",
        "                                horizontal_flip=True,\n",
        "                                fill_mode='nearest')\n",
        "\n",
        "train_gen = augmen_gen.flow_from_directory(\n",
        "    train_path,\n",
        "    class_mode = 'categorical',\n",
        "    shuffle=True,\n",
        "    target_size = (224,224),\n",
        "    batch_size=batch_size,\n",
        "    color_mode ='rgb'\n",
        ")\n",
        "\n",
        "val_gen = augmen_gen.flow_from_directory(\n",
        "    val_path,\n",
        "    class_mode = 'categorical',\n",
        "    shuffle=True,\n",
        "    target_size = (224,224),\n",
        "    batch_size= batch_size,\n",
        "    color_mode ='rgb'\n",
        ")\n",
        "\n",
        "test_gen = augmen_gen.flow_from_directory(\n",
        "    test_path,\n",
        "    class_mode = 'categorical',\n",
        "    shuffle=False,\n",
        "    target_size = (224,224),\n",
        "    batch_size=batch_size,\n",
        "    color_mode ='rgb',\n",
        ")"
      ],
      "execution_count": 8,
      "outputs": [
        {
          "output_type": "stream",
          "name": "stdout",
          "text": [
            "Found 215 images belonging to 3 classes.\n",
            "Found 45 images belonging to 3 classes.\n",
            "Found 51 images belonging to 3 classes.\n"
          ]
        }
      ]
    },
    {
      "cell_type": "code",
      "metadata": {
        "id": "rMNNuuEiNFmd"
      },
      "source": [
        "# IMPORT SEMUA PAKET YANG ANDA PERLUKAN UNTUK MENDEFINISIKAN MODEL DISINI\n",
        "\n",
        "from tensorflow.keras.models import Sequential\n",
        "from tensorflow.keras.layers import InputLayer, Dense, Conv2D, MaxPool2D, Flatten, BatchNormalization, Dropout\n",
        "from tensorflow.keras.callbacks import ModelCheckpoint, ReduceLROnPlateau, EarlyStopping\n",
        "from tensorflow.keras.optimizers import Adam\n",
        "import time"
      ],
      "execution_count": 9,
      "outputs": []
    },
    {
      "cell_type": "code",
      "metadata": {
        "id": "VoHbcxleONSs"
      },
      "source": [
        "# DEFINISIKAN MODEL ANDA DISINI\n",
        "\n",
        "#Feature Selection\n",
        "model = Sequential()\n",
        "\n",
        "model.add(InputLayer(input_shape=[224,224,3]))\n",
        "model.add(Conv2D(filters=32, kernel_size=3, strides=1, padding='same', activation='relu'))\n",
        "model.add(MaxPool2D(pool_size=2, padding='same'))\n",
        "model.add(Conv2D(filters=64, kernel_size=3, strides=1, padding='same', activation='relu'))\n",
        "model.add(MaxPool2D(pool_size=2, padding='same'))\n",
        "model.add(Conv2D(filters=128, kernel_size=3, strides=1, padding='same', activation='relu'))\n",
        "model.add(MaxPool2D(pool_size=2, padding='same'))\n",
        "model.add(Conv2D(filters=256, kernel_size=3, strides=1, padding='same', activation='relu'))\n",
        "model.add(MaxPool2D(pool_size=2, padding='same'))\n",
        "model.add(Dropout(0.25))\n",
        "model.add(BatchNormalization())\n",
        "model.add(Flatten())\n",
        "\n",
        "#Fully Connected Layer\n",
        "model.add(Dense(512, activation='relu'))\n",
        "model.add(Dropout(0.3))\n",
        "model.add(Dense(3, activation='softmax'))\n"
      ],
      "execution_count": 10,
      "outputs": []
    },
    {
      "cell_type": "code",
      "metadata": {
        "colab": {
          "base_uri": "https://localhost:8080/"
        },
        "id": "QnDx3tb-ORTU",
        "outputId": "0fc2a329-66cb-4806-c48e-5e758578f9ee"
      },
      "source": [
        "print(model.summary())"
      ],
      "execution_count": 11,
      "outputs": [
        {
          "output_type": "stream",
          "name": "stdout",
          "text": [
            "Model: \"sequential\"\n",
            "_________________________________________________________________\n",
            " Layer (type)                Output Shape              Param #   \n",
            "=================================================================\n",
            " conv2d (Conv2D)             (None, 224, 224, 32)      896       \n",
            "                                                                 \n",
            " max_pooling2d (MaxPooling2D  (None, 112, 112, 32)     0         \n",
            " )                                                               \n",
            "                                                                 \n",
            " conv2d_1 (Conv2D)           (None, 112, 112, 64)      18496     \n",
            "                                                                 \n",
            " max_pooling2d_1 (MaxPooling  (None, 56, 56, 64)       0         \n",
            " 2D)                                                             \n",
            "                                                                 \n",
            " conv2d_2 (Conv2D)           (None, 56, 56, 128)       73856     \n",
            "                                                                 \n",
            " max_pooling2d_2 (MaxPooling  (None, 28, 28, 128)      0         \n",
            " 2D)                                                             \n",
            "                                                                 \n",
            " conv2d_3 (Conv2D)           (None, 28, 28, 256)       295168    \n",
            "                                                                 \n",
            " max_pooling2d_3 (MaxPooling  (None, 14, 14, 256)      0         \n",
            " 2D)                                                             \n",
            "                                                                 \n",
            " dropout (Dropout)           (None, 14, 14, 256)       0         \n",
            "                                                                 \n",
            " batch_normalization (BatchN  (None, 14, 14, 256)      1024      \n",
            " ormalization)                                                   \n",
            "                                                                 \n",
            " flatten (Flatten)           (None, 50176)             0         \n",
            "                                                                 \n",
            " dense (Dense)               (None, 512)               25690624  \n",
            "                                                                 \n",
            " dropout_1 (Dropout)         (None, 512)               0         \n",
            "                                                                 \n",
            " dense_1 (Dense)             (None, 3)                 1539      \n",
            "                                                                 \n",
            "=================================================================\n",
            "Total params: 26,081,603\n",
            "Trainable params: 26,081,091\n",
            "Non-trainable params: 512\n",
            "_________________________________________________________________\n",
            "None\n"
          ]
        }
      ]
    },
    {
      "cell_type": "code",
      "metadata": {
        "id": "GJYTlumnOTZ9"
      },
      "source": [
        "# TULIS CODE CALLBACKS ANDA DISINI\n",
        "\n",
        "best_model_path = 'best_model.h5'\n",
        "checkpoint_callback = ModelCheckpoint(best_model_path,\n",
        "                                      monitor='val_accuracy',\n",
        "                                      save_best_only=True,\n",
        "                                      verbose=1)\n",
        "reduce_callback = ReduceLROnPlateau(monitor='val_accuracy', patience=3, factor=0.5, min_lr=0.0003, verbose=1)\n",
        "callbacks_list = [checkpoint_callback, reduce_callback]"
      ],
      "execution_count": 12,
      "outputs": []
    },
    {
      "cell_type": "code",
      "metadata": {
        "id": "QBPhEykdOWWA"
      },
      "source": [
        "# TULIS CODE UNTUK DEFINISI LEARNING RATE DISINI \n",
        "\n",
        "learning_rate = 0.001"
      ],
      "execution_count": 16,
      "outputs": []
    },
    {
      "cell_type": "code",
      "metadata": {
        "colab": {
          "base_uri": "https://localhost:8080/"
        },
        "id": "ER9j4WOfOYkk",
        "outputId": "c9794c7f-03a1-4540-e07d-dddee23ff2fb"
      },
      "source": [
        "# TULIS CODE UNTUK TRAINING DISINI\n",
        "\n",
        "model.compile(loss='categorical_crossentropy',\n",
        "              optimizer=Adam(lr=learning_rate),\n",
        "              metrics='accuracy')"
      ],
      "execution_count": 17,
      "outputs": [
        {
          "output_type": "stream",
          "name": "stderr",
          "text": [
            "/usr/local/lib/python3.7/dist-packages/keras/optimizer_v2/adam.py:105: UserWarning: The `lr` argument is deprecated, use `learning_rate` instead.\n",
            "  super(Adam, self).__init__(name, **kwargs)\n"
          ]
        }
      ]
    },
    {
      "cell_type": "code",
      "metadata": {
        "colab": {
          "base_uri": "https://localhost:8080/"
        },
        "id": "OY_btf5tOaWB",
        "outputId": "72c678f6-fabc-4b56-b630-543865ce9512"
      },
      "source": [
        "# TULIS CODE UNTUK MENCETAK LAMA TRAINING TIME DISINI\n",
        "\n",
        "start = time.time()\n",
        "H = model.fit_generator(train_gen, epochs=100,validation_data=val_gen, verbose=1, callbacks=[callbacks_list])\n",
        "\n",
        "End = time.time()\n",
        "print (\"training time: \", End-start,\"s\")  # the time would be round to 3 decimal in seconds"
      ],
      "execution_count": 18,
      "outputs": [
        {
          "output_type": "stream",
          "name": "stderr",
          "text": [
            "/usr/local/lib/python3.7/dist-packages/ipykernel_launcher.py:4: UserWarning: `Model.fit_generator` is deprecated and will be removed in a future version. Please use `Model.fit`, which supports generators.\n",
            "  after removing the cwd from sys.path.\n"
          ]
        },
        {
          "output_type": "stream",
          "name": "stdout",
          "text": [
            "Epoch 1/100\n",
            "7/7 [==============================] - ETA: 0s - loss: 2.9076 - accuracy: 0.5860\n",
            "Epoch 00001: val_accuracy did not improve from 0.31111\n",
            "7/7 [==============================] - 42s 6s/step - loss: 2.9076 - accuracy: 0.5860 - val_loss: 1.1593 - val_accuracy: 0.2889 - lr: 0.0010\n",
            "Epoch 2/100\n",
            "7/7 [==============================] - ETA: 0s - loss: 0.8959 - accuracy: 0.6930\n",
            "Epoch 00002: val_accuracy improved from 0.31111 to 0.55556, saving model to best_model.h5\n",
            "7/7 [==============================] - 44s 6s/step - loss: 0.8959 - accuracy: 0.6930 - val_loss: 0.9509 - val_accuracy: 0.5556 - lr: 0.0010\n",
            "Epoch 3/100\n",
            "7/7 [==============================] - ETA: 0s - loss: 0.8467 - accuracy: 0.6977\n",
            "Epoch 00003: val_accuracy improved from 0.55556 to 0.57778, saving model to best_model.h5\n",
            "7/7 [==============================] - 45s 6s/step - loss: 0.8467 - accuracy: 0.6977 - val_loss: 0.9228 - val_accuracy: 0.5778 - lr: 0.0010\n",
            "Epoch 4/100\n",
            "7/7 [==============================] - ETA: 0s - loss: 0.7111 - accuracy: 0.7302\n",
            "Epoch 00004: val_accuracy did not improve from 0.57778\n",
            "7/7 [==============================] - 42s 6s/step - loss: 0.7111 - accuracy: 0.7302 - val_loss: 1.1665 - val_accuracy: 0.3333 - lr: 0.0010\n",
            "Epoch 5/100\n",
            "7/7 [==============================] - ETA: 0s - loss: 0.6495 - accuracy: 0.7442\n",
            "Epoch 00005: val_accuracy did not improve from 0.57778\n",
            "7/7 [==============================] - 41s 6s/step - loss: 0.6495 - accuracy: 0.7442 - val_loss: 2.2198 - val_accuracy: 0.2889 - lr: 0.0010\n",
            "Epoch 6/100\n",
            "7/7 [==============================] - ETA: 0s - loss: 0.6269 - accuracy: 0.7674\n",
            "Epoch 00006: val_accuracy did not improve from 0.57778\n",
            "\n",
            "Epoch 00006: ReduceLROnPlateau reducing learning rate to 0.0005000000237487257.\n",
            "7/7 [==============================] - 41s 6s/step - loss: 0.6269 - accuracy: 0.7674 - val_loss: 1.1750 - val_accuracy: 0.3556 - lr: 0.0010\n",
            "Epoch 7/100\n",
            "7/7 [==============================] - ETA: 0s - loss: 0.5289 - accuracy: 0.7814\n",
            "Epoch 00007: val_accuracy did not improve from 0.57778\n",
            "7/7 [==============================] - 41s 6s/step - loss: 0.5289 - accuracy: 0.7814 - val_loss: 1.0386 - val_accuracy: 0.3111 - lr: 5.0000e-04\n",
            "Epoch 8/100\n",
            "7/7 [==============================] - ETA: 0s - loss: 0.5488 - accuracy: 0.8140\n",
            "Epoch 00008: val_accuracy did not improve from 0.57778\n",
            "7/7 [==============================] - 41s 6s/step - loss: 0.5488 - accuracy: 0.8140 - val_loss: 1.0533 - val_accuracy: 0.3111 - lr: 5.0000e-04\n",
            "Epoch 9/100\n",
            "7/7 [==============================] - ETA: 0s - loss: 0.4384 - accuracy: 0.8233\n",
            "Epoch 00009: val_accuracy did not improve from 0.57778\n",
            "\n",
            "Epoch 00009: ReduceLROnPlateau reducing learning rate to 0.0003.\n",
            "7/7 [==============================] - 44s 6s/step - loss: 0.4384 - accuracy: 0.8233 - val_loss: 0.9450 - val_accuracy: 0.4000 - lr: 5.0000e-04\n",
            "Epoch 10/100\n",
            "7/7 [==============================] - ETA: 0s - loss: 0.3952 - accuracy: 0.8279\n",
            "Epoch 00010: val_accuracy did not improve from 0.57778\n",
            "7/7 [==============================] - 41s 6s/step - loss: 0.3952 - accuracy: 0.8279 - val_loss: 1.0501 - val_accuracy: 0.4222 - lr: 3.0000e-04\n",
            "Epoch 11/100\n",
            "7/7 [==============================] - ETA: 0s - loss: 0.3661 - accuracy: 0.8512\n",
            "Epoch 00011: val_accuracy did not improve from 0.57778\n",
            "7/7 [==============================] - 41s 6s/step - loss: 0.3661 - accuracy: 0.8512 - val_loss: 1.0512 - val_accuracy: 0.4222 - lr: 3.0000e-04\n",
            "Epoch 12/100\n",
            "7/7 [==============================] - ETA: 0s - loss: 0.3912 - accuracy: 0.8419\n",
            "Epoch 00012: val_accuracy did not improve from 0.57778\n",
            "7/7 [==============================] - 41s 6s/step - loss: 0.3912 - accuracy: 0.8419 - val_loss: 1.0405 - val_accuracy: 0.4000 - lr: 3.0000e-04\n",
            "Epoch 13/100\n",
            "7/7 [==============================] - ETA: 0s - loss: 0.4699 - accuracy: 0.8279\n",
            "Epoch 00013: val_accuracy did not improve from 0.57778\n",
            "7/7 [==============================] - 41s 6s/step - loss: 0.4699 - accuracy: 0.8279 - val_loss: 0.9680 - val_accuracy: 0.4222 - lr: 3.0000e-04\n",
            "Epoch 14/100\n",
            "7/7 [==============================] - ETA: 0s - loss: 0.3852 - accuracy: 0.8233\n",
            "Epoch 00014: val_accuracy did not improve from 0.57778\n",
            "7/7 [==============================] - 42s 6s/step - loss: 0.3852 - accuracy: 0.8233 - val_loss: 0.9393 - val_accuracy: 0.4667 - lr: 3.0000e-04\n",
            "Epoch 15/100\n",
            "7/7 [==============================] - ETA: 0s - loss: 0.3547 - accuracy: 0.8558\n",
            "Epoch 00015: val_accuracy did not improve from 0.57778\n",
            "7/7 [==============================] - 41s 6s/step - loss: 0.3547 - accuracy: 0.8558 - val_loss: 0.9488 - val_accuracy: 0.4667 - lr: 3.0000e-04\n",
            "Epoch 16/100\n",
            "7/7 [==============================] - ETA: 0s - loss: 0.3969 - accuracy: 0.8233\n",
            "Epoch 00016: val_accuracy improved from 0.57778 to 0.64444, saving model to best_model.h5\n",
            "7/7 [==============================] - 45s 6s/step - loss: 0.3969 - accuracy: 0.8233 - val_loss: 0.9088 - val_accuracy: 0.6444 - lr: 3.0000e-04\n",
            "Epoch 17/100\n",
            "7/7 [==============================] - ETA: 0s - loss: 0.4345 - accuracy: 0.8326\n",
            "Epoch 00017: val_accuracy improved from 0.64444 to 0.77778, saving model to best_model.h5\n",
            "7/7 [==============================] - 44s 6s/step - loss: 0.4345 - accuracy: 0.8326 - val_loss: 0.8443 - val_accuracy: 0.7778 - lr: 3.0000e-04\n",
            "Epoch 18/100\n",
            "7/7 [==============================] - ETA: 0s - loss: 0.3970 - accuracy: 0.8233\n",
            "Epoch 00018: val_accuracy did not improve from 0.77778\n",
            "7/7 [==============================] - 42s 6s/step - loss: 0.3970 - accuracy: 0.8233 - val_loss: 0.8767 - val_accuracy: 0.6000 - lr: 3.0000e-04\n",
            "Epoch 19/100\n",
            "7/7 [==============================] - ETA: 0s - loss: 0.3638 - accuracy: 0.8512\n",
            "Epoch 00019: val_accuracy did not improve from 0.77778\n",
            "7/7 [==============================] - 41s 6s/step - loss: 0.3638 - accuracy: 0.8512 - val_loss: 0.8504 - val_accuracy: 0.7333 - lr: 3.0000e-04\n",
            "Epoch 20/100\n",
            "7/7 [==============================] - ETA: 0s - loss: 0.4216 - accuracy: 0.8093\n",
            "Epoch 00020: val_accuracy improved from 0.77778 to 0.84444, saving model to best_model.h5\n",
            "7/7 [==============================] - 44s 6s/step - loss: 0.4216 - accuracy: 0.8093 - val_loss: 0.7844 - val_accuracy: 0.8444 - lr: 3.0000e-04\n",
            "Epoch 21/100\n",
            "7/7 [==============================] - ETA: 0s - loss: 0.3940 - accuracy: 0.8744\n",
            "Epoch 00021: val_accuracy improved from 0.84444 to 0.86667, saving model to best_model.h5\n",
            "7/7 [==============================] - 45s 6s/step - loss: 0.3940 - accuracy: 0.8744 - val_loss: 0.7958 - val_accuracy: 0.8667 - lr: 3.0000e-04\n",
            "Epoch 22/100\n",
            "7/7 [==============================] - ETA: 0s - loss: 0.3295 - accuracy: 0.8512\n",
            "Epoch 00022: val_accuracy improved from 0.86667 to 0.88889, saving model to best_model.h5\n",
            "7/7 [==============================] - 45s 6s/step - loss: 0.3295 - accuracy: 0.8512 - val_loss: 0.7606 - val_accuracy: 0.8889 - lr: 3.0000e-04\n",
            "Epoch 23/100\n",
            "7/7 [==============================] - ETA: 0s - loss: 0.3707 - accuracy: 0.8465\n",
            "Epoch 00023: val_accuracy did not improve from 0.88889\n",
            "7/7 [==============================] - 42s 6s/step - loss: 0.3707 - accuracy: 0.8465 - val_loss: 0.7168 - val_accuracy: 0.8444 - lr: 3.0000e-04\n",
            "Epoch 24/100\n",
            "7/7 [==============================] - ETA: 0s - loss: 0.4275 - accuracy: 0.8372\n",
            "Epoch 00024: val_accuracy did not improve from 0.88889\n",
            "7/7 [==============================] - 41s 6s/step - loss: 0.4275 - accuracy: 0.8372 - val_loss: 0.7543 - val_accuracy: 0.6222 - lr: 3.0000e-04\n",
            "Epoch 25/100\n",
            "7/7 [==============================] - ETA: 0s - loss: 0.4054 - accuracy: 0.8326\n",
            "Epoch 00025: val_accuracy did not improve from 0.88889\n",
            "7/7 [==============================] - 41s 6s/step - loss: 0.4054 - accuracy: 0.8326 - val_loss: 0.7952 - val_accuracy: 0.8222 - lr: 3.0000e-04\n",
            "Epoch 26/100\n",
            "7/7 [==============================] - ETA: 0s - loss: 0.3226 - accuracy: 0.8651\n",
            "Epoch 00026: val_accuracy did not improve from 0.88889\n",
            "7/7 [==============================] - 41s 6s/step - loss: 0.3226 - accuracy: 0.8651 - val_loss: 0.7412 - val_accuracy: 0.8222 - lr: 3.0000e-04\n",
            "Epoch 27/100\n",
            "7/7 [==============================] - ETA: 0s - loss: 0.2919 - accuracy: 0.8651\n",
            "Epoch 00027: val_accuracy did not improve from 0.88889\n",
            "7/7 [==============================] - 41s 6s/step - loss: 0.2919 - accuracy: 0.8651 - val_loss: 0.6903 - val_accuracy: 0.7556 - lr: 3.0000e-04\n",
            "Epoch 28/100\n",
            "7/7 [==============================] - ETA: 0s - loss: 0.2895 - accuracy: 0.8651\n",
            "Epoch 00028: val_accuracy did not improve from 0.88889\n",
            "7/7 [==============================] - 41s 6s/step - loss: 0.2895 - accuracy: 0.8651 - val_loss: 0.6918 - val_accuracy: 0.7556 - lr: 3.0000e-04\n",
            "Epoch 29/100\n",
            "7/7 [==============================] - ETA: 0s - loss: 0.3235 - accuracy: 0.8512\n",
            "Epoch 00029: val_accuracy did not improve from 0.88889\n",
            "7/7 [==============================] - 41s 6s/step - loss: 0.3235 - accuracy: 0.8512 - val_loss: 0.6765 - val_accuracy: 0.8667 - lr: 3.0000e-04\n",
            "Epoch 30/100\n",
            "7/7 [==============================] - ETA: 0s - loss: 0.3997 - accuracy: 0.8279\n",
            "Epoch 00030: val_accuracy did not improve from 0.88889\n",
            "7/7 [==============================] - 41s 6s/step - loss: 0.3997 - accuracy: 0.8279 - val_loss: 0.6459 - val_accuracy: 0.8444 - lr: 3.0000e-04\n",
            "Epoch 31/100\n",
            "7/7 [==============================] - ETA: 0s - loss: 0.4132 - accuracy: 0.8512\n",
            "Epoch 00031: val_accuracy did not improve from 0.88889\n",
            "7/7 [==============================] - 41s 6s/step - loss: 0.4132 - accuracy: 0.8512 - val_loss: 0.6592 - val_accuracy: 0.8444 - lr: 3.0000e-04\n",
            "Epoch 32/100\n",
            "7/7 [==============================] - ETA: 0s - loss: 0.3574 - accuracy: 0.8512\n",
            "Epoch 00032: val_accuracy did not improve from 0.88889\n",
            "7/7 [==============================] - 42s 6s/step - loss: 0.3574 - accuracy: 0.8512 - val_loss: 0.6800 - val_accuracy: 0.7111 - lr: 3.0000e-04\n",
            "Epoch 33/100\n",
            "7/7 [==============================] - ETA: 0s - loss: 0.2812 - accuracy: 0.8930\n",
            "Epoch 00033: val_accuracy did not improve from 0.88889\n",
            "7/7 [==============================] - 41s 6s/step - loss: 0.2812 - accuracy: 0.8930 - val_loss: 0.6931 - val_accuracy: 0.6222 - lr: 3.0000e-04\n",
            "Epoch 34/100\n",
            "7/7 [==============================] - ETA: 0s - loss: 0.2838 - accuracy: 0.8884\n",
            "Epoch 00034: val_accuracy did not improve from 0.88889\n",
            "7/7 [==============================] - 41s 6s/step - loss: 0.2838 - accuracy: 0.8884 - val_loss: 0.6900 - val_accuracy: 0.6444 - lr: 3.0000e-04\n",
            "Epoch 35/100\n",
            "7/7 [==============================] - ETA: 0s - loss: 0.3355 - accuracy: 0.8372\n",
            "Epoch 00035: val_accuracy did not improve from 0.88889\n",
            "7/7 [==============================] - 41s 6s/step - loss: 0.3355 - accuracy: 0.8372 - val_loss: 0.6284 - val_accuracy: 0.8889 - lr: 3.0000e-04\n",
            "Epoch 36/100\n",
            "7/7 [==============================] - ETA: 0s - loss: 0.3060 - accuracy: 0.8744\n",
            "Epoch 00036: val_accuracy did not improve from 0.88889\n",
            "7/7 [==============================] - 41s 6s/step - loss: 0.3060 - accuracy: 0.8744 - val_loss: 0.6393 - val_accuracy: 0.7111 - lr: 3.0000e-04\n",
            "Epoch 37/100\n",
            "7/7 [==============================] - ETA: 0s - loss: 0.3416 - accuracy: 0.8512\n",
            "Epoch 00037: val_accuracy did not improve from 0.88889\n",
            "7/7 [==============================] - 41s 6s/step - loss: 0.3416 - accuracy: 0.8512 - val_loss: 0.6024 - val_accuracy: 0.8889 - lr: 3.0000e-04\n",
            "Epoch 38/100\n",
            "7/7 [==============================] - ETA: 0s - loss: 0.2660 - accuracy: 0.8930\n",
            "Epoch 00038: val_accuracy did not improve from 0.88889\n",
            "7/7 [==============================] - 41s 6s/step - loss: 0.2660 - accuracy: 0.8930 - val_loss: 0.6126 - val_accuracy: 0.8222 - lr: 3.0000e-04\n",
            "Epoch 39/100\n",
            "7/7 [==============================] - ETA: 0s - loss: 0.3466 - accuracy: 0.8372\n",
            "Epoch 00039: val_accuracy did not improve from 0.88889\n",
            "7/7 [==============================] - 41s 6s/step - loss: 0.3466 - accuracy: 0.8372 - val_loss: 0.5291 - val_accuracy: 0.8667 - lr: 3.0000e-04\n",
            "Epoch 40/100\n",
            "7/7 [==============================] - ETA: 0s - loss: 0.2867 - accuracy: 0.9070\n",
            "Epoch 00040: val_accuracy did not improve from 0.88889\n",
            "7/7 [==============================] - 41s 6s/step - loss: 0.2867 - accuracy: 0.9070 - val_loss: 0.5821 - val_accuracy: 0.8222 - lr: 3.0000e-04\n",
            "Epoch 41/100\n",
            "7/7 [==============================] - ETA: 0s - loss: 0.3333 - accuracy: 0.8605\n",
            "Epoch 00041: val_accuracy did not improve from 0.88889\n",
            "7/7 [==============================] - 45s 6s/step - loss: 0.3333 - accuracy: 0.8605 - val_loss: 0.6546 - val_accuracy: 0.7111 - lr: 3.0000e-04\n",
            "Epoch 42/100\n",
            "7/7 [==============================] - ETA: 0s - loss: 0.2953 - accuracy: 0.8884\n",
            "Epoch 00042: val_accuracy did not improve from 0.88889\n",
            "7/7 [==============================] - 42s 6s/step - loss: 0.2953 - accuracy: 0.8884 - val_loss: 0.5366 - val_accuracy: 0.7778 - lr: 3.0000e-04\n",
            "Epoch 43/100\n",
            "7/7 [==============================] - ETA: 0s - loss: 0.4349 - accuracy: 0.8233\n",
            "Epoch 00043: val_accuracy did not improve from 0.88889\n",
            "7/7 [==============================] - 41s 6s/step - loss: 0.4349 - accuracy: 0.8233 - val_loss: 0.8606 - val_accuracy: 0.5556 - lr: 3.0000e-04\n",
            "Epoch 44/100\n",
            "7/7 [==============================] - ETA: 0s - loss: 0.3339 - accuracy: 0.8558\n",
            "Epoch 00044: val_accuracy did not improve from 0.88889\n",
            "7/7 [==============================] - 41s 6s/step - loss: 0.3339 - accuracy: 0.8558 - val_loss: 0.9556 - val_accuracy: 0.5556 - lr: 3.0000e-04\n",
            "Epoch 45/100\n",
            "7/7 [==============================] - ETA: 0s - loss: 0.3442 - accuracy: 0.8698\n",
            "Epoch 00045: val_accuracy did not improve from 0.88889\n",
            "7/7 [==============================] - 41s 6s/step - loss: 0.3442 - accuracy: 0.8698 - val_loss: 0.6217 - val_accuracy: 0.7111 - lr: 3.0000e-04\n",
            "Epoch 46/100\n",
            "7/7 [==============================] - ETA: 0s - loss: 0.2713 - accuracy: 0.8837\n",
            "Epoch 00046: val_accuracy did not improve from 0.88889\n",
            "7/7 [==============================] - 42s 6s/step - loss: 0.2713 - accuracy: 0.8837 - val_loss: 0.7607 - val_accuracy: 0.6222 - lr: 3.0000e-04\n",
            "Epoch 47/100\n",
            "7/7 [==============================] - ETA: 0s - loss: 0.2936 - accuracy: 0.8837\n",
            "Epoch 00047: val_accuracy did not improve from 0.88889\n",
            "7/7 [==============================] - 42s 6s/step - loss: 0.2936 - accuracy: 0.8837 - val_loss: 0.6426 - val_accuracy: 0.7333 - lr: 3.0000e-04\n",
            "Epoch 48/100\n",
            "7/7 [==============================] - ETA: 0s - loss: 0.3238 - accuracy: 0.8605\n",
            "Epoch 00048: val_accuracy did not improve from 0.88889\n",
            "7/7 [==============================] - 42s 6s/step - loss: 0.3238 - accuracy: 0.8605 - val_loss: 0.6293 - val_accuracy: 0.6667 - lr: 3.0000e-04\n",
            "Epoch 49/100\n",
            "7/7 [==============================] - ETA: 0s - loss: 0.2833 - accuracy: 0.8651\n",
            "Epoch 00049: val_accuracy did not improve from 0.88889\n",
            "7/7 [==============================] - 42s 6s/step - loss: 0.2833 - accuracy: 0.8651 - val_loss: 0.5736 - val_accuracy: 0.6889 - lr: 3.0000e-04\n",
            "Epoch 50/100\n",
            "7/7 [==============================] - ETA: 0s - loss: 0.2578 - accuracy: 0.9209\n",
            "Epoch 00050: val_accuracy did not improve from 0.88889\n",
            "7/7 [==============================] - 42s 6s/step - loss: 0.2578 - accuracy: 0.9209 - val_loss: 0.9658 - val_accuracy: 0.5556 - lr: 3.0000e-04\n",
            "Epoch 51/100\n",
            "7/7 [==============================] - ETA: 0s - loss: 0.2360 - accuracy: 0.8930\n",
            "Epoch 00051: val_accuracy did not improve from 0.88889\n",
            "7/7 [==============================] - 41s 6s/step - loss: 0.2360 - accuracy: 0.8930 - val_loss: 1.0597 - val_accuracy: 0.6000 - lr: 3.0000e-04\n",
            "Epoch 52/100\n",
            "7/7 [==============================] - ETA: 0s - loss: 0.2523 - accuracy: 0.8930\n",
            "Epoch 00052: val_accuracy did not improve from 0.88889\n",
            "7/7 [==============================] - 41s 6s/step - loss: 0.2523 - accuracy: 0.8930 - val_loss: 0.6350 - val_accuracy: 0.7111 - lr: 3.0000e-04\n",
            "Epoch 53/100\n",
            "7/7 [==============================] - ETA: 0s - loss: 0.2580 - accuracy: 0.9116\n",
            "Epoch 00053: val_accuracy did not improve from 0.88889\n",
            "7/7 [==============================] - 41s 6s/step - loss: 0.2580 - accuracy: 0.9116 - val_loss: 0.5356 - val_accuracy: 0.8444 - lr: 3.0000e-04\n",
            "Epoch 54/100\n",
            "7/7 [==============================] - ETA: 0s - loss: 0.2854 - accuracy: 0.8791\n",
            "Epoch 00054: val_accuracy did not improve from 0.88889\n",
            "7/7 [==============================] - 41s 6s/step - loss: 0.2854 - accuracy: 0.8791 - val_loss: 1.0045 - val_accuracy: 0.6222 - lr: 3.0000e-04\n",
            "Epoch 55/100\n",
            "7/7 [==============================] - ETA: 0s - loss: 0.2791 - accuracy: 0.9163\n",
            "Epoch 00055: val_accuracy did not improve from 0.88889\n",
            "7/7 [==============================] - 41s 6s/step - loss: 0.2791 - accuracy: 0.9163 - val_loss: 0.4160 - val_accuracy: 0.8000 - lr: 3.0000e-04\n",
            "Epoch 56/100\n",
            "7/7 [==============================] - ETA: 0s - loss: 0.3007 - accuracy: 0.8651\n",
            "Epoch 00056: val_accuracy did not improve from 0.88889\n",
            "7/7 [==============================] - 41s 6s/step - loss: 0.3007 - accuracy: 0.8651 - val_loss: 0.6352 - val_accuracy: 0.6444 - lr: 3.0000e-04\n",
            "Epoch 57/100\n",
            "7/7 [==============================] - ETA: 0s - loss: 0.2912 - accuracy: 0.8837\n",
            "Epoch 00057: val_accuracy did not improve from 0.88889\n",
            "7/7 [==============================] - 42s 6s/step - loss: 0.2912 - accuracy: 0.8837 - val_loss: 1.1143 - val_accuracy: 0.5556 - lr: 3.0000e-04\n",
            "Epoch 58/100\n",
            "7/7 [==============================] - ETA: 0s - loss: 0.3055 - accuracy: 0.8837\n",
            "Epoch 00058: val_accuracy did not improve from 0.88889\n",
            "7/7 [==============================] - 41s 6s/step - loss: 0.3055 - accuracy: 0.8837 - val_loss: 1.1688 - val_accuracy: 0.5556 - lr: 3.0000e-04\n",
            "Epoch 59/100\n",
            "7/7 [==============================] - ETA: 0s - loss: 0.2505 - accuracy: 0.9116\n",
            "Epoch 00059: val_accuracy did not improve from 0.88889\n",
            "7/7 [==============================] - 41s 6s/step - loss: 0.2505 - accuracy: 0.9116 - val_loss: 0.6703 - val_accuracy: 0.6889 - lr: 3.0000e-04\n",
            "Epoch 60/100\n",
            "7/7 [==============================] - ETA: 0s - loss: 0.2544 - accuracy: 0.8977\n",
            "Epoch 00060: val_accuracy did not improve from 0.88889\n",
            "7/7 [==============================] - 45s 6s/step - loss: 0.2544 - accuracy: 0.8977 - val_loss: 1.0215 - val_accuracy: 0.5556 - lr: 3.0000e-04\n",
            "Epoch 61/100\n",
            "7/7 [==============================] - ETA: 0s - loss: 0.2168 - accuracy: 0.9163\n",
            "Epoch 00061: val_accuracy did not improve from 0.88889\n",
            "7/7 [==============================] - 41s 6s/step - loss: 0.2168 - accuracy: 0.9163 - val_loss: 0.5652 - val_accuracy: 0.7778 - lr: 3.0000e-04\n",
            "Epoch 62/100\n",
            "7/7 [==============================] - ETA: 0s - loss: 0.2575 - accuracy: 0.8837\n",
            "Epoch 00062: val_accuracy did not improve from 0.88889\n",
            "7/7 [==============================] - 41s 6s/step - loss: 0.2575 - accuracy: 0.8837 - val_loss: 0.3778 - val_accuracy: 0.8444 - lr: 3.0000e-04\n",
            "Epoch 63/100\n",
            "7/7 [==============================] - ETA: 0s - loss: 0.2319 - accuracy: 0.8884\n",
            "Epoch 00063: val_accuracy did not improve from 0.88889\n",
            "7/7 [==============================] - 41s 6s/step - loss: 0.2319 - accuracy: 0.8884 - val_loss: 0.3741 - val_accuracy: 0.8222 - lr: 3.0000e-04\n",
            "Epoch 64/100\n",
            "7/7 [==============================] - ETA: 0s - loss: 0.2337 - accuracy: 0.8977\n",
            "Epoch 00064: val_accuracy improved from 0.88889 to 0.91111, saving model to best_model.h5\n",
            "7/7 [==============================] - 46s 6s/step - loss: 0.2337 - accuracy: 0.8977 - val_loss: 0.2888 - val_accuracy: 0.9111 - lr: 3.0000e-04\n",
            "Epoch 65/100\n",
            "7/7 [==============================] - ETA: 0s - loss: 0.2929 - accuracy: 0.8791\n",
            "Epoch 00065: val_accuracy did not improve from 0.91111\n",
            "7/7 [==============================] - 41s 6s/step - loss: 0.2929 - accuracy: 0.8791 - val_loss: 0.4389 - val_accuracy: 0.8667 - lr: 3.0000e-04\n",
            "Epoch 66/100\n",
            "7/7 [==============================] - ETA: 0s - loss: 0.2542 - accuracy: 0.8977\n",
            "Epoch 00066: val_accuracy did not improve from 0.91111\n",
            "7/7 [==============================] - 41s 6s/step - loss: 0.2542 - accuracy: 0.8977 - val_loss: 0.3253 - val_accuracy: 0.8889 - lr: 3.0000e-04\n",
            "Epoch 67/100\n",
            "7/7 [==============================] - ETA: 0s - loss: 0.2378 - accuracy: 0.8884\n",
            "Epoch 00067: val_accuracy did not improve from 0.91111\n",
            "7/7 [==============================] - 41s 6s/step - loss: 0.2378 - accuracy: 0.8884 - val_loss: 0.3396 - val_accuracy: 0.8889 - lr: 3.0000e-04\n",
            "Epoch 68/100\n",
            "7/7 [==============================] - ETA: 0s - loss: 0.2500 - accuracy: 0.8837\n",
            "Epoch 00068: val_accuracy did not improve from 0.91111\n",
            "7/7 [==============================] - 41s 6s/step - loss: 0.2500 - accuracy: 0.8837 - val_loss: 0.4967 - val_accuracy: 0.7556 - lr: 3.0000e-04\n",
            "Epoch 69/100\n",
            "7/7 [==============================] - ETA: 0s - loss: 0.3214 - accuracy: 0.8884\n",
            "Epoch 00069: val_accuracy did not improve from 0.91111\n",
            "7/7 [==============================] - 41s 6s/step - loss: 0.3214 - accuracy: 0.8884 - val_loss: 0.6318 - val_accuracy: 0.6889 - lr: 3.0000e-04\n",
            "Epoch 70/100\n",
            "7/7 [==============================] - ETA: 0s - loss: 0.2660 - accuracy: 0.9023\n",
            "Epoch 00070: val_accuracy did not improve from 0.91111\n",
            "7/7 [==============================] - 45s 6s/step - loss: 0.2660 - accuracy: 0.9023 - val_loss: 0.3504 - val_accuracy: 0.8222 - lr: 3.0000e-04\n",
            "Epoch 71/100\n",
            "7/7 [==============================] - ETA: 0s - loss: 0.2258 - accuracy: 0.9070\n",
            "Epoch 00071: val_accuracy did not improve from 0.91111\n",
            "7/7 [==============================] - 41s 6s/step - loss: 0.2258 - accuracy: 0.9070 - val_loss: 0.3151 - val_accuracy: 0.8889 - lr: 3.0000e-04\n",
            "Epoch 72/100\n",
            "7/7 [==============================] - ETA: 0s - loss: 0.1635 - accuracy: 0.9349\n",
            "Epoch 00072: val_accuracy did not improve from 0.91111\n",
            "7/7 [==============================] - 41s 6s/step - loss: 0.1635 - accuracy: 0.9349 - val_loss: 0.5127 - val_accuracy: 0.8000 - lr: 3.0000e-04\n",
            "Epoch 73/100\n",
            "7/7 [==============================] - ETA: 0s - loss: 0.1977 - accuracy: 0.9163\n",
            "Epoch 00073: val_accuracy did not improve from 0.91111\n",
            "7/7 [==============================] - 41s 6s/step - loss: 0.1977 - accuracy: 0.9163 - val_loss: 0.7226 - val_accuracy: 0.6889 - lr: 3.0000e-04\n",
            "Epoch 74/100\n",
            "7/7 [==============================] - ETA: 0s - loss: 0.2811 - accuracy: 0.8977\n",
            "Epoch 00074: val_accuracy did not improve from 0.91111\n",
            "7/7 [==============================] - 41s 6s/step - loss: 0.2811 - accuracy: 0.8977 - val_loss: 0.4076 - val_accuracy: 0.8222 - lr: 3.0000e-04\n",
            "Epoch 75/100\n",
            "7/7 [==============================] - ETA: 0s - loss: 0.3140 - accuracy: 0.8884\n",
            "Epoch 00075: val_accuracy did not improve from 0.91111\n",
            "7/7 [==============================] - 41s 6s/step - loss: 0.3140 - accuracy: 0.8884 - val_loss: 0.3315 - val_accuracy: 0.9111 - lr: 3.0000e-04\n",
            "Epoch 76/100\n",
            "7/7 [==============================] - ETA: 0s - loss: 0.2562 - accuracy: 0.8884\n",
            "Epoch 00076: val_accuracy did not improve from 0.91111\n",
            "7/7 [==============================] - 41s 6s/step - loss: 0.2562 - accuracy: 0.8884 - val_loss: 0.6223 - val_accuracy: 0.7778 - lr: 3.0000e-04\n",
            "Epoch 77/100\n",
            "7/7 [==============================] - ETA: 0s - loss: 0.2569 - accuracy: 0.9023\n",
            "Epoch 00077: val_accuracy did not improve from 0.91111\n",
            "7/7 [==============================] - 41s 6s/step - loss: 0.2569 - accuracy: 0.9023 - val_loss: 0.5371 - val_accuracy: 0.8222 - lr: 3.0000e-04\n",
            "Epoch 78/100\n",
            "7/7 [==============================] - ETA: 0s - loss: 0.2523 - accuracy: 0.8930\n",
            "Epoch 00078: val_accuracy did not improve from 0.91111\n",
            "7/7 [==============================] - 41s 6s/step - loss: 0.2523 - accuracy: 0.8930 - val_loss: 0.8986 - val_accuracy: 0.6667 - lr: 3.0000e-04\n",
            "Epoch 79/100\n",
            "7/7 [==============================] - ETA: 0s - loss: 0.2514 - accuracy: 0.8884\n",
            "Epoch 00079: val_accuracy did not improve from 0.91111\n",
            "7/7 [==============================] - 41s 6s/step - loss: 0.2514 - accuracy: 0.8884 - val_loss: 1.2659 - val_accuracy: 0.6667 - lr: 3.0000e-04\n",
            "Epoch 80/100\n",
            "7/7 [==============================] - ETA: 0s - loss: 0.2309 - accuracy: 0.9116\n",
            "Epoch 00080: val_accuracy did not improve from 0.91111\n",
            "7/7 [==============================] - 41s 6s/step - loss: 0.2309 - accuracy: 0.9116 - val_loss: 0.6408 - val_accuracy: 0.8000 - lr: 3.0000e-04\n",
            "Epoch 81/100\n",
            "7/7 [==============================] - ETA: 0s - loss: 0.1856 - accuracy: 0.9488\n",
            "Epoch 00081: val_accuracy did not improve from 0.91111\n",
            "7/7 [==============================] - 41s 6s/step - loss: 0.1856 - accuracy: 0.9488 - val_loss: 0.9703 - val_accuracy: 0.6667 - lr: 3.0000e-04\n",
            "Epoch 82/100\n",
            "7/7 [==============================] - ETA: 0s - loss: 0.2183 - accuracy: 0.9256\n",
            "Epoch 00082: val_accuracy did not improve from 0.91111\n",
            "7/7 [==============================] - 41s 6s/step - loss: 0.2183 - accuracy: 0.9256 - val_loss: 0.9388 - val_accuracy: 0.7111 - lr: 3.0000e-04\n",
            "Epoch 83/100\n",
            "7/7 [==============================] - ETA: 0s - loss: 0.1769 - accuracy: 0.9349\n",
            "Epoch 00083: val_accuracy did not improve from 0.91111\n",
            "7/7 [==============================] - 41s 6s/step - loss: 0.1769 - accuracy: 0.9349 - val_loss: 0.2671 - val_accuracy: 0.8444 - lr: 3.0000e-04\n",
            "Epoch 84/100\n",
            "7/7 [==============================] - ETA: 0s - loss: 0.1947 - accuracy: 0.9256\n",
            "Epoch 00084: val_accuracy did not improve from 0.91111\n",
            "7/7 [==============================] - 41s 6s/step - loss: 0.1947 - accuracy: 0.9256 - val_loss: 0.2583 - val_accuracy: 0.8667 - lr: 3.0000e-04\n",
            "Epoch 85/100\n",
            "7/7 [==============================] - ETA: 0s - loss: 0.2024 - accuracy: 0.9209\n",
            "Epoch 00085: val_accuracy did not improve from 0.91111\n",
            "7/7 [==============================] - 41s 6s/step - loss: 0.2024 - accuracy: 0.9209 - val_loss: 0.3220 - val_accuracy: 0.8444 - lr: 3.0000e-04\n",
            "Epoch 86/100\n",
            "7/7 [==============================] - ETA: 0s - loss: 0.2271 - accuracy: 0.9070\n",
            "Epoch 00086: val_accuracy did not improve from 0.91111\n",
            "7/7 [==============================] - 41s 6s/step - loss: 0.2271 - accuracy: 0.9070 - val_loss: 0.7223 - val_accuracy: 0.7111 - lr: 3.0000e-04\n",
            "Epoch 87/100\n",
            "7/7 [==============================] - ETA: 0s - loss: 0.2346 - accuracy: 0.8977\n",
            "Epoch 00087: val_accuracy did not improve from 0.91111\n",
            "7/7 [==============================] - 41s 6s/step - loss: 0.2346 - accuracy: 0.8977 - val_loss: 1.3038 - val_accuracy: 0.6444 - lr: 3.0000e-04\n",
            "Epoch 88/100\n",
            "7/7 [==============================] - ETA: 0s - loss: 0.1794 - accuracy: 0.9302\n",
            "Epoch 00088: val_accuracy did not improve from 0.91111\n",
            "7/7 [==============================] - 41s 6s/step - loss: 0.1794 - accuracy: 0.9302 - val_loss: 1.6816 - val_accuracy: 0.6444 - lr: 3.0000e-04\n",
            "Epoch 89/100\n",
            "7/7 [==============================] - ETA: 0s - loss: 0.2147 - accuracy: 0.9256\n",
            "Epoch 00089: val_accuracy did not improve from 0.91111\n",
            "7/7 [==============================] - 41s 6s/step - loss: 0.2147 - accuracy: 0.9256 - val_loss: 0.8471 - val_accuracy: 0.7556 - lr: 3.0000e-04\n",
            "Epoch 90/100\n",
            "7/7 [==============================] - ETA: 0s - loss: 0.2657 - accuracy: 0.8977\n",
            "Epoch 00090: val_accuracy did not improve from 0.91111\n",
            "7/7 [==============================] - 41s 6s/step - loss: 0.2657 - accuracy: 0.8977 - val_loss: 0.3245 - val_accuracy: 0.8889 - lr: 3.0000e-04\n",
            "Epoch 91/100\n",
            "7/7 [==============================] - ETA: 0s - loss: 0.2192 - accuracy: 0.9256\n",
            "Epoch 00091: val_accuracy did not improve from 0.91111\n",
            "7/7 [==============================] - 41s 6s/step - loss: 0.2192 - accuracy: 0.9256 - val_loss: 0.2356 - val_accuracy: 0.8889 - lr: 3.0000e-04\n",
            "Epoch 92/100\n",
            "7/7 [==============================] - ETA: 0s - loss: 0.2265 - accuracy: 0.9116\n",
            "Epoch 00092: val_accuracy did not improve from 0.91111\n",
            "7/7 [==============================] - 41s 6s/step - loss: 0.2265 - accuracy: 0.9116 - val_loss: 0.2007 - val_accuracy: 0.9111 - lr: 3.0000e-04\n",
            "Epoch 93/100\n",
            "7/7 [==============================] - ETA: 0s - loss: 0.2068 - accuracy: 0.9070\n",
            "Epoch 00093: val_accuracy improved from 0.91111 to 0.95556, saving model to best_model.h5\n",
            "7/7 [==============================] - 49s 7s/step - loss: 0.2068 - accuracy: 0.9070 - val_loss: 0.1247 - val_accuracy: 0.9556 - lr: 3.0000e-04\n",
            "Epoch 94/100\n",
            "7/7 [==============================] - ETA: 0s - loss: 0.1540 - accuracy: 0.9442\n",
            "Epoch 00094: val_accuracy did not improve from 0.95556\n",
            "7/7 [==============================] - 42s 6s/step - loss: 0.1540 - accuracy: 0.9442 - val_loss: 0.6138 - val_accuracy: 0.7778 - lr: 3.0000e-04\n",
            "Epoch 95/100\n",
            "7/7 [==============================] - ETA: 0s - loss: 0.2288 - accuracy: 0.9116\n",
            "Epoch 00095: val_accuracy did not improve from 0.95556\n",
            "7/7 [==============================] - 41s 6s/step - loss: 0.2288 - accuracy: 0.9116 - val_loss: 1.2595 - val_accuracy: 0.7333 - lr: 3.0000e-04\n",
            "Epoch 96/100\n",
            "7/7 [==============================] - ETA: 0s - loss: 0.1795 - accuracy: 0.9302\n",
            "Epoch 00096: val_accuracy did not improve from 0.95556\n",
            "7/7 [==============================] - 41s 6s/step - loss: 0.1795 - accuracy: 0.9302 - val_loss: 0.3020 - val_accuracy: 0.8444 - lr: 3.0000e-04\n",
            "Epoch 97/100\n",
            "7/7 [==============================] - ETA: 0s - loss: 0.1905 - accuracy: 0.9256\n",
            "Epoch 00097: val_accuracy did not improve from 0.95556\n",
            "7/7 [==============================] - 41s 6s/step - loss: 0.1905 - accuracy: 0.9256 - val_loss: 0.6991 - val_accuracy: 0.7556 - lr: 3.0000e-04\n",
            "Epoch 98/100\n",
            "7/7 [==============================] - ETA: 0s - loss: 0.2457 - accuracy: 0.8977\n",
            "Epoch 00098: val_accuracy did not improve from 0.95556\n",
            "7/7 [==============================] - 41s 6s/step - loss: 0.2457 - accuracy: 0.8977 - val_loss: 2.9089 - val_accuracy: 0.6444 - lr: 3.0000e-04\n",
            "Epoch 99/100\n",
            "7/7 [==============================] - ETA: 0s - loss: 0.2482 - accuracy: 0.8977\n",
            "Epoch 00099: val_accuracy did not improve from 0.95556\n",
            "7/7 [==============================] - 41s 6s/step - loss: 0.2482 - accuracy: 0.8977 - val_loss: 1.7195 - val_accuracy: 0.5778 - lr: 3.0000e-04\n",
            "Epoch 100/100\n",
            "7/7 [==============================] - ETA: 0s - loss: 0.2724 - accuracy: 0.8791\n",
            "Epoch 00100: val_accuracy did not improve from 0.95556\n",
            "7/7 [==============================] - 41s 6s/step - loss: 0.2724 - accuracy: 0.8791 - val_loss: 2.0825 - val_accuracy: 0.5556 - lr: 3.0000e-04\n",
            "training time:  5856.201587200165 s\n"
          ]
        }
      ]
    },
    {
      "cell_type": "code",
      "metadata": {
        "id": "52IYepPs0zRm"
      },
      "source": [
        "# IMPORT SEMUA PAKET YANG ANDA PERLUKAN UNTUK MENGEVALUASI MODEL DISINI\n",
        "\n",
        "%matplotlib inline\n",
        "\n",
        "import matplotlib.pyplot as plt\n",
        "import numpy as np\n",
        "from keras.models import load_model\n",
        "from sklearn.metrics import classification_report, confusion_matrix\n",
        "from google.colab import files"
      ],
      "execution_count": 22,
      "outputs": []
    },
    {
      "cell_type": "code",
      "metadata": {
        "colab": {
          "base_uri": "https://localhost:8080/"
        },
        "id": "NXAJQ4yD0ZQm",
        "outputId": "b184232c-bc61-468f-8034-32a63cf4a3c0"
      },
      "source": [
        "# TULIS CODE UNTUK EVALUASI MODEL DISINI\n",
        "\n",
        "# model.load_weights(best_model_path)\n",
        "\n",
        "ypred = model.predict(test_gen)\n",
        "prediction = np.argmax(ypred, axis=1)\n",
        "print(classification_report(test_gen.classes, prediction))"
      ],
      "execution_count": 23,
      "outputs": [
        {
          "output_type": "stream",
          "name": "stdout",
          "text": [
            "              precision    recall  f1-score   support\n",
            "\n",
            "           0       0.55      1.00      0.71        21\n",
            "           1       1.00      0.07      0.12        15\n",
            "           2       0.92      0.73      0.81        15\n",
            "\n",
            "    accuracy                           0.65        51\n",
            "   macro avg       0.82      0.60      0.55        51\n",
            "weighted avg       0.79      0.65      0.57        51\n",
            "\n"
          ]
        }
      ]
    },
    {
      "cell_type": "code",
      "metadata": {
        "colab": {
          "base_uri": "https://localhost:8080/",
          "height": 379
        },
        "id": "nOK7rBq90aNH",
        "outputId": "1ba8c47d-4c27-48ff-b41b-760e5ce37158"
      },
      "source": [
        "import itertools\n",
        "def plot_confusion_matrix(cm, classes,\n",
        "                          normalize=False,\n",
        "                          title='Confusion matrix',\n",
        "                          cmap=plt.cm.Blues):\n",
        "    if normalize:\n",
        "        cm = cm.astype('float') / cm.sum(axis=1)[:, np.newaxis]\n",
        "        print(\"Normalized confusion matrix\")\n",
        "    else:\n",
        "        print('Confusion matrix, without normalization')\n",
        "\n",
        "    print(cm)\n",
        "\n",
        "    plt.imshow(cm, interpolation='nearest', cmap=cmap)\n",
        "    plt.title(title)\n",
        "    plt.colorbar()\n",
        "    tick_marks = np.arange(len(classes))\n",
        "    plt.xticks(tick_marks, classes, rotation=45)\n",
        "    plt.yticks(tick_marks, classes)\n",
        "\n",
        "    fmt = '.2f' if normalize else 'd'\n",
        "    thresh = cm.max() / 2.\n",
        "    for i, j in itertools.product(range(cm.shape[0]), range(cm.shape[1])):\n",
        "        plt.text(j, i, format(cm[i, j], fmt),\n",
        "                 horizontalalignment=\"center\",\n",
        "                 color=\"white\" if cm[i, j] > thresh else \"black\")\n",
        "\n",
        "    plt.tight_layout()\n",
        "    plt.ylabel('Actual')\n",
        "    plt.xlabel('Predicted')\n",
        "\n",
        "cnf_matrix=confusion_matrix(test_gen.classes,prediction)\n",
        "plot_confusion_matrix(cnf_matrix, classes=test_gen.class_indices)"
      ],
      "execution_count": 24,
      "outputs": [
        {
          "output_type": "stream",
          "name": "stdout",
          "text": [
            "Confusion matrix, without normalization\n",
            "[[21  0  0]\n",
            " [13  1  1]\n",
            " [ 4  0 11]]\n"
          ]
        },
        {
          "output_type": "display_data",
          "data": {
            "image/png": "[encoded data removed]",
            "text/plain": [
              "<Figure size 432x288 with 2 Axes>"
            ]
          },
          "metadata": {
            "needs_background": "light"
          }
        }
      ]
    },
    {
      "cell_type": "code",
      "metadata": {
        "colab": {
          "base_uri": "https://localhost:8080/",
          "height": 581
        },
        "id": "u02Ti17p1IOi",
        "outputId": "c7e9eff7-e273-4a7d-bda2-ada2183875b1"
      },
      "source": [
        "# TULIS CODE UNTUK PLOT EVALUASI MODEL DISINI\n",
        "\n",
        "plt.style.use(\"ggplot\")\n",
        "\n",
        "plt.plot(np.arange(0, 100), H.history[\"loss\"], label=\"train_loss\")\n",
        "plt.plot(np.arange(0, 100), H.history[\"val_loss\"], label=\"val_loss\")\n",
        "plt.title(\"Loss Plot\")\n",
        "plt.xlabel(\"Epoch #\")\n",
        "plt.ylabel(\"Loss\")\n",
        "plt.show()\n",
        "\n",
        "plt.plot(np.arange(0, 100), H.history[\"accuracy\"], label=\"train_acc\")\n",
        "plt.plot(np.arange(0, 100), H.history[\"val_accuracy\"], label=\"val_acc\")\n",
        "plt.title(\"Accuracy Plot\")\n",
        "plt.xlabel(\"Epoch #\")\n",
        "plt.ylabel(\"Accuracy\")\n",
        "plt.legend()\n",
        "plt.show()"
      ],
      "execution_count": 25,
      "outputs": [
        {
          "output_type": "display_data",
          "data": {
            "image/png": "[encoded data removed]",
            "text/plain": [
              "<Figure size 432x288 with 1 Axes>"
            ]
          },
          "metadata": {}
        },
        {
          "output_type": "display_data",
          "data": {
            "image/png": "[encoded data removed]",
            "text/plain": [
              "<Figure size 432x288 with 1 Axes>"
            ]
          },
          "metadata": {}
        }
      ]
    },
    {
      "cell_type": "code",
      "metadata": {
        "id": "H9VhjUrY1Uz7"
      },
      "source": [
        ""
      ],
      "execution_count": null,
      "outputs": []
    }
  ]
}